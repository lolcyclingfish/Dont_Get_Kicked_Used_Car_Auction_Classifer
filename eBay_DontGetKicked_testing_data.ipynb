{
 "cells": [
  {
   "cell_type": "markdown",
   "metadata": {},
   "source": [
    "# Ebay Don't Get Kicked Prediction \n",
    "\n",
    "- prepare testing data and output to local .csv file\n",
    "- read in prepared testing data into model_trained.ipynb and test the model"
   ]
  },
  {
   "cell_type": "raw",
   "metadata": {},
   "source": [
    "Data Dictionary:\n",
    "\n",
    "Field Name\t\t\t\tDefinition\n",
    "RefID\t\t\t\t    Unique (sequential) number assigned to vehicles\n",
    "IsBadBuy\t\t\t\tIdentifies if the kicked vehicle was an avoidable purchase \n",
    "PurchDate\t\t\t\tThe Date the vehicle was Purchased at Auction\n",
    "Auction\t\t\t\t\tAuction provider at which the vehicle was purchased\n",
    "VehYear\t\t\t\t\tThe manufacturer's year of the vehicle\n",
    "VehicleAge\t\t\t\tThe Years elapsed since the manufacturer's year\n",
    "Make\t\t\t\t\tVehicle Manufacturer \n",
    "Model\t\t\t\t\tVehicle Model\n",
    "Trim\t\t\t\t\tVehicle Trim Level\n",
    "SubModel\t\t\t\tVehicle Submodel\n",
    "Color\t\t\t\t\tVehicle Color\n",
    "Transmission\t        Vehicles transmission type (Automatic, Manual)\n",
    "WheelTypeID\t\t\t\tThe type id of the vehicle wheel\n",
    "WheelType\t\t\t\tThe vehicle wheel type description (Alloy, Covers)\n",
    "VehOdo\t\t\t\t\tThe vehicles odometer reading\n",
    "Nationality\t\t\t\tThe Manufacturer's country\n",
    "Size\t\t\t\t\tThe size category of the vehicle (Compact, SUV, etc.)\n",
    "TopThreeAmericanName\t\t\tIdentifies if the manufacturer is one of the top three American manufacturers\n",
    "MMRAcquisitionAuctionAveragePrice\tAcquisition price for this vehicle in average condition at time of purchase\t\n",
    "MMRAcquisitionAuctionCleanPrice\t\tAcquisition price for this vehicle in the above Average condition at time of purchase\n",
    "MMRAcquisitionRetailAveragePrice\tAcquisition price for this vehicle in the retail market in average condition at time of purchase\n",
    "MMRAcquisitonRetailCleanPrice\t\tAcquisition price for this vehicle in the retail market in above average condition at time of purchase\n",
    "MMRCurrentAuctionAveragePrice\t\tAcquisition price for this vehicle in average condition as of current day\t\n",
    "MMRCurrentAuctionCleanPrice\t\tAcquisition price for this vehicle in the above condition as of current day\n",
    "MMRCurrentRetailAveragePrice\t\tAcquisition price for this vehicle in the retail market in average condition as of current day\n",
    "MMRCurrentRetailCleanPrice\t\tAcquisition price for this vehicle in the retail market in above average condition as of current day\n",
    "PRIMEUNIT\t\t\t\tIdentifies if the vehicle would have a higher demand than a standard purchase\n",
    "AcquisitionType\t\t\t\tIdentifies how the vehicle was aquired (Auction buy, trade in, etc)\n",
    "AUCGUART\t\t\t\tThe level guarntee provided by auction for the vehicle (Green light - Guaranteed/arbitratable, Yellow Light - caution/issue, red light - sold as is)\n",
    "KickDate\t\t\t\tDate the vehicle was kicked back to the auction\n",
    "BYRNO\t\t\t\t\tUnique number assigned to the buyer that purchased the vehicle\n",
    "VNZIP                                   Zipcode where the car was purchased\n",
    "VNST                                    State where the the car was purchased\n",
    "VehBCost\t\t\t\tAcquisition cost paid for the vehicle at time of purchase\n",
    "IsOnlineSale\t\t\t\tIdentifies if the vehicle was originally purchased online\n",
    "WarrantyCost                            Warranty price (term=36month  and millage=36K) "
   ]
  },
  {
   "cell_type": "code",
   "execution_count": 33,
   "metadata": {
    "collapsed": true
   },
   "outputs": [],
   "source": [
    "import numpy as np\n",
    "import pandas as pd\n",
    "import matplotlib.pyplot as plt\n",
    "#enable IPython to display matplotlib graphs\n",
    "%matplotlib inline\n",
    "import csv"
   ]
  },
  {
   "cell_type": "code",
   "execution_count": 34,
   "metadata": {
    "collapsed": false,
    "scrolled": true
   },
   "outputs": [
    {
     "data": {
      "text/html": [
       "<div>\n",
       "<table border=\"1\" class=\"dataframe\">\n",
       "  <thead>\n",
       "    <tr style=\"text-align: right;\">\n",
       "      <th></th>\n",
       "      <th>RefId</th>\n",
       "      <th>PurchDate</th>\n",
       "      <th>Auction</th>\n",
       "      <th>VehYear</th>\n",
       "      <th>VehicleAge</th>\n",
       "      <th>Make</th>\n",
       "      <th>Model</th>\n",
       "      <th>Trim</th>\n",
       "      <th>SubModel</th>\n",
       "      <th>Color</th>\n",
       "      <th>...</th>\n",
       "      <th>MMRCurrentRetailAveragePrice</th>\n",
       "      <th>MMRCurrentRetailCleanPrice</th>\n",
       "      <th>PRIMEUNIT</th>\n",
       "      <th>AUCGUART</th>\n",
       "      <th>BYRNO</th>\n",
       "      <th>VNZIP1</th>\n",
       "      <th>VNST</th>\n",
       "      <th>VehBCost</th>\n",
       "      <th>IsOnlineSale</th>\n",
       "      <th>WarrantyCost</th>\n",
       "    </tr>\n",
       "  </thead>\n",
       "  <tbody>\n",
       "    <tr>\n",
       "      <th>0</th>\n",
       "      <td>73015</td>\n",
       "      <td>12/2/2009</td>\n",
       "      <td>ADESA</td>\n",
       "      <td>2005</td>\n",
       "      <td>4</td>\n",
       "      <td>PONTIAC</td>\n",
       "      <td>GRAND PRIX</td>\n",
       "      <td>Bas</td>\n",
       "      <td>4D SEDAN</td>\n",
       "      <td>SILVER</td>\n",
       "      <td>...</td>\n",
       "      <td>8557.0</td>\n",
       "      <td>9752.0</td>\n",
       "      <td>NaN</td>\n",
       "      <td>NaN</td>\n",
       "      <td>18881</td>\n",
       "      <td>30212</td>\n",
       "      <td>GA</td>\n",
       "      <td>6500.0</td>\n",
       "      <td>0</td>\n",
       "      <td>2152</td>\n",
       "    </tr>\n",
       "    <tr>\n",
       "      <th>1</th>\n",
       "      <td>73016</td>\n",
       "      <td>12/2/2009</td>\n",
       "      <td>ADESA</td>\n",
       "      <td>2005</td>\n",
       "      <td>4</td>\n",
       "      <td>CHEVROLET</td>\n",
       "      <td>MALIBU V6</td>\n",
       "      <td>LS</td>\n",
       "      <td>4D SEDAN LS</td>\n",
       "      <td>SILVER</td>\n",
       "      <td>...</td>\n",
       "      <td>7562.0</td>\n",
       "      <td>9296.0</td>\n",
       "      <td>NaN</td>\n",
       "      <td>NaN</td>\n",
       "      <td>18111</td>\n",
       "      <td>30212</td>\n",
       "      <td>GA</td>\n",
       "      <td>6300.0</td>\n",
       "      <td>0</td>\n",
       "      <td>1118</td>\n",
       "    </tr>\n",
       "    <tr>\n",
       "      <th>2</th>\n",
       "      <td>73017</td>\n",
       "      <td>12/2/2009</td>\n",
       "      <td>ADESA</td>\n",
       "      <td>2006</td>\n",
       "      <td>3</td>\n",
       "      <td>DODGE</td>\n",
       "      <td>DURANGO 2WD V8</td>\n",
       "      <td>Adv</td>\n",
       "      <td>4D SUV 4.7L ADVENTURER</td>\n",
       "      <td>SILVER</td>\n",
       "      <td>...</td>\n",
       "      <td>15340.0</td>\n",
       "      <td>16512.0</td>\n",
       "      <td>NaN</td>\n",
       "      <td>NaN</td>\n",
       "      <td>18111</td>\n",
       "      <td>30212</td>\n",
       "      <td>GA</td>\n",
       "      <td>9700.0</td>\n",
       "      <td>0</td>\n",
       "      <td>1215</td>\n",
       "    </tr>\n",
       "    <tr>\n",
       "      <th>3</th>\n",
       "      <td>73018</td>\n",
       "      <td>12/2/2009</td>\n",
       "      <td>ADESA</td>\n",
       "      <td>2002</td>\n",
       "      <td>7</td>\n",
       "      <td>SATURN</td>\n",
       "      <td>L SERIES</td>\n",
       "      <td>L20</td>\n",
       "      <td>4D SEDAN L200</td>\n",
       "      <td>GOLD</td>\n",
       "      <td>...</td>\n",
       "      <td>5725.0</td>\n",
       "      <td>6398.0</td>\n",
       "      <td>NaN</td>\n",
       "      <td>NaN</td>\n",
       "      <td>18881</td>\n",
       "      <td>30212</td>\n",
       "      <td>GA</td>\n",
       "      <td>4150.0</td>\n",
       "      <td>0</td>\n",
       "      <td>1933</td>\n",
       "    </tr>\n",
       "    <tr>\n",
       "      <th>4</th>\n",
       "      <td>73019</td>\n",
       "      <td>12/2/2009</td>\n",
       "      <td>ADESA</td>\n",
       "      <td>2007</td>\n",
       "      <td>2</td>\n",
       "      <td>HYUNDAI</td>\n",
       "      <td>ACCENT</td>\n",
       "      <td>GS</td>\n",
       "      <td>2D COUPE GS</td>\n",
       "      <td>BLUE</td>\n",
       "      <td>...</td>\n",
       "      <td>5914.0</td>\n",
       "      <td>7350.0</td>\n",
       "      <td>NaN</td>\n",
       "      <td>NaN</td>\n",
       "      <td>18111</td>\n",
       "      <td>30212</td>\n",
       "      <td>GA</td>\n",
       "      <td>4100.0</td>\n",
       "      <td>0</td>\n",
       "      <td>920</td>\n",
       "    </tr>\n",
       "    <tr>\n",
       "      <th>5</th>\n",
       "      <td>73020</td>\n",
       "      <td>12/2/2009</td>\n",
       "      <td>ADESA</td>\n",
       "      <td>2006</td>\n",
       "      <td>3</td>\n",
       "      <td>DODGE</td>\n",
       "      <td>STRATUS 4C</td>\n",
       "      <td>SXT</td>\n",
       "      <td>4D SEDAN</td>\n",
       "      <td>GREEN</td>\n",
       "      <td>...</td>\n",
       "      <td>7118.0</td>\n",
       "      <td>8102.0</td>\n",
       "      <td>NaN</td>\n",
       "      <td>NaN</td>\n",
       "      <td>18881</td>\n",
       "      <td>30212</td>\n",
       "      <td>GA</td>\n",
       "      <td>4200.0</td>\n",
       "      <td>0</td>\n",
       "      <td>1341</td>\n",
       "    </tr>\n",
       "    <tr>\n",
       "      <th>6</th>\n",
       "      <td>73021</td>\n",
       "      <td>12/2/2009</td>\n",
       "      <td>ADESA</td>\n",
       "      <td>2006</td>\n",
       "      <td>3</td>\n",
       "      <td>FORD</td>\n",
       "      <td>EXPLORER 2WD V6</td>\n",
       "      <td>XLS</td>\n",
       "      <td>4D SUV 4.0L XLS</td>\n",
       "      <td>BROWN</td>\n",
       "      <td>...</td>\n",
       "      <td>13679.0</td>\n",
       "      <td>14650.0</td>\n",
       "      <td>NaN</td>\n",
       "      <td>NaN</td>\n",
       "      <td>18881</td>\n",
       "      <td>30212</td>\n",
       "      <td>GA</td>\n",
       "      <td>8500.0</td>\n",
       "      <td>0</td>\n",
       "      <td>1155</td>\n",
       "    </tr>\n",
       "    <tr>\n",
       "      <th>7</th>\n",
       "      <td>73022</td>\n",
       "      <td>12/2/2009</td>\n",
       "      <td>ADESA</td>\n",
       "      <td>2003</td>\n",
       "      <td>6</td>\n",
       "      <td>CHRYSLER</td>\n",
       "      <td>PT CRUISER</td>\n",
       "      <td>Tou</td>\n",
       "      <td>4D SEDAN LIMITED</td>\n",
       "      <td>BLUE</td>\n",
       "      <td>...</td>\n",
       "      <td>6912.0</td>\n",
       "      <td>7734.0</td>\n",
       "      <td>NaN</td>\n",
       "      <td>NaN</td>\n",
       "      <td>18881</td>\n",
       "      <td>30212</td>\n",
       "      <td>GA</td>\n",
       "      <td>4100.0</td>\n",
       "      <td>0</td>\n",
       "      <td>1689</td>\n",
       "    </tr>\n",
       "    <tr>\n",
       "      <th>8</th>\n",
       "      <td>73023</td>\n",
       "      <td>12/2/2009</td>\n",
       "      <td>ADESA</td>\n",
       "      <td>2005</td>\n",
       "      <td>4</td>\n",
       "      <td>CHEVROLET</td>\n",
       "      <td>MALIBU 4C</td>\n",
       "      <td>Bas</td>\n",
       "      <td>4D SEDAN</td>\n",
       "      <td>SILVER</td>\n",
       "      <td>...</td>\n",
       "      <td>7412.0</td>\n",
       "      <td>8507.0</td>\n",
       "      <td>NaN</td>\n",
       "      <td>NaN</td>\n",
       "      <td>18111</td>\n",
       "      <td>30212</td>\n",
       "      <td>GA</td>\n",
       "      <td>5900.0</td>\n",
       "      <td>0</td>\n",
       "      <td>764</td>\n",
       "    </tr>\n",
       "    <tr>\n",
       "      <th>9</th>\n",
       "      <td>73024</td>\n",
       "      <td>12/2/2009</td>\n",
       "      <td>ADESA</td>\n",
       "      <td>2006</td>\n",
       "      <td>3</td>\n",
       "      <td>CHRYSLER</td>\n",
       "      <td>TOWN &amp; COUNTRY FWD V</td>\n",
       "      <td>Tou</td>\n",
       "      <td>MINIVAN 3.8L</td>\n",
       "      <td>WHITE</td>\n",
       "      <td>...</td>\n",
       "      <td>13162.0</td>\n",
       "      <td>15506.0</td>\n",
       "      <td>NaN</td>\n",
       "      <td>NaN</td>\n",
       "      <td>18111</td>\n",
       "      <td>30212</td>\n",
       "      <td>GA</td>\n",
       "      <td>6700.0</td>\n",
       "      <td>0</td>\n",
       "      <td>1623</td>\n",
       "    </tr>\n",
       "  </tbody>\n",
       "</table>\n",
       "<p>10 rows × 33 columns</p>\n",
       "</div>"
      ],
      "text/plain": [
       "   RefId  PurchDate Auction  VehYear  VehicleAge       Make  \\\n",
       "0  73015  12/2/2009   ADESA     2005           4    PONTIAC   \n",
       "1  73016  12/2/2009   ADESA     2005           4  CHEVROLET   \n",
       "2  73017  12/2/2009   ADESA     2006           3      DODGE   \n",
       "3  73018  12/2/2009   ADESA     2002           7     SATURN   \n",
       "4  73019  12/2/2009   ADESA     2007           2    HYUNDAI   \n",
       "5  73020  12/2/2009   ADESA     2006           3      DODGE   \n",
       "6  73021  12/2/2009   ADESA     2006           3       FORD   \n",
       "7  73022  12/2/2009   ADESA     2003           6   CHRYSLER   \n",
       "8  73023  12/2/2009   ADESA     2005           4  CHEVROLET   \n",
       "9  73024  12/2/2009   ADESA     2006           3   CHRYSLER   \n",
       "\n",
       "                  Model Trim                SubModel   Color      ...       \\\n",
       "0            GRAND PRIX  Bas                4D SEDAN  SILVER      ...        \n",
       "1             MALIBU V6   LS             4D SEDAN LS  SILVER      ...        \n",
       "2        DURANGO 2WD V8  Adv  4D SUV 4.7L ADVENTURER  SILVER      ...        \n",
       "3              L SERIES  L20           4D SEDAN L200    GOLD      ...        \n",
       "4                ACCENT   GS             2D COUPE GS    BLUE      ...        \n",
       "5            STRATUS 4C  SXT                4D SEDAN   GREEN      ...        \n",
       "6       EXPLORER 2WD V6  XLS         4D SUV 4.0L XLS   BROWN      ...        \n",
       "7            PT CRUISER  Tou        4D SEDAN LIMITED    BLUE      ...        \n",
       "8             MALIBU 4C  Bas                4D SEDAN  SILVER      ...        \n",
       "9  TOWN & COUNTRY FWD V  Tou            MINIVAN 3.8L   WHITE      ...        \n",
       "\n",
       "  MMRCurrentRetailAveragePrice  MMRCurrentRetailCleanPrice PRIMEUNIT  \\\n",
       "0                       8557.0                      9752.0       NaN   \n",
       "1                       7562.0                      9296.0       NaN   \n",
       "2                      15340.0                     16512.0       NaN   \n",
       "3                       5725.0                      6398.0       NaN   \n",
       "4                       5914.0                      7350.0       NaN   \n",
       "5                       7118.0                      8102.0       NaN   \n",
       "6                      13679.0                     14650.0       NaN   \n",
       "7                       6912.0                      7734.0       NaN   \n",
       "8                       7412.0                      8507.0       NaN   \n",
       "9                      13162.0                     15506.0       NaN   \n",
       "\n",
       "   AUCGUART  BYRNO VNZIP1 VNST  VehBCost  IsOnlineSale  WarrantyCost  \n",
       "0       NaN  18881  30212   GA    6500.0             0          2152  \n",
       "1       NaN  18111  30212   GA    6300.0             0          1118  \n",
       "2       NaN  18111  30212   GA    9700.0             0          1215  \n",
       "3       NaN  18881  30212   GA    4150.0             0          1933  \n",
       "4       NaN  18111  30212   GA    4100.0             0           920  \n",
       "5       NaN  18881  30212   GA    4200.0             0          1341  \n",
       "6       NaN  18881  30212   GA    8500.0             0          1155  \n",
       "7       NaN  18881  30212   GA    4100.0             0          1689  \n",
       "8       NaN  18111  30212   GA    5900.0             0           764  \n",
       "9       NaN  18111  30212   GA    6700.0             0          1623  \n",
       "\n",
       "[10 rows x 33 columns]"
      ]
     },
     "execution_count": 34,
     "metadata": {},
     "output_type": "execute_result"
    }
   ],
   "source": [
    "#read in testing data\n",
    "data=pd.read_csv('test.csv')\n",
    "data.head(10)"
   ]
  },
  {
   "cell_type": "code",
   "execution_count": 35,
   "metadata": {
    "collapsed": false
   },
   "outputs": [
    {
     "data": {
      "text/plain": [
       "(48707, 33)"
      ]
     },
     "execution_count": 35,
     "metadata": {},
     "output_type": "execute_result"
    }
   ],
   "source": [
    "data.shape #72983"
   ]
  },
  {
   "cell_type": "code",
   "execution_count": 36,
   "metadata": {
    "collapsed": false
   },
   "outputs": [
    {
     "data": {
      "text/plain": [
       "Index(['RefId', 'PurchDate', 'Auction', 'VehYear', 'VehicleAge', 'Make',\n",
       "       'Model', 'Trim', 'SubModel', 'Color', 'Transmission', 'WheelTypeID',\n",
       "       'WheelType', 'VehOdo', 'Nationality', 'Size', 'TopThreeAmericanName',\n",
       "       'MMRAcquisitionAuctionAveragePrice', 'MMRAcquisitionAuctionCleanPrice',\n",
       "       'MMRAcquisitionRetailAveragePrice', 'MMRAcquisitonRetailCleanPrice',\n",
       "       'MMRCurrentAuctionAveragePrice', 'MMRCurrentAuctionCleanPrice',\n",
       "       'MMRCurrentRetailAveragePrice', 'MMRCurrentRetailCleanPrice',\n",
       "       'PRIMEUNIT', 'AUCGUART', 'BYRNO', 'VNZIP1', 'VNST', 'VehBCost',\n",
       "       'IsOnlineSale', 'WarrantyCost'],\n",
       "      dtype='object')"
      ]
     },
     "execution_count": 36,
     "metadata": {},
     "output_type": "execute_result"
    }
   ],
   "source": [
    "data.columns"
   ]
  },
  {
   "cell_type": "markdown",
   "metadata": {},
   "source": [
    "## Variable check up:\n",
    "- response variable: 'IsBadBuy'\n",
    "- index: 'Refld'\n",
    "- numeric variables: 'VehicleAge','VehOdo', 'MMRAcquisitionAuctionAveragePrice','MMRAcquisitionAuctionCleanPrice', 'MMRAcquisitionRetailAveragePrice', 'MMRAcquisitonRetailCleanPrice', 'MMRCurrentAuctionAveragePrice', 'MMRCurrentAuctionCleanPrice', 'MMRCurrentRetailAveragePrice', 'MMRCurrentRetailCleanPrice','VehBCost','WarrantyCost'\n",
    "- binary variables: 'Transmission','PRIMEUNIT','IsOnlineSale'\n",
    "- multi-categorical variables: 'PurchDate','Auction','VehYear', 'Make', 'Model', 'Trim', 'SubModel', 'Color', 'WheelTypeID', 'Nationality', 'Size', 'TopThreeAmericanName', 'AUCGUART','BYRNO','VNZIP1', 'VNST'"
   ]
  },
  {
   "cell_type": "code",
   "execution_count": 37,
   "metadata": {
    "collapsed": false
   },
   "outputs": [
    {
     "data": {
      "text/plain": [
       "19638    2972\n",
       "5546     2943\n",
       "99761    2374\n",
       "18111    1915\n",
       "20740    1831\n",
       "8655     1819\n",
       "16044    1785\n",
       "18822    1706\n",
       "17675    1696\n",
       "17212    1687\n",
       "19619    1684\n",
       "23359    1599\n",
       "99750    1595\n",
       "18881    1585\n",
       "20833    1535\n",
       "16926    1490\n",
       "20928    1470\n",
       "20207    1444\n",
       "19662    1380\n",
       "21973    1372\n",
       "22808    1342\n",
       "25100    1333\n",
       "18880    1316\n",
       "8172     1162\n",
       "20234    1035\n",
       "22916     798\n",
       "21053     705\n",
       "23657     675\n",
       "835       652\n",
       "52117     495\n",
       "         ... \n",
       "1085       63\n",
       "1031       53\n",
       "1231       45\n",
       "11410      38\n",
       "1045       34\n",
       "18091      23\n",
       "1141       20\n",
       "1081       18\n",
       "1051       15\n",
       "10415      15\n",
       "53245      13\n",
       "1035       12\n",
       "10310      12\n",
       "1121       11\n",
       "1156        9\n",
       "11210       8\n",
       "1125        7\n",
       "10510       6\n",
       "1086        4\n",
       "10425       3\n",
       "53100       3\n",
       "3582        3\n",
       "1041        2\n",
       "1055        2\n",
       "22155       2\n",
       "1152        2\n",
       "10420       1\n",
       "1157        1\n",
       "99791       1\n",
       "99742       1\n",
       "Name: BYRNO, dtype: int64"
      ]
     },
     "execution_count": 37,
     "metadata": {},
     "output_type": "execute_result"
    }
   ],
   "source": [
    "data['BYRNO'].value_counts()"
   ]
  },
  {
   "cell_type": "code",
   "execution_count": 38,
   "metadata": {
    "collapsed": false
   },
   "outputs": [
    {
     "data": {
      "text/plain": [
       "(46288, 33)"
      ]
     },
     "execution_count": 38,
     "metadata": {},
     "output_type": "execute_result"
    }
   ],
   "source": [
    "#rows with missing value check:\n",
    "nan_rows = lambda df: df[df.isnull().any(axis=1)]\n",
    "nan_rows(data).shape #69707 rows have NaNs"
   ]
  },
  {
   "cell_type": "code",
   "execution_count": 39,
   "metadata": {
    "collapsed": false
   },
   "outputs": [
    {
     "data": {
      "text/plain": [
       "['Trim',\n",
       " 'SubModel',\n",
       " 'Color',\n",
       " 'Transmission',\n",
       " 'WheelTypeID',\n",
       " 'WheelType',\n",
       " 'Nationality',\n",
       " 'Size',\n",
       " 'TopThreeAmericanName',\n",
       " 'MMRAcquisitionAuctionAveragePrice',\n",
       " 'MMRAcquisitionAuctionCleanPrice',\n",
       " 'MMRAcquisitionRetailAveragePrice',\n",
       " 'MMRAcquisitonRetailCleanPrice',\n",
       " 'MMRCurrentAuctionAveragePrice',\n",
       " 'MMRCurrentAuctionCleanPrice',\n",
       " 'MMRCurrentRetailAveragePrice',\n",
       " 'MMRCurrentRetailCleanPrice',\n",
       " 'PRIMEUNIT',\n",
       " 'AUCGUART']"
      ]
     },
     "execution_count": 39,
     "metadata": {},
     "output_type": "execute_result"
    }
   ],
   "source": [
    "#columns with missing value check:\n",
    "nan_cols = lambda df: df.columns[df.isnull().any()].tolist()\n",
    "nan_cols(data)"
   ]
  },
  {
   "cell_type": "markdown",
   "metadata": {},
   "source": [
    "## Impute/Transform Missing Values\n",
    "\n",
    "['Trim',\n",
    " 'SubModel',\n",
    " 'Color',\n",
    " 'Transmission',\n",
    " 'WheelTypeID',\n",
    " 'WheelType',\n",
    " 'Nationality',\n",
    " 'Size',\n",
    " 'TopThreeAmericanName',\n",
    " 'MMRAcquisitionAuctionAveragePrice',\n",
    " 'MMRAcquisitionAuctionCleanPrice',\n",
    " 'MMRAcquisitionRetailAveragePrice',\n",
    " 'MMRAcquisitonRetailCleanPrice',\n",
    " 'MMRCurrentAuctionAveragePrice',\n",
    " 'MMRCurrentAuctionCleanPrice',\n",
    " 'MMRCurrentRetailAveragePrice',\n",
    " 'MMRCurrentRetailCleanPrice',\n",
    " 'PRIMEUNIT',\n",
    " 'AUCGUART']"
   ]
  },
  {
   "cell_type": "code",
   "execution_count": 40,
   "metadata": {
    "collapsed": false
   },
   "outputs": [
    {
     "data": {
      "text/plain": [
       "False    47157\n",
       "True      1550\n",
       "Name: Trim, dtype: int64"
      ]
     },
     "execution_count": 40,
     "metadata": {},
     "output_type": "execute_result"
    }
   ],
   "source": [
    "#'Trim' has too many levels and missing values\n",
    "#consider convert into binary variable with 1 for having trim, and 0 for no trim\n",
    "data['Trim'].value_counts()\n",
    "data['Trim'].isnull().value_counts()"
   ]
  },
  {
   "cell_type": "code",
   "execution_count": 41,
   "metadata": {
    "collapsed": false
   },
   "outputs": [
    {
     "data": {
      "text/plain": [
       "1.0    47157\n",
       "0.0     1550\n",
       "Name: Trim2, dtype: int64"
      ]
     },
     "execution_count": 41,
     "metadata": {},
     "output_type": "execute_result"
    }
   ],
   "source": [
    "data.loc[~data['Trim'].isnull(),'Trim2']=1\n",
    "data.loc[data['Trim2'].isnull(),'Trim2']=0\n",
    "data['Trim2'].value_counts()"
   ]
  },
  {
   "cell_type": "code",
   "execution_count": 42,
   "metadata": {
    "collapsed": false
   },
   "outputs": [
    {
     "data": {
      "text/plain": [
       "False    48707\n",
       "Name: SubModel, dtype: int64"
      ]
     },
     "execution_count": 42,
     "metadata": {},
     "output_type": "execute_result"
    }
   ],
   "source": [
    "#flat out to binary variables or 4D, SEDAN, SUB, MINIVAN..\n",
    "data['SubModel'].value_counts().head(150) \n",
    "data['SubModel']=data['SubModel'].astype('category')\n",
    "data['SubModel'].isnull().value_counts() #only 8 missing values, we will impute with top frequent level:\n",
    "data.loc[data['SubModel'].isnull(),'SubModel']='4D SEDAN'\n",
    "data['SubModel'].isnull().value_counts()"
   ]
  },
  {
   "cell_type": "code",
   "execution_count": 43,
   "metadata": {
    "collapsed": false
   },
   "outputs": [
    {
     "data": {
      "text/html": [
       "<div>\n",
       "<table border=\"1\" class=\"dataframe\">\n",
       "  <thead>\n",
       "    <tr style=\"text-align: right;\">\n",
       "      <th></th>\n",
       "      <th>4D</th>\n",
       "      <th>2D</th>\n",
       "      <th>SEDAN</th>\n",
       "      <th>SUV</th>\n",
       "      <th>SPORT</th>\n",
       "      <th>MINIVAN</th>\n",
       "      <th>WAGON</th>\n",
       "      <th>COUPE</th>\n",
       "      <th>PASSENGER</th>\n",
       "      <th>CAB</th>\n",
       "      <th>CONVERTIBLE</th>\n",
       "      <th>UTILITY</th>\n",
       "    </tr>\n",
       "  </thead>\n",
       "  <tbody>\n",
       "    <tr>\n",
       "      <th>0</th>\n",
       "      <td>1.0</td>\n",
       "      <td>0.0</td>\n",
       "      <td>1.0</td>\n",
       "      <td>0.0</td>\n",
       "      <td>0.0</td>\n",
       "      <td>0.0</td>\n",
       "      <td>0.0</td>\n",
       "      <td>0.0</td>\n",
       "      <td>0.0</td>\n",
       "      <td>0.0</td>\n",
       "      <td>0.0</td>\n",
       "      <td>0.0</td>\n",
       "    </tr>\n",
       "    <tr>\n",
       "      <th>1</th>\n",
       "      <td>1.0</td>\n",
       "      <td>0.0</td>\n",
       "      <td>1.0</td>\n",
       "      <td>0.0</td>\n",
       "      <td>0.0</td>\n",
       "      <td>0.0</td>\n",
       "      <td>0.0</td>\n",
       "      <td>0.0</td>\n",
       "      <td>0.0</td>\n",
       "      <td>0.0</td>\n",
       "      <td>0.0</td>\n",
       "      <td>0.0</td>\n",
       "    </tr>\n",
       "    <tr>\n",
       "      <th>2</th>\n",
       "      <td>1.0</td>\n",
       "      <td>0.0</td>\n",
       "      <td>0.0</td>\n",
       "      <td>1.0</td>\n",
       "      <td>0.0</td>\n",
       "      <td>0.0</td>\n",
       "      <td>0.0</td>\n",
       "      <td>0.0</td>\n",
       "      <td>0.0</td>\n",
       "      <td>0.0</td>\n",
       "      <td>0.0</td>\n",
       "      <td>0.0</td>\n",
       "    </tr>\n",
       "    <tr>\n",
       "      <th>3</th>\n",
       "      <td>1.0</td>\n",
       "      <td>0.0</td>\n",
       "      <td>1.0</td>\n",
       "      <td>0.0</td>\n",
       "      <td>0.0</td>\n",
       "      <td>0.0</td>\n",
       "      <td>0.0</td>\n",
       "      <td>0.0</td>\n",
       "      <td>0.0</td>\n",
       "      <td>0.0</td>\n",
       "      <td>0.0</td>\n",
       "      <td>0.0</td>\n",
       "    </tr>\n",
       "    <tr>\n",
       "      <th>4</th>\n",
       "      <td>0.0</td>\n",
       "      <td>1.0</td>\n",
       "      <td>0.0</td>\n",
       "      <td>0.0</td>\n",
       "      <td>0.0</td>\n",
       "      <td>0.0</td>\n",
       "      <td>0.0</td>\n",
       "      <td>1.0</td>\n",
       "      <td>0.0</td>\n",
       "      <td>0.0</td>\n",
       "      <td>0.0</td>\n",
       "      <td>0.0</td>\n",
       "    </tr>\n",
       "    <tr>\n",
       "      <th>5</th>\n",
       "      <td>1.0</td>\n",
       "      <td>0.0</td>\n",
       "      <td>1.0</td>\n",
       "      <td>0.0</td>\n",
       "      <td>0.0</td>\n",
       "      <td>0.0</td>\n",
       "      <td>0.0</td>\n",
       "      <td>0.0</td>\n",
       "      <td>0.0</td>\n",
       "      <td>0.0</td>\n",
       "      <td>0.0</td>\n",
       "      <td>0.0</td>\n",
       "    </tr>\n",
       "    <tr>\n",
       "      <th>6</th>\n",
       "      <td>1.0</td>\n",
       "      <td>0.0</td>\n",
       "      <td>0.0</td>\n",
       "      <td>1.0</td>\n",
       "      <td>0.0</td>\n",
       "      <td>0.0</td>\n",
       "      <td>0.0</td>\n",
       "      <td>0.0</td>\n",
       "      <td>0.0</td>\n",
       "      <td>0.0</td>\n",
       "      <td>0.0</td>\n",
       "      <td>0.0</td>\n",
       "    </tr>\n",
       "    <tr>\n",
       "      <th>7</th>\n",
       "      <td>1.0</td>\n",
       "      <td>0.0</td>\n",
       "      <td>1.0</td>\n",
       "      <td>0.0</td>\n",
       "      <td>0.0</td>\n",
       "      <td>0.0</td>\n",
       "      <td>0.0</td>\n",
       "      <td>0.0</td>\n",
       "      <td>0.0</td>\n",
       "      <td>0.0</td>\n",
       "      <td>0.0</td>\n",
       "      <td>0.0</td>\n",
       "    </tr>\n",
       "    <tr>\n",
       "      <th>8</th>\n",
       "      <td>1.0</td>\n",
       "      <td>0.0</td>\n",
       "      <td>1.0</td>\n",
       "      <td>0.0</td>\n",
       "      <td>0.0</td>\n",
       "      <td>0.0</td>\n",
       "      <td>0.0</td>\n",
       "      <td>0.0</td>\n",
       "      <td>0.0</td>\n",
       "      <td>0.0</td>\n",
       "      <td>0.0</td>\n",
       "      <td>0.0</td>\n",
       "    </tr>\n",
       "    <tr>\n",
       "      <th>9</th>\n",
       "      <td>0.0</td>\n",
       "      <td>0.0</td>\n",
       "      <td>0.0</td>\n",
       "      <td>0.0</td>\n",
       "      <td>0.0</td>\n",
       "      <td>1.0</td>\n",
       "      <td>0.0</td>\n",
       "      <td>0.0</td>\n",
       "      <td>0.0</td>\n",
       "      <td>0.0</td>\n",
       "      <td>0.0</td>\n",
       "      <td>0.0</td>\n",
       "    </tr>\n",
       "  </tbody>\n",
       "</table>\n",
       "</div>"
      ],
      "text/plain": [
       "    4D   2D  SEDAN  SUV  SPORT  MINIVAN  WAGON  COUPE  PASSENGER  CAB  \\\n",
       "0  1.0  0.0    1.0  0.0    0.0      0.0    0.0    0.0        0.0  0.0   \n",
       "1  1.0  0.0    1.0  0.0    0.0      0.0    0.0    0.0        0.0  0.0   \n",
       "2  1.0  0.0    0.0  1.0    0.0      0.0    0.0    0.0        0.0  0.0   \n",
       "3  1.0  0.0    1.0  0.0    0.0      0.0    0.0    0.0        0.0  0.0   \n",
       "4  0.0  1.0    0.0  0.0    0.0      0.0    0.0    1.0        0.0  0.0   \n",
       "5  1.0  0.0    1.0  0.0    0.0      0.0    0.0    0.0        0.0  0.0   \n",
       "6  1.0  0.0    0.0  1.0    0.0      0.0    0.0    0.0        0.0  0.0   \n",
       "7  1.0  0.0    1.0  0.0    0.0      0.0    0.0    0.0        0.0  0.0   \n",
       "8  1.0  0.0    1.0  0.0    0.0      0.0    0.0    0.0        0.0  0.0   \n",
       "9  0.0  0.0    0.0  0.0    0.0      1.0    0.0    0.0        0.0  0.0   \n",
       "\n",
       "   CONVERTIBLE  UTILITY  \n",
       "0          0.0      0.0  \n",
       "1          0.0      0.0  \n",
       "2          0.0      0.0  \n",
       "3          0.0      0.0  \n",
       "4          0.0      0.0  \n",
       "5          0.0      0.0  \n",
       "6          0.0      0.0  \n",
       "7          0.0      0.0  \n",
       "8          0.0      0.0  \n",
       "9          0.0      0.0  "
      ]
     },
     "execution_count": 43,
     "metadata": {},
     "output_type": "execute_result"
    }
   ],
   "source": [
    "#binary variables to flat out from 'SubModel'\n",
    "#'4D', '2D', SEDAN', 'SUV', 'SPORT', 'MINIVAN', 'WAGON', 'COUPE', 'PASSENGER', 'CAB', 'CONVERTIBLE','UTILITY'\n",
    "\n",
    "keywords_from_SubModel=['4D', '2D', 'SEDAN', 'SUV', 'SPORT', 'MINIVAN', 'WAGON', 'COUPE', 'PASSENGER', \n",
    "                      'CAB', 'CONVERTIBLE','UTILITY']\n",
    "binary_var_from_SubModel=['4D', '2D', 'SEDAN', 'SUV', 'SPORT', 'MINIVAN', 'WAGON', 'COUPE', 'PASSENGER', \n",
    "                      'CAB', 'CONVERTIBLE','UTILITY']\n",
    "\n",
    "for keyword, var in zip(keywords_from_SubModel, binary_var_from_SubModel):\n",
    "    data.loc[data['SubModel'].str.contains(keyword),var]=1\n",
    "    data.loc[data[var].isnull(),var]=0\n",
    "\n",
    "data[binary_var_from_SubModel].head(10)"
   ]
  },
  {
   "cell_type": "code",
   "execution_count": 44,
   "metadata": {
    "collapsed": false
   },
   "outputs": [
    {
     "data": {
      "text/plain": [
       "False    48707\n",
       "Name: Color, dtype: int64"
      ]
     },
     "execution_count": 44,
     "metadata": {},
     "output_type": "execute_result"
    }
   ],
   "source": [
    "#'Color' has only 8 missing values, we impute with top frequent level\n",
    "data['Color'].isnull().value_counts()\n",
    "data['Color'].value_counts() #silver is the most popular\n",
    "data.loc[data['Color'].isnull(),'Color']='Silver'\n",
    "data['Color'].isnull().value_counts()"
   ]
  },
  {
   "cell_type": "code",
   "execution_count": 45,
   "metadata": {
    "collapsed": false
   },
   "outputs": [
    {
     "data": {
      "text/plain": [
       "AUTO      47013\n",
       "MANUAL     1694\n",
       "Name: Transmission, dtype: int64"
      ]
     },
     "execution_count": 45,
     "metadata": {},
     "output_type": "execute_result"
    }
   ],
   "source": [
    "#'Transmission' only 9 missing values, impute with top frequent level\n",
    "data['Transmission'].isnull().value_counts()\n",
    "data['Transmission'].value_counts() #'AUTO'\n",
    "data.loc[data['Transmission'].isnull(),'Transmission']='AUTO'\n",
    "data.loc[data['Transmission']=='Manual','Transmission']='MANUAL'\n",
    "data['Transmission'].value_counts()"
   ]
  },
  {
   "cell_type": "code",
   "execution_count": 46,
   "metadata": {
    "collapsed": false
   },
   "outputs": [
    {
     "data": {
      "text/plain": [
       "Alloy      27631\n",
       "Covers     20651\n",
       "Special      425\n",
       "Name: WheelType, dtype: int64"
      ]
     },
     "execution_count": 46,
     "metadata": {},
     "output_type": "execute_result"
    }
   ],
   "source": [
    "#'WheelTypeID','WheelType' are interchangeable, we will use WheelType\n",
    "data['WheelType'].isnull().value_counts() #3000 missing values\n",
    "data['WheelType'].value_counts() #top two frequent terms are 'Alloy', 'Covers'\n",
    "#impute missing values with two frequent terms randomly\n",
    "import random \n",
    "data.loc[data['WheelType'].isnull(),'WheelType']=random.choice(['Alloy','Covers'])\n",
    "data['WheelType'].value_counts()"
   ]
  },
  {
   "cell_type": "code",
   "execution_count": 47,
   "metadata": {
    "collapsed": false
   },
   "outputs": [
    {
     "data": {
      "text/plain": [
       "AMERICAN          40420\n",
       "OTHER ASIAN        5838\n",
       "TOP LINE ASIAN     2326\n",
       "OTHER               123\n",
       "Name: Nationality, dtype: int64"
      ]
     },
     "execution_count": 47,
     "metadata": {},
     "output_type": "execute_result"
    }
   ],
   "source": [
    "#impute with most frequent level 'AMERICAN'\n",
    "data['Nationality'].isnull().value_counts() #only 5 missing values\n",
    "data['Nationality'].value_counts()\n",
    "data.loc[data['Nationality'].isnull(),'Nationality']='AMERICAN'\n",
    "data['Nationality'].value_counts() "
   ]
  },
  {
   "cell_type": "code",
   "execution_count": 48,
   "metadata": {
    "collapsed": false
   },
   "outputs": [
    {
     "data": {
      "text/plain": [
       "MEDIUM         20368\n",
       "LARGE           5711\n",
       "MEDIUM SUV      5453\n",
       "COMPACT         4881\n",
       "VAN             4042\n",
       "LARGE TRUCK     2069\n",
       "SMALL SUV       1575\n",
       "SPECIALTY       1446\n",
       "CROSSOVER       1286\n",
       "LARGE SUV        868\n",
       "SPORTS           516\n",
       "SMALL TRUCK      492\n",
       "Name: Size, dtype: int64"
      ]
     },
     "execution_count": 48,
     "metadata": {},
     "output_type": "execute_result"
    }
   ],
   "source": [
    "#impute with most frequent level\n",
    "data['Size'].isnull().value_counts() #only 5 missing values\n",
    "data['Size'].value_counts()\n",
    "data.loc[data['Size'].isnull(),'Size']='MEDIUM'\n",
    "data['Size'].value_counts() "
   ]
  },
  {
   "cell_type": "code",
   "execution_count": 49,
   "metadata": {
    "collapsed": false
   },
   "outputs": [
    {
     "data": {
      "text/plain": [
       "GM          16964\n",
       "CHRYSLER    15329\n",
       "OTHER        8287\n",
       "FORD         8127\n",
       "Name: TopThreeAmericanName, dtype: int64"
      ]
     },
     "execution_count": 49,
     "metadata": {},
     "output_type": "execute_result"
    }
   ],
   "source": [
    "#impute with top frequent level\n",
    "data['TopThreeAmericanName'].isnull().value_counts() #only 5 missing values\n",
    "data['TopThreeAmericanName'].value_counts()\n",
    "data.loc[data['TopThreeAmericanName'].isnull(),'TopThreeAmericanName']='GM'\n",
    "data['TopThreeAmericanName'].value_counts() "
   ]
  },
  {
   "cell_type": "code",
   "execution_count": 50,
   "metadata": {
    "collapsed": false
   },
   "outputs": [
    {
     "data": {
      "text/html": [
       "<div>\n",
       "<table border=\"1\" class=\"dataframe\">\n",
       "  <thead>\n",
       "    <tr style=\"text-align: right;\">\n",
       "      <th></th>\n",
       "      <th>MMRAcquisitionAuctionAveragePrice</th>\n",
       "      <th>MMRAcquisitionAuctionCleanPrice</th>\n",
       "      <th>MMRAcquisitionRetailAveragePrice</th>\n",
       "      <th>MMRAcquisitonRetailCleanPrice</th>\n",
       "      <th>MMRCurrentAuctionAveragePrice</th>\n",
       "      <th>MMRCurrentAuctionCleanPrice</th>\n",
       "      <th>MMRCurrentRetailAveragePrice</th>\n",
       "      <th>MMRCurrentRetailCleanPrice</th>\n",
       "    </tr>\n",
       "  </thead>\n",
       "  <tbody>\n",
       "  </tbody>\n",
       "</table>\n",
       "</div>"
      ],
      "text/plain": [
       "Empty DataFrame\n",
       "Columns: [MMRAcquisitionAuctionAveragePrice, MMRAcquisitionAuctionCleanPrice, MMRAcquisitionRetailAveragePrice, MMRAcquisitonRetailCleanPrice, MMRCurrentAuctionAveragePrice, MMRCurrentAuctionCleanPrice, MMRCurrentRetailAveragePrice, MMRCurrentRetailCleanPrice]\n",
       "Index: []"
      ]
     },
     "execution_count": 50,
     "metadata": {},
     "output_type": "execute_result"
    }
   ],
   "source": [
    "#for price related numerical variables, we impute with median value\n",
    "list_to_impute=['MMRAcquisitionAuctionAveragePrice',\n",
    " 'MMRAcquisitionAuctionCleanPrice',\n",
    " 'MMRAcquisitionRetailAveragePrice',\n",
    " 'MMRAcquisitonRetailCleanPrice',\n",
    " 'MMRCurrentAuctionAveragePrice',\n",
    " 'MMRCurrentAuctionCleanPrice',\n",
    " 'MMRCurrentRetailAveragePrice',\n",
    " 'MMRCurrentRetailCleanPrice']\n",
    "\n",
    "for var in list_to_impute:\n",
    "    data.loc[data[var].isnull(), var]=data[var].median()\n",
    "    \n",
    "nan_rows(data[list_to_impute]) #all NaNs cleared"
   ]
  },
  {
   "cell_type": "code",
   "execution_count": 51,
   "metadata": {
    "collapsed": false
   },
   "outputs": [
    {
     "data": {
      "text/plain": [
       "NO     48659\n",
       "YES       48\n",
       "Name: PRIMEUNIT, dtype: int64"
      ]
     },
     "execution_count": 51,
     "metadata": {},
     "output_type": "execute_result"
    }
   ],
   "source": [
    "#impute with top frequent level\n",
    "data['PRIMEUNIT'].isnull().value_counts() #3000 missing values\n",
    "data['PRIMEUNIT'].value_counts() \n",
    "data.loc[data['PRIMEUNIT'].isnull(),'PRIMEUNIT']='NO'\n",
    "data['PRIMEUNIT'].value_counts()"
   ]
  },
  {
   "cell_type": "code",
   "execution_count": 52,
   "metadata": {
    "collapsed": false
   },
   "outputs": [
    {
     "data": {
      "text/plain": [
       "YELLOW    46191\n",
       "GREEN      2470\n",
       "RED          46\n",
       "Name: AUCGUART, dtype: int64"
      ]
     },
     "execution_count": 52,
     "metadata": {},
     "output_type": "execute_result"
    }
   ],
   "source": [
    "#Impute with cautious neutral term 'YELLOW'\n",
    "data['AUCGUART'].isnull().value_counts()\n",
    "data['AUCGUART'].value_counts()\n",
    "data.loc[data['AUCGUART'].isnull(),'AUCGUART']='YELLOW'\n",
    "data['AUCGUART'].value_counts()"
   ]
  },
  {
   "cell_type": "markdown",
   "metadata": {},
   "source": [
    "## Transform/Recode Features\n",
    "\n",
    "multi-categorical variables: 'PurchDate','Auction','VehYear', 'Make', 'Model', 'Trim', 'SubModel', 'Color', 'WheelType', 'Nationality', 'Size', 'TopThreeAmericanName', 'AUCGUART','BYRNO','VNZIP1', 'VNST'\n",
    "\n",
    "- recode 'Make' into top 4 makes and other\n",
    "- use binary variables created from 'SubModel' instead \n",
    "- recode 'Color' into top 6 and other\n",
    "- recode 'Size' into 'MEDIUM', 'LARGE' and 'SMALL'\n",
    "- recode 'VNST' into top 5 states and other\n",
    "- break 'Model' into a list of tokens, and recode into top frequency terms and other "
   ]
  },
  {
   "cell_type": "code",
   "execution_count": 53,
   "metadata": {
    "collapsed": false
   },
   "outputs": [
    {
     "data": {
      "text/plain": [
       "Other        15635\n",
       "CHEVROLET    11486\n",
       "DODGE         8095\n",
       "FORD          7441\n",
       "CHRYSLER      6050\n",
       "Name: Make2, dtype: int64"
      ]
     },
     "execution_count": 53,
     "metadata": {},
     "output_type": "execute_result"
    }
   ],
   "source": [
    "#recode 'Make' into top 4 makes and other\n",
    "data['Make'].value_counts() \n",
    "top_4_make=['CHEVROLET','DODGE','FORD','CHRYSLER']\n",
    "\n",
    "for make in top_4_make:\n",
    "    data.loc[data['Make']==make, 'Make2']=make\n",
    "data.loc[data['Make2'].isnull(),'Make2']='Other'\n",
    "data['Make2'].value_counts()"
   ]
  },
  {
   "cell_type": "code",
   "execution_count": 54,
   "metadata": {
    "collapsed": false
   },
   "outputs": [
    {
     "data": {
      "text/plain": [
       "SILVER    10083\n",
       "Other      9311\n",
       "WHITE      8054\n",
       "BLUE       6839\n",
       "BLACK      5177\n",
       "GREY       5077\n",
       "RED        4166\n",
       "Name: Color2, dtype: int64"
      ]
     },
     "execution_count": 54,
     "metadata": {},
     "output_type": "execute_result"
    }
   ],
   "source": [
    "#recode 'Color' into top 6 and other\n",
    "data['Color'].value_counts() \n",
    "top_6_color=['SILVER','WHITE','BLUE','GREY','BLACK','RED']\n",
    "\n",
    "for color in top_6_color:\n",
    "    data.loc[data['Color']==color, 'Color2']=color\n",
    "data.loc[data['Color2'].isnull(),'Color2']='Other'\n",
    "data['Color2'].value_counts()"
   ]
  },
  {
   "cell_type": "code",
   "execution_count": 55,
   "metadata": {
    "collapsed": false
   },
   "outputs": [
    {
     "data": {
      "text/plain": [
       "MEDIUM    25821\n",
       "LARGE      8648\n",
       "SMALL      6948\n",
       "VAN        4042\n",
       "Other      3248\n",
       "Name: Size2, dtype: int64"
      ]
     },
     "execution_count": 55,
     "metadata": {},
     "output_type": "execute_result"
    }
   ],
   "source": [
    "#recode 'Size' into 'MEDIUM', 'LARGE' and 'SMALL'\n",
    "data['Size'].value_counts() \n",
    "sizes=['LARGE','MEDIUM','SMALL','COMPACT','VAN']\n",
    "\n",
    "for size in sizes:\n",
    "    data.loc[data['Size'].str.contains(size), 'Size2']=size\n",
    "data.loc[data['Size2'].isnull(),'Size2']='Other'\n",
    "\n",
    "#group 'COMPACT' and 'SMALL' into 'SMALL'\n",
    "data.loc[data['Size2']=='COMPACT','Size2']='SMALL'\n",
    "data['Size2'].value_counts()"
   ]
  },
  {
   "cell_type": "code",
   "execution_count": 56,
   "metadata": {
    "collapsed": false
   },
   "outputs": [
    {
     "data": {
      "text/plain": [
       "Other    22509\n",
       "FL        8642\n",
       "TX        6877\n",
       "CA        5175\n",
       "NC        3551\n",
       "AZ        1953\n",
       "Name: VNST2, dtype: int64"
      ]
     },
     "execution_count": 56,
     "metadata": {},
     "output_type": "execute_result"
    }
   ],
   "source": [
    "#recode 'VNST' into top 5 states and other\n",
    "data['VNST'].value_counts() \n",
    "top_5_VNST=['TX','FL','CA','NC','AZ']\n",
    "\n",
    "for state in top_5_VNST:\n",
    "    data.loc[data['VNST']==state, 'VNST2']=state\n",
    "data.loc[data['VNST2'].isnull(),'VNST2']='Other'\n",
    "data['VNST2'].value_counts()"
   ]
  },
  {
   "cell_type": "code",
   "execution_count": 57,
   "metadata": {
    "collapsed": false,
    "scrolled": true
   },
   "outputs": [
    {
     "data": {
      "text/plain": [
       "V6           18996\n",
       "4C            7583\n",
       "2WD           7273\n",
       "I4            5539\n",
       "FWD           5139\n",
       "IMPALA        3032\n",
       "GRAND         2916\n",
       "PT            2765\n",
       "CRUISER       2765\n",
       "2.4L          2414\n",
       "MALIBU        2359\n",
       "V8            2351\n",
       "4WD           2106\n",
       "PICKUP        2042\n",
       "S             2032\n",
       "EFI           2018\n",
       "3.5L          1985\n",
       "TAURUS        1857\n",
       "SFI           1759\n",
       "3.0L          1621\n",
       "2.2L          1571\n",
       "STRATUS       1519\n",
       "1500          1500\n",
       "CARAVAN       1495\n",
       "2.0L          1476\n",
       "MPI           1471\n",
       "SEBRING       1431\n",
       "6C            1297\n",
       "2.7L          1279\n",
       "DURANGO       1245\n",
       "             ...  \n",
       "CL               1\n",
       "Q45              1\n",
       "LHS              1\n",
       "ENTOURAGE        1\n",
       "V10              1\n",
       "M35              1\n",
       "GTO              1\n",
       "PRIUS            1\n",
       "FIT              1\n",
       "PRIZM            1\n",
       "LEGACY           1\n",
       "LT               1\n",
       "SEPHIA           1\n",
       "ARMADA           1\n",
       "/3.3L            1\n",
       "B4000            1\n",
       "FORESTER         1\n",
       "MARK             1\n",
       "HYBRID           1\n",
       "5.6L             1\n",
       "TSX              1\n",
       "FX35             1\n",
       "G20              1\n",
       "GS350            1\n",
       "N                1\n",
       "RX330            1\n",
       "F250             1\n",
       "PGM-             1\n",
       "ESCALADE         1\n",
       "4.1L             1\n",
       "Name: 0, dtype: int64"
      ]
     },
     "execution_count": 57,
     "metadata": {},
     "output_type": "execute_result"
    }
   ],
   "source": [
    "# break 'Model' into a list of tokens, and recode into top frequency terms and other\n",
    "# consider the complexity and trivialness of tokens extracted, we will exclude 'Model' from analysis for now\n",
    "# could consider extracting 'Engine Displacement', 'AWD/FWD/4WD', 'V6/V8' etc. \n",
    "model_to_list=' '.join(data['Model'].tolist())\n",
    "tokens=model_to_list.split()\n",
    "pd.DataFrame(tokens)[0].value_counts()"
   ]
  },
  {
   "cell_type": "code",
   "execution_count": 58,
   "metadata": {
    "collapsed": true
   },
   "outputs": [],
   "source": [
    "#create new numeric variables of premium paid for the car toward price at average condition\n",
    "#and toward price at above average condition, at time of purchase, as percentage of original paid price\n",
    "#in auction market\n",
    "data['premium_ave_auc']=(data['VehBCost']-data['MMRAcquisitionAuctionAveragePrice'])/data['VehBCost']\n",
    "data['premium_above_auc']=(data['VehBCost']-data['MMRAcquisitionAuctionCleanPrice'])/data['VehBCost']\n",
    "#in retail market\n",
    "data['premium_ave_mkt']=(data['VehBCost']-data['MMRAcquisitionRetailAveragePrice'])/data['VehBCost']\n",
    "data['premium_above_mkt']=(data['VehBCost']-data['MMRAcquisitonRetailCleanPrice'])/data['VehBCost']\n",
    "\n",
    "#ideally, the dealer purchase price for a used car is higher than auction house price, but much lower than retail market price, \n",
    "#so as to realize profit by reselling the car in retail"
   ]
  },
  {
   "cell_type": "code",
   "execution_count": 59,
   "metadata": {
    "collapsed": true
   },
   "outputs": [],
   "source": [
    "#create new numeric variables of depreciation of the car at original used purchase price vs price at average condition\n",
    "#and vs price at above average condition, as of current day, as percentage of original paid price\n",
    "#in auction market\n",
    "data['deprec_ave_auc']=(data['VehBCost']-data['MMRCurrentAuctionAveragePrice'])/data['VehBCost']\n",
    "data['deprec_above_auc']=(data['VehBCost']-data['MMRCurrentAuctionCleanPrice'])/data['VehBCost']\n",
    "#in retail market\n",
    "data['deprec_ave_mkt']=(data['VehBCost']-data['MMRCurrentRetailAveragePrice'])/data['VehBCost']\n",
    "data['deprec_above_mkt']=(data['VehBCost']-data['MMRCurrentRetailCleanPrice'])/data['VehBCost']"
   ]
  },
  {
   "cell_type": "markdown",
   "metadata": {},
   "source": [
    "## OneHotEncode Selected Multi-Categorical and Non-indexed Binary Variables\n",
    "\n",
    "binary variables: 'Transmission','PRIMEUNIT','IsOnlineSale' ('IsOnlineSale' is coded in 0 and 1 already)\n",
    "multi-categorical variables: 'PurchDate','Auction','VehYear', 'Make', 'Model', 'Trim', 'SubModel', 'Color', 'WheelTypeID', 'Nationality', 'Size', 'TopThreeAmericanName', 'AUCGUART','BYRNO','VNZIP1', 'VNST'\n",
    "\n",
    "Selected multi-categorical and non-indexed binary variables: 'Transmission','PRIMEUNIT', 'Auction', 'Make2', 'Color2', 'WheelType', 'Nationality', 'Size2', 'TopThreeAmericanName', 'AUCGUART', 'VNST'\n"
   ]
  },
  {
   "cell_type": "code",
   "execution_count": 60,
   "metadata": {
    "collapsed": false
   },
   "outputs": [
    {
     "data": {
      "text/plain": [
       "Index(['Transmission_AUTO', 'Transmission_MANUAL', 'PRIMEUNIT_NO',\n",
       "       'PRIMEUNIT_YES', 'Auction_ADESA', 'Auction_MANHEIM', 'Auction_OTHER',\n",
       "       'Make2_CHEVROLET', 'Make2_CHRYSLER', 'Make2_DODGE', 'Make2_FORD',\n",
       "       'Make2_Other', 'Color2_BLACK', 'Color2_BLUE', 'Color2_GREY',\n",
       "       'Color2_Other', 'Color2_RED', 'Color2_SILVER', 'Color2_WHITE',\n",
       "       'WheelType_Alloy', 'WheelType_Covers', 'WheelType_Special',\n",
       "       'Nationality_AMERICAN', 'Nationality_OTHER', 'Nationality_OTHER ASIAN',\n",
       "       'Nationality_TOP LINE ASIAN', 'Size2_LARGE', 'Size2_MEDIUM',\n",
       "       'Size2_Other', 'Size2_SMALL', 'Size2_VAN',\n",
       "       'TopThreeAmericanName_CHRYSLER', 'TopThreeAmericanName_FORD',\n",
       "       'TopThreeAmericanName_GM', 'TopThreeAmericanName_OTHER',\n",
       "       'AUCGUART_GREEN', 'AUCGUART_RED', 'AUCGUART_YELLOW', 'VNST2_AZ',\n",
       "       'VNST2_CA', 'VNST2_FL', 'VNST2_NC', 'VNST2_Other', 'VNST2_TX'],\n",
       "      dtype='object')"
      ]
     },
     "execution_count": 60,
     "metadata": {},
     "output_type": "execute_result"
    }
   ],
   "source": [
    "cols_to_onehot=['Transmission','PRIMEUNIT', 'Auction', 'Make2', 'Color2', 'WheelType', 'Nationality', 'Size2', \n",
    "                'TopThreeAmericanName', 'AUCGUART', 'VNST2']\n",
    "onehotencoded=pd.get_dummies(data[cols_to_onehot], prefix=cols_to_onehot)\n",
    "onehotencoded.columns"
   ]
  },
  {
   "cell_type": "code",
   "execution_count": 61,
   "metadata": {
    "collapsed": false,
    "scrolled": true
   },
   "outputs": [
    {
     "data": {
      "text/plain": [
       "['RefId',\n",
       " 'PurchDate',\n",
       " 'Auction',\n",
       " 'VehYear',\n",
       " 'VehicleAge',\n",
       " 'Make',\n",
       " 'Model',\n",
       " 'Trim',\n",
       " 'SubModel',\n",
       " 'Color',\n",
       " 'Transmission',\n",
       " 'WheelTypeID',\n",
       " 'WheelType',\n",
       " 'VehOdo',\n",
       " 'Nationality',\n",
       " 'Size',\n",
       " 'TopThreeAmericanName',\n",
       " 'MMRAcquisitionAuctionAveragePrice',\n",
       " 'MMRAcquisitionAuctionCleanPrice',\n",
       " 'MMRAcquisitionRetailAveragePrice',\n",
       " 'MMRAcquisitonRetailCleanPrice',\n",
       " 'MMRCurrentAuctionAveragePrice',\n",
       " 'MMRCurrentAuctionCleanPrice',\n",
       " 'MMRCurrentRetailAveragePrice',\n",
       " 'MMRCurrentRetailCleanPrice',\n",
       " 'PRIMEUNIT',\n",
       " 'AUCGUART',\n",
       " 'BYRNO',\n",
       " 'VNZIP1',\n",
       " 'VNST',\n",
       " 'VehBCost',\n",
       " 'IsOnlineSale',\n",
       " 'WarrantyCost',\n",
       " 'Trim2',\n",
       " '4D',\n",
       " '2D',\n",
       " 'SEDAN',\n",
       " 'SUV',\n",
       " 'SPORT',\n",
       " 'MINIVAN',\n",
       " 'WAGON',\n",
       " 'COUPE',\n",
       " 'PASSENGER',\n",
       " 'CAB',\n",
       " 'CONVERTIBLE',\n",
       " 'UTILITY',\n",
       " 'Make2',\n",
       " 'Color2',\n",
       " 'Size2',\n",
       " 'VNST2',\n",
       " 'premium_ave_auc',\n",
       " 'premium_above_auc',\n",
       " 'premium_ave_mkt',\n",
       " 'premium_above_mkt',\n",
       " 'deprec_ave_auc',\n",
       " 'deprec_above_auc',\n",
       " 'deprec_ave_mkt',\n",
       " 'deprec_above_mkt',\n",
       " 'Transmission_AUTO',\n",
       " 'Transmission_MANUAL',\n",
       " 'PRIMEUNIT_NO',\n",
       " 'PRIMEUNIT_YES',\n",
       " 'Auction_ADESA',\n",
       " 'Auction_MANHEIM',\n",
       " 'Auction_OTHER',\n",
       " 'Make2_CHEVROLET',\n",
       " 'Make2_CHRYSLER',\n",
       " 'Make2_DODGE',\n",
       " 'Make2_FORD',\n",
       " 'Make2_Other',\n",
       " 'Color2_BLACK',\n",
       " 'Color2_BLUE',\n",
       " 'Color2_GREY',\n",
       " 'Color2_Other',\n",
       " 'Color2_RED',\n",
       " 'Color2_SILVER',\n",
       " 'Color2_WHITE',\n",
       " 'WheelType_Alloy',\n",
       " 'WheelType_Covers',\n",
       " 'WheelType_Special',\n",
       " 'Nationality_AMERICAN',\n",
       " 'Nationality_OTHER',\n",
       " 'Nationality_OTHER ASIAN',\n",
       " 'Nationality_TOP LINE ASIAN',\n",
       " 'Size2_LARGE',\n",
       " 'Size2_MEDIUM',\n",
       " 'Size2_Other',\n",
       " 'Size2_SMALL',\n",
       " 'Size2_VAN',\n",
       " 'TopThreeAmericanName_CHRYSLER',\n",
       " 'TopThreeAmericanName_FORD',\n",
       " 'TopThreeAmericanName_GM',\n",
       " 'TopThreeAmericanName_OTHER',\n",
       " 'AUCGUART_GREEN',\n",
       " 'AUCGUART_RED',\n",
       " 'AUCGUART_YELLOW',\n",
       " 'VNST2_AZ',\n",
       " 'VNST2_CA',\n",
       " 'VNST2_FL',\n",
       " 'VNST2_NC',\n",
       " 'VNST2_Other',\n",
       " 'VNST2_TX']"
      ]
     },
     "execution_count": 61,
     "metadata": {},
     "output_type": "execute_result"
    }
   ],
   "source": [
    "#concatenate back to data:\n",
    "data=pd.concat([data, onehotencoded],axis=1)\n",
    "data.columns.tolist()"
   ]
  },
  {
   "cell_type": "markdown",
   "metadata": {},
   "source": [
    "## Normalize Numerical Variables\n",
    "\n",
    "numeric variables: 'VehicleAge','VehOdo', 'MMRAcquisitionAuctionAveragePrice','MMRAcquisitionAuctionCleanPrice', 'MMRAcquisitionRetailAveragePrice', 'MMRAcquisitonRetailCleanPrice', 'MMRCurrentAuctionAveragePrice', 'MMRCurrentAuctionCleanPrice', 'MMRCurrentRetailAveragePrice', 'MMRCurrentRetailCleanPrice','VehBCost','WarrantyCost'"
   ]
  },
  {
   "cell_type": "code",
   "execution_count": 62,
   "metadata": {
    "collapsed": true
   },
   "outputs": [],
   "source": [
    "cols_to_norm = ['VehicleAge','VehOdo', 'MMRAcquisitionAuctionAveragePrice','MMRAcquisitionAuctionCleanPrice',\n",
    "                'MMRAcquisitionRetailAveragePrice', 'MMRAcquisitonRetailCleanPrice', 'MMRCurrentAuctionAveragePrice', \n",
    "                'MMRCurrentAuctionCleanPrice', 'MMRCurrentRetailAveragePrice', 'MMRCurrentRetailCleanPrice',\n",
    "                'VehBCost','WarrantyCost',\n",
    "                'premium_ave_auc','premium_above_auc','premium_ave_mkt', 'premium_above_mkt', \n",
    "                'deprec_ave_auc', 'deprec_above_auc', 'deprec_ave_mkt','deprec_above_mkt']\n",
    "data[cols_to_norm] = data[cols_to_norm].apply(lambda x: (x - x.min()) / (x.max() - x.min()))"
   ]
  },
  {
   "cell_type": "code",
   "execution_count": 63,
   "metadata": {
    "collapsed": false
   },
   "outputs": [
    {
     "data": {
      "text/html": [
       "<div>\n",
       "<table border=\"1\" class=\"dataframe\">\n",
       "  <thead>\n",
       "    <tr style=\"text-align: right;\">\n",
       "      <th></th>\n",
       "      <th>VehicleAge</th>\n",
       "      <th>VehOdo</th>\n",
       "      <th>MMRAcquisitionAuctionAveragePrice</th>\n",
       "      <th>MMRAcquisitionAuctionCleanPrice</th>\n",
       "      <th>MMRAcquisitionRetailAveragePrice</th>\n",
       "      <th>MMRAcquisitonRetailCleanPrice</th>\n",
       "      <th>MMRCurrentAuctionAveragePrice</th>\n",
       "      <th>MMRCurrentAuctionCleanPrice</th>\n",
       "      <th>MMRCurrentRetailAveragePrice</th>\n",
       "      <th>MMRCurrentRetailCleanPrice</th>\n",
       "      <th>VehBCost</th>\n",
       "      <th>WarrantyCost</th>\n",
       "      <th>premium_ave_auc</th>\n",
       "      <th>premium_above_auc</th>\n",
       "      <th>premium_ave_mkt</th>\n",
       "      <th>premium_above_mkt</th>\n",
       "      <th>deprec_ave_auc</th>\n",
       "      <th>deprec_above_auc</th>\n",
       "      <th>deprec_ave_mkt</th>\n",
       "      <th>deprec_above_mkt</th>\n",
       "    </tr>\n",
       "  </thead>\n",
       "  <tbody>\n",
       "    <tr>\n",
       "      <th>0</th>\n",
       "      <td>0.444444</td>\n",
       "      <td>0.743294</td>\n",
       "      <td>0.182425</td>\n",
       "      <td>0.207049</td>\n",
       "      <td>0.182863</td>\n",
       "      <td>0.206886</td>\n",
       "      <td>0.181606</td>\n",
       "      <td>0.202549</td>\n",
       "      <td>0.270133</td>\n",
       "      <td>0.270618</td>\n",
       "      <td>0.088116</td>\n",
       "      <td>0.240193</td>\n",
       "      <td>0.680124</td>\n",
       "      <td>0.641288</td>\n",
       "      <td>0.746757</td>\n",
       "      <td>0.769186</td>\n",
       "      <td>0.771671</td>\n",
       "      <td>0.753017</td>\n",
       "      <td>0.695524</td>\n",
       "      <td>0.698491</td>\n",
       "    </tr>\n",
       "    <tr>\n",
       "      <th>1</th>\n",
       "      <td>0.444444</td>\n",
       "      <td>0.538132</td>\n",
       "      <td>0.163211</td>\n",
       "      <td>0.184321</td>\n",
       "      <td>0.165208</td>\n",
       "      <td>0.185713</td>\n",
       "      <td>0.171980</td>\n",
       "      <td>0.187115</td>\n",
       "      <td>0.238722</td>\n",
       "      <td>0.257964</td>\n",
       "      <td>0.084501</td>\n",
       "      <td>0.093235</td>\n",
       "      <td>0.704730</td>\n",
       "      <td>0.670527</td>\n",
       "      <td>0.763943</td>\n",
       "      <td>0.786230</td>\n",
       "      <td>0.776910</td>\n",
       "      <td>0.764594</td>\n",
       "      <td>0.722386</td>\n",
       "      <td>0.703466</td>\n",
       "    </tr>\n",
       "    <tr>\n",
       "      <th>2</th>\n",
       "      <td>0.333333</td>\n",
       "      <td>0.602812</td>\n",
       "      <td>0.371375</td>\n",
       "      <td>0.422819</td>\n",
       "      <td>0.356298</td>\n",
       "      <td>0.407898</td>\n",
       "      <td>0.402940</td>\n",
       "      <td>0.398676</td>\n",
       "      <td>0.484263</td>\n",
       "      <td>0.458208</td>\n",
       "      <td>0.145956</td>\n",
       "      <td>0.107021</td>\n",
       "      <td>0.563633</td>\n",
       "      <td>0.509126</td>\n",
       "      <td>0.669352</td>\n",
       "      <td>0.695053</td>\n",
       "      <td>0.660522</td>\n",
       "      <td>0.674240</td>\n",
       "      <td>0.634238</td>\n",
       "      <td>0.657904</td>\n",
       "    </tr>\n",
       "    <tr>\n",
       "      <th>3</th>\n",
       "      <td>0.777778</td>\n",
       "      <td>0.765221</td>\n",
       "      <td>0.092735</td>\n",
       "      <td>0.114840</td>\n",
       "      <td>0.100536</td>\n",
       "      <td>0.120965</td>\n",
       "      <td>0.108408</td>\n",
       "      <td>0.118200</td>\n",
       "      <td>0.180730</td>\n",
       "      <td>0.177545</td>\n",
       "      <td>0.045639</td>\n",
       "      <td>0.209068</td>\n",
       "      <td>0.745313</td>\n",
       "      <td>0.688376</td>\n",
       "      <td>0.781929</td>\n",
       "      <td>0.788623</td>\n",
       "      <td>0.786520</td>\n",
       "      <td>0.774254</td>\n",
       "      <td>0.680940</td>\n",
       "      <td>0.690175</td>\n",
       "    </tr>\n",
       "    <tr>\n",
       "      <th>4</th>\n",
       "      <td>0.222222</td>\n",
       "      <td>0.639028</td>\n",
       "      <td>0.181736</td>\n",
       "      <td>0.205654</td>\n",
       "      <td>0.182216</td>\n",
       "      <td>0.205571</td>\n",
       "      <td>0.185605</td>\n",
       "      <td>0.207858</td>\n",
       "      <td>0.186697</td>\n",
       "      <td>0.203963</td>\n",
       "      <td>0.044736</td>\n",
       "      <td>0.065094</td>\n",
       "      <td>0.494794</td>\n",
       "      <td>0.435139</td>\n",
       "      <td>0.599938</td>\n",
       "      <td>0.636401</td>\n",
       "      <td>0.630045</td>\n",
       "      <td>0.598180</td>\n",
       "      <td>0.666387</td>\n",
       "      <td>0.639734</td>\n",
       "    </tr>\n",
       "    <tr>\n",
       "      <th>5</th>\n",
       "      <td>0.333333</td>\n",
       "      <td>0.792891</td>\n",
       "      <td>0.157700</td>\n",
       "      <td>0.172260</td>\n",
       "      <td>0.160155</td>\n",
       "      <td>0.174470</td>\n",
       "      <td>0.154060</td>\n",
       "      <td>0.167355</td>\n",
       "      <td>0.224706</td>\n",
       "      <td>0.224831</td>\n",
       "      <td>0.046543</td>\n",
       "      <td>0.124929</td>\n",
       "      <td>0.572049</td>\n",
       "      <td>0.538129</td>\n",
       "      <td>0.656745</td>\n",
       "      <td>0.698758</td>\n",
       "      <td>0.700233</td>\n",
       "      <td>0.684181</td>\n",
       "      <td>0.608029</td>\n",
       "      <td>0.612330</td>\n",
       "    </tr>\n",
       "    <tr>\n",
       "      <th>6</th>\n",
       "      <td>0.333333</td>\n",
       "      <td>0.625237</td>\n",
       "      <td>0.310905</td>\n",
       "      <td>0.339137</td>\n",
       "      <td>0.300776</td>\n",
       "      <td>0.329949</td>\n",
       "      <td>0.324521</td>\n",
       "      <td>0.341821</td>\n",
       "      <td>0.431828</td>\n",
       "      <td>0.406538</td>\n",
       "      <td>0.124266</td>\n",
       "      <td>0.098493</td>\n",
       "      <td>0.583111</td>\n",
       "      <td>0.550693</td>\n",
       "      <td>0.681470</td>\n",
       "      <td>0.718504</td>\n",
       "      <td>0.687991</td>\n",
       "      <td>0.681266</td>\n",
       "      <td>0.627796</td>\n",
       "      <td>0.653632</td>\n",
       "    </tr>\n",
       "    <tr>\n",
       "      <th>7</th>\n",
       "      <td>0.666667</td>\n",
       "      <td>0.652375</td>\n",
       "      <td>0.141386</td>\n",
       "      <td>0.154330</td>\n",
       "      <td>0.145181</td>\n",
       "      <td>0.157773</td>\n",
       "      <td>0.140398</td>\n",
       "      <td>0.152314</td>\n",
       "      <td>0.218202</td>\n",
       "      <td>0.214619</td>\n",
       "      <td>0.044736</td>\n",
       "      <td>0.174389</td>\n",
       "      <td>0.606961</td>\n",
       "      <td>0.576110</td>\n",
       "      <td>0.681249</td>\n",
       "      <td>0.720944</td>\n",
       "      <td>0.720154</td>\n",
       "      <td>0.705556</td>\n",
       "      <td>0.610089</td>\n",
       "      <td>0.620912</td>\n",
       "    </tr>\n",
       "    <tr>\n",
       "      <th>8</th>\n",
       "      <td>0.444444</td>\n",
       "      <td>0.377373</td>\n",
       "      <td>0.158026</td>\n",
       "      <td>0.172649</td>\n",
       "      <td>0.160463</td>\n",
       "      <td>0.174834</td>\n",
       "      <td>0.157355</td>\n",
       "      <td>0.177808</td>\n",
       "      <td>0.233987</td>\n",
       "      <td>0.236069</td>\n",
       "      <td>0.077271</td>\n",
       "      <td>0.042922</td>\n",
       "      <td>0.694726</td>\n",
       "      <td>0.670468</td>\n",
       "      <td>0.755179</td>\n",
       "      <td>0.785110</td>\n",
       "      <td>0.782043</td>\n",
       "      <td>0.761137</td>\n",
       "      <td>0.709445</td>\n",
       "      <td>0.710236</td>\n",
       "    </tr>\n",
       "    <tr>\n",
       "      <th>9</th>\n",
       "      <td>0.333333</td>\n",
       "      <td>0.680752</td>\n",
       "      <td>0.300863</td>\n",
       "      <td>0.362546</td>\n",
       "      <td>0.291564</td>\n",
       "      <td>0.351765</td>\n",
       "      <td>0.354993</td>\n",
       "      <td>0.387960</td>\n",
       "      <td>0.415507</td>\n",
       "      <td>0.430292</td>\n",
       "      <td>0.091731</td>\n",
       "      <td>0.165009</td>\n",
       "      <td>0.488194</td>\n",
       "      <td>0.390638</td>\n",
       "      <td>0.608273</td>\n",
       "      <td>0.619266</td>\n",
       "      <td>0.567000</td>\n",
       "      <td>0.541054</td>\n",
       "      <td>0.545648</td>\n",
       "      <td>0.534902</td>\n",
       "    </tr>\n",
       "  </tbody>\n",
       "</table>\n",
       "</div>"
      ],
      "text/plain": [
       "   VehicleAge    VehOdo  MMRAcquisitionAuctionAveragePrice  \\\n",
       "0    0.444444  0.743294                           0.182425   \n",
       "1    0.444444  0.538132                           0.163211   \n",
       "2    0.333333  0.602812                           0.371375   \n",
       "3    0.777778  0.765221                           0.092735   \n",
       "4    0.222222  0.639028                           0.181736   \n",
       "5    0.333333  0.792891                           0.157700   \n",
       "6    0.333333  0.625237                           0.310905   \n",
       "7    0.666667  0.652375                           0.141386   \n",
       "8    0.444444  0.377373                           0.158026   \n",
       "9    0.333333  0.680752                           0.300863   \n",
       "\n",
       "   MMRAcquisitionAuctionCleanPrice  MMRAcquisitionRetailAveragePrice  \\\n",
       "0                         0.207049                          0.182863   \n",
       "1                         0.184321                          0.165208   \n",
       "2                         0.422819                          0.356298   \n",
       "3                         0.114840                          0.100536   \n",
       "4                         0.205654                          0.182216   \n",
       "5                         0.172260                          0.160155   \n",
       "6                         0.339137                          0.300776   \n",
       "7                         0.154330                          0.145181   \n",
       "8                         0.172649                          0.160463   \n",
       "9                         0.362546                          0.291564   \n",
       "\n",
       "   MMRAcquisitonRetailCleanPrice  MMRCurrentAuctionAveragePrice  \\\n",
       "0                       0.206886                       0.181606   \n",
       "1                       0.185713                       0.171980   \n",
       "2                       0.407898                       0.402940   \n",
       "3                       0.120965                       0.108408   \n",
       "4                       0.205571                       0.185605   \n",
       "5                       0.174470                       0.154060   \n",
       "6                       0.329949                       0.324521   \n",
       "7                       0.157773                       0.140398   \n",
       "8                       0.174834                       0.157355   \n",
       "9                       0.351765                       0.354993   \n",
       "\n",
       "   MMRCurrentAuctionCleanPrice  MMRCurrentRetailAveragePrice  \\\n",
       "0                     0.202549                      0.270133   \n",
       "1                     0.187115                      0.238722   \n",
       "2                     0.398676                      0.484263   \n",
       "3                     0.118200                      0.180730   \n",
       "4                     0.207858                      0.186697   \n",
       "5                     0.167355                      0.224706   \n",
       "6                     0.341821                      0.431828   \n",
       "7                     0.152314                      0.218202   \n",
       "8                     0.177808                      0.233987   \n",
       "9                     0.387960                      0.415507   \n",
       "\n",
       "   MMRCurrentRetailCleanPrice  VehBCost  WarrantyCost  premium_ave_auc  \\\n",
       "0                    0.270618  0.088116      0.240193         0.680124   \n",
       "1                    0.257964  0.084501      0.093235         0.704730   \n",
       "2                    0.458208  0.145956      0.107021         0.563633   \n",
       "3                    0.177545  0.045639      0.209068         0.745313   \n",
       "4                    0.203963  0.044736      0.065094         0.494794   \n",
       "5                    0.224831  0.046543      0.124929         0.572049   \n",
       "6                    0.406538  0.124266      0.098493         0.583111   \n",
       "7                    0.214619  0.044736      0.174389         0.606961   \n",
       "8                    0.236069  0.077271      0.042922         0.694726   \n",
       "9                    0.430292  0.091731      0.165009         0.488194   \n",
       "\n",
       "   premium_above_auc  premium_ave_mkt  premium_above_mkt  deprec_ave_auc  \\\n",
       "0           0.641288         0.746757           0.769186        0.771671   \n",
       "1           0.670527         0.763943           0.786230        0.776910   \n",
       "2           0.509126         0.669352           0.695053        0.660522   \n",
       "3           0.688376         0.781929           0.788623        0.786520   \n",
       "4           0.435139         0.599938           0.636401        0.630045   \n",
       "5           0.538129         0.656745           0.698758        0.700233   \n",
       "6           0.550693         0.681470           0.718504        0.687991   \n",
       "7           0.576110         0.681249           0.720944        0.720154   \n",
       "8           0.670468         0.755179           0.785110        0.782043   \n",
       "9           0.390638         0.608273           0.619266        0.567000   \n",
       "\n",
       "   deprec_above_auc  deprec_ave_mkt  deprec_above_mkt  \n",
       "0          0.753017        0.695524          0.698491  \n",
       "1          0.764594        0.722386          0.703466  \n",
       "2          0.674240        0.634238          0.657904  \n",
       "3          0.774254        0.680940          0.690175  \n",
       "4          0.598180        0.666387          0.639734  \n",
       "5          0.684181        0.608029          0.612330  \n",
       "6          0.681266        0.627796          0.653632  \n",
       "7          0.705556        0.610089          0.620912  \n",
       "8          0.761137        0.709445          0.710236  \n",
       "9          0.541054        0.545648          0.534902  "
      ]
     },
     "execution_count": 63,
     "metadata": {},
     "output_type": "execute_result"
    }
   ],
   "source": [
    "data[cols_to_norm].head(10)"
   ]
  },
  {
   "cell_type": "markdown",
   "metadata": {},
   "source": [
    "## write to local csv file:\n"
   ]
  },
  {
   "cell_type": "code",
   "execution_count": 64,
   "metadata": {
    "collapsed": false
   },
   "outputs": [
    {
     "data": {
      "text/plain": [
       "Index(['RefId', 'PurchDate', 'Auction', 'VehYear', 'VehicleAge', 'Make',\n",
       "       'Model', 'Trim', 'SubModel', 'Color',\n",
       "       ...\n",
       "       'TopThreeAmericanName_OTHER', 'AUCGUART_GREEN', 'AUCGUART_RED',\n",
       "       'AUCGUART_YELLOW', 'VNST2_AZ', 'VNST2_CA', 'VNST2_FL', 'VNST2_NC',\n",
       "       'VNST2_Other', 'VNST2_TX'],\n",
       "      dtype='object', length=102)"
      ]
     },
     "execution_count": 64,
     "metadata": {},
     "output_type": "execute_result"
    }
   ],
   "source": [
    "data.to_csv(\"holdout_test.csv\", sep=',', header=True, index=False)\n",
    "data.columns"
   ]
  },
  {
   "cell_type": "code",
   "execution_count": null,
   "metadata": {
    "collapsed": true
   },
   "outputs": [],
   "source": []
  }
 ],
 "metadata": {
  "anaconda-cloud": {},
  "kernelspec": {
   "display_name": "Python [conda root]",
   "language": "python",
   "name": "conda-root-py"
  },
  "language_info": {
   "codemirror_mode": {
    "name": "ipython",
    "version": 3
   },
   "file_extension": ".py",
   "mimetype": "text/x-python",
   "name": "python",
   "nbconvert_exporter": "python",
   "pygments_lexer": "ipython3",
   "version": "3.5.2"
  }
 },
 "nbformat": 4,
 "nbformat_minor": 1
}
