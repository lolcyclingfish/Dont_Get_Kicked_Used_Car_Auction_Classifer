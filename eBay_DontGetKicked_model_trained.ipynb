{
 "cells": [
  {
   "cell_type": "markdown",
   "metadata": {},
   "source": [
    "# Ebay Don't Get Kicked Prediction \n",
    "\n",
    "- data cleansing & feature selection\n",
    "- train/test model using training.csv\n",
    "- select final model"
   ]
  },
  {
   "cell_type": "raw",
   "metadata": {},
   "source": [
    "Data Dictionary:\n",
    "\n",
    "Field Name\t\t\t\tDefinition\n",
    "RefID\t\t\t\t        Unique (sequential) number assigned to vehicles\n",
    "IsBadBuy\t\t\t\tIdentifies if the kicked vehicle was an avoidable purchase \n",
    "PurchDate\t\t\t\tThe Date the vehicle was Purchased at Auction\n",
    "Auction\t\t\t\t\tAuction provider at which the vehicle was purchased\n",
    "VehYear\t\t\t\t\tThe manufacturer's year of the vehicle\n",
    "VehicleAge\t\t\t\tThe Years elapsed since the manufacturer's year\n",
    "Make\t\t\t\t\tVehicle Manufacturer \n",
    "Model\t\t\t\t\tVehicle Model\n",
    "Trim\t\t\t\t\tVehicle Trim Level\n",
    "SubModel\t\t\t\tVehicle Submodel\n",
    "Color\t\t\t\t\tVehicle Color\n",
    "Transmission\t\t\t\tVehicles transmission type (Automatic, Manual)\n",
    "WheelTypeID\t\t\t\tThe type id of the vehicle wheel\n",
    "WheelType\t\t\t\tThe vehicle wheel type description (Alloy, Covers)\n",
    "VehOdo\t\t\t\t\tThe vehicles odometer reading\n",
    "Nationality\t\t\t\tThe Manufacturer's country\n",
    "Size\t\t\t\t\tThe size category of the vehicle (Compact, SUV, etc.)\n",
    "TopThreeAmericanName\t\t\tIdentifies if the manufacturer is one of the top three American manufacturers\n",
    "MMRAcquisitionAuctionAveragePrice\tAcquisition price for this vehicle in average condition at time of purchase\t\n",
    "MMRAcquisitionAuctionCleanPrice\t\tAcquisition price for this vehicle in the above Average condition at time of purchase\n",
    "MMRAcquisitionRetailAveragePrice\tAcquisition price for this vehicle in the retail market in average condition at time of purchase\n",
    "MMRAcquisitonRetailCleanPrice\t\tAcquisition price for this vehicle in the retail market in above average condition at time of purchase\n",
    "MMRCurrentAuctionAveragePrice\t\tAcquisition price for this vehicle in average condition as of current day\t\n",
    "MMRCurrentAuctionCleanPrice\t\tAcquisition price for this vehicle in the above condition as of current day\n",
    "MMRCurrentRetailAveragePrice\t\tAcquisition price for this vehicle in the retail market in average condition as of current day\n",
    "MMRCurrentRetailCleanPrice\t\tAcquisition price for this vehicle in the retail market in above average condition as of current day\n",
    "PRIMEUNIT\t\t\t\tIdentifies if the vehicle would have a higher demand than a standard purchase\n",
    "AcquisitionType\t\t\t\tIdentifies how the vehicle was aquired (Auction buy, trade in, etc)\n",
    "AUCGUART\t\t\t\tThe level guarntee provided by auction for the vehicle (Green light - Guaranteed/arbitratable, Yellow Light - caution/issue, red light - sold as is)\n",
    "KickDate\t\t\t\tDate the vehicle was kicked back to the auction\n",
    "BYRNO\t\t\t\t\tUnique number assigned to the buyer that purchased the vehicle\n",
    "VNZIP                                   Zipcode where the car was purchased\n",
    "VNST                                    State where the the car was purchased\n",
    "VehBCost\t\t\t\tAcquisition cost paid for the vehicle at time of purchase\n",
    "IsOnlineSale\t\t\t\tIdentifies if the vehicle was originally purchased online\n",
    "WarrantyCost                            Warranty price (term=36month  and millage=36K) "
   ]
  },
  {
   "cell_type": "code",
   "execution_count": 264,
   "metadata": {
    "collapsed": true
   },
   "outputs": [],
   "source": [
    "import numpy as np\n",
    "import pandas as pd\n",
    "import matplotlib.pyplot as plt\n",
    "#enable IPython to display matplotlib graphs\n",
    "%matplotlib inline\n",
    "import csv"
   ]
  },
  {
   "cell_type": "code",
   "execution_count": 265,
   "metadata": {
    "collapsed": false,
    "scrolled": true
   },
   "outputs": [
    {
     "data": {
      "text/html": [
       "<div>\n",
       "<table border=\"1\" class=\"dataframe\">\n",
       "  <thead>\n",
       "    <tr style=\"text-align: right;\">\n",
       "      <th></th>\n",
       "      <th>RefId</th>\n",
       "      <th>IsBadBuy</th>\n",
       "      <th>PurchDate</th>\n",
       "      <th>Auction</th>\n",
       "      <th>VehYear</th>\n",
       "      <th>VehicleAge</th>\n",
       "      <th>Make</th>\n",
       "      <th>Model</th>\n",
       "      <th>Trim</th>\n",
       "      <th>SubModel</th>\n",
       "      <th>...</th>\n",
       "      <th>MMRCurrentRetailAveragePrice</th>\n",
       "      <th>MMRCurrentRetailCleanPrice</th>\n",
       "      <th>PRIMEUNIT</th>\n",
       "      <th>AUCGUART</th>\n",
       "      <th>BYRNO</th>\n",
       "      <th>VNZIP1</th>\n",
       "      <th>VNST</th>\n",
       "      <th>VehBCost</th>\n",
       "      <th>IsOnlineSale</th>\n",
       "      <th>WarrantyCost</th>\n",
       "    </tr>\n",
       "  </thead>\n",
       "  <tbody>\n",
       "    <tr>\n",
       "      <th>0</th>\n",
       "      <td>1</td>\n",
       "      <td>0</td>\n",
       "      <td>12/7/2009</td>\n",
       "      <td>ADESA</td>\n",
       "      <td>2006</td>\n",
       "      <td>3</td>\n",
       "      <td>MAZDA</td>\n",
       "      <td>MAZDA3</td>\n",
       "      <td>i</td>\n",
       "      <td>4D SEDAN I</td>\n",
       "      <td>...</td>\n",
       "      <td>11597.0</td>\n",
       "      <td>12409.0</td>\n",
       "      <td>NaN</td>\n",
       "      <td>NaN</td>\n",
       "      <td>21973</td>\n",
       "      <td>33619</td>\n",
       "      <td>FL</td>\n",
       "      <td>7100.0</td>\n",
       "      <td>0</td>\n",
       "      <td>1113</td>\n",
       "    </tr>\n",
       "    <tr>\n",
       "      <th>1</th>\n",
       "      <td>2</td>\n",
       "      <td>0</td>\n",
       "      <td>12/7/2009</td>\n",
       "      <td>ADESA</td>\n",
       "      <td>2004</td>\n",
       "      <td>5</td>\n",
       "      <td>DODGE</td>\n",
       "      <td>1500 RAM PICKUP 2WD</td>\n",
       "      <td>ST</td>\n",
       "      <td>QUAD CAB 4.7L SLT</td>\n",
       "      <td>...</td>\n",
       "      <td>11374.0</td>\n",
       "      <td>12791.0</td>\n",
       "      <td>NaN</td>\n",
       "      <td>NaN</td>\n",
       "      <td>19638</td>\n",
       "      <td>33619</td>\n",
       "      <td>FL</td>\n",
       "      <td>7600.0</td>\n",
       "      <td>0</td>\n",
       "      <td>1053</td>\n",
       "    </tr>\n",
       "    <tr>\n",
       "      <th>2</th>\n",
       "      <td>3</td>\n",
       "      <td>0</td>\n",
       "      <td>12/7/2009</td>\n",
       "      <td>ADESA</td>\n",
       "      <td>2005</td>\n",
       "      <td>4</td>\n",
       "      <td>DODGE</td>\n",
       "      <td>STRATUS V6</td>\n",
       "      <td>SXT</td>\n",
       "      <td>4D SEDAN SXT FFV</td>\n",
       "      <td>...</td>\n",
       "      <td>7146.0</td>\n",
       "      <td>8702.0</td>\n",
       "      <td>NaN</td>\n",
       "      <td>NaN</td>\n",
       "      <td>19638</td>\n",
       "      <td>33619</td>\n",
       "      <td>FL</td>\n",
       "      <td>4900.0</td>\n",
       "      <td>0</td>\n",
       "      <td>1389</td>\n",
       "    </tr>\n",
       "    <tr>\n",
       "      <th>3</th>\n",
       "      <td>4</td>\n",
       "      <td>0</td>\n",
       "      <td>12/7/2009</td>\n",
       "      <td>ADESA</td>\n",
       "      <td>2004</td>\n",
       "      <td>5</td>\n",
       "      <td>DODGE</td>\n",
       "      <td>NEON</td>\n",
       "      <td>SXT</td>\n",
       "      <td>4D SEDAN</td>\n",
       "      <td>...</td>\n",
       "      <td>4375.0</td>\n",
       "      <td>5518.0</td>\n",
       "      <td>NaN</td>\n",
       "      <td>NaN</td>\n",
       "      <td>19638</td>\n",
       "      <td>33619</td>\n",
       "      <td>FL</td>\n",
       "      <td>4100.0</td>\n",
       "      <td>0</td>\n",
       "      <td>630</td>\n",
       "    </tr>\n",
       "    <tr>\n",
       "      <th>4</th>\n",
       "      <td>5</td>\n",
       "      <td>0</td>\n",
       "      <td>12/7/2009</td>\n",
       "      <td>ADESA</td>\n",
       "      <td>2005</td>\n",
       "      <td>4</td>\n",
       "      <td>FORD</td>\n",
       "      <td>FOCUS</td>\n",
       "      <td>ZX3</td>\n",
       "      <td>2D COUPE ZX3</td>\n",
       "      <td>...</td>\n",
       "      <td>6739.0</td>\n",
       "      <td>7911.0</td>\n",
       "      <td>NaN</td>\n",
       "      <td>NaN</td>\n",
       "      <td>19638</td>\n",
       "      <td>33619</td>\n",
       "      <td>FL</td>\n",
       "      <td>4000.0</td>\n",
       "      <td>0</td>\n",
       "      <td>1020</td>\n",
       "    </tr>\n",
       "    <tr>\n",
       "      <th>5</th>\n",
       "      <td>6</td>\n",
       "      <td>0</td>\n",
       "      <td>12/7/2009</td>\n",
       "      <td>ADESA</td>\n",
       "      <td>2004</td>\n",
       "      <td>5</td>\n",
       "      <td>MITSUBISHI</td>\n",
       "      <td>GALANT 4C</td>\n",
       "      <td>ES</td>\n",
       "      <td>4D SEDAN ES</td>\n",
       "      <td>...</td>\n",
       "      <td>8149.0</td>\n",
       "      <td>9451.0</td>\n",
       "      <td>NaN</td>\n",
       "      <td>NaN</td>\n",
       "      <td>19638</td>\n",
       "      <td>33619</td>\n",
       "      <td>FL</td>\n",
       "      <td>5600.0</td>\n",
       "      <td>0</td>\n",
       "      <td>594</td>\n",
       "    </tr>\n",
       "    <tr>\n",
       "      <th>6</th>\n",
       "      <td>7</td>\n",
       "      <td>0</td>\n",
       "      <td>12/7/2009</td>\n",
       "      <td>ADESA</td>\n",
       "      <td>2004</td>\n",
       "      <td>5</td>\n",
       "      <td>KIA</td>\n",
       "      <td>SPECTRA</td>\n",
       "      <td>EX</td>\n",
       "      <td>4D SEDAN EX</td>\n",
       "      <td>...</td>\n",
       "      <td>6230.0</td>\n",
       "      <td>8603.0</td>\n",
       "      <td>NaN</td>\n",
       "      <td>NaN</td>\n",
       "      <td>19638</td>\n",
       "      <td>33619</td>\n",
       "      <td>FL</td>\n",
       "      <td>4200.0</td>\n",
       "      <td>0</td>\n",
       "      <td>533</td>\n",
       "    </tr>\n",
       "    <tr>\n",
       "      <th>7</th>\n",
       "      <td>8</td>\n",
       "      <td>0</td>\n",
       "      <td>12/7/2009</td>\n",
       "      <td>ADESA</td>\n",
       "      <td>2005</td>\n",
       "      <td>4</td>\n",
       "      <td>FORD</td>\n",
       "      <td>TAURUS</td>\n",
       "      <td>SE</td>\n",
       "      <td>4D SEDAN SE</td>\n",
       "      <td>...</td>\n",
       "      <td>6942.0</td>\n",
       "      <td>8242.0</td>\n",
       "      <td>NaN</td>\n",
       "      <td>NaN</td>\n",
       "      <td>19638</td>\n",
       "      <td>33619</td>\n",
       "      <td>FL</td>\n",
       "      <td>4500.0</td>\n",
       "      <td>0</td>\n",
       "      <td>825</td>\n",
       "    </tr>\n",
       "    <tr>\n",
       "      <th>8</th>\n",
       "      <td>9</td>\n",
       "      <td>0</td>\n",
       "      <td>12/7/2009</td>\n",
       "      <td>ADESA</td>\n",
       "      <td>2007</td>\n",
       "      <td>2</td>\n",
       "      <td>KIA</td>\n",
       "      <td>SPECTRA</td>\n",
       "      <td>EX</td>\n",
       "      <td>4D SEDAN EX</td>\n",
       "      <td>...</td>\n",
       "      <td>9637.0</td>\n",
       "      <td>10778.0</td>\n",
       "      <td>NaN</td>\n",
       "      <td>NaN</td>\n",
       "      <td>21973</td>\n",
       "      <td>33619</td>\n",
       "      <td>FL</td>\n",
       "      <td>5600.0</td>\n",
       "      <td>0</td>\n",
       "      <td>482</td>\n",
       "    </tr>\n",
       "    <tr>\n",
       "      <th>9</th>\n",
       "      <td>10</td>\n",
       "      <td>0</td>\n",
       "      <td>12/7/2009</td>\n",
       "      <td>ADESA</td>\n",
       "      <td>2007</td>\n",
       "      <td>2</td>\n",
       "      <td>FORD</td>\n",
       "      <td>FIVE HUNDRED</td>\n",
       "      <td>SEL</td>\n",
       "      <td>4D SEDAN SEL</td>\n",
       "      <td>...</td>\n",
       "      <td>12580.0</td>\n",
       "      <td>14845.0</td>\n",
       "      <td>NaN</td>\n",
       "      <td>NaN</td>\n",
       "      <td>21973</td>\n",
       "      <td>33619</td>\n",
       "      <td>FL</td>\n",
       "      <td>7700.0</td>\n",
       "      <td>0</td>\n",
       "      <td>1633</td>\n",
       "    </tr>\n",
       "  </tbody>\n",
       "</table>\n",
       "<p>10 rows × 34 columns</p>\n",
       "</div>"
      ],
      "text/plain": [
       "   RefId  IsBadBuy  PurchDate Auction  VehYear  VehicleAge        Make  \\\n",
       "0      1         0  12/7/2009   ADESA     2006           3       MAZDA   \n",
       "1      2         0  12/7/2009   ADESA     2004           5       DODGE   \n",
       "2      3         0  12/7/2009   ADESA     2005           4       DODGE   \n",
       "3      4         0  12/7/2009   ADESA     2004           5       DODGE   \n",
       "4      5         0  12/7/2009   ADESA     2005           4        FORD   \n",
       "5      6         0  12/7/2009   ADESA     2004           5  MITSUBISHI   \n",
       "6      7         0  12/7/2009   ADESA     2004           5         KIA   \n",
       "7      8         0  12/7/2009   ADESA     2005           4        FORD   \n",
       "8      9         0  12/7/2009   ADESA     2007           2         KIA   \n",
       "9     10         0  12/7/2009   ADESA     2007           2        FORD   \n",
       "\n",
       "                 Model Trim           SubModel      ...       \\\n",
       "0               MAZDA3    i         4D SEDAN I      ...        \n",
       "1  1500 RAM PICKUP 2WD   ST  QUAD CAB 4.7L SLT      ...        \n",
       "2           STRATUS V6  SXT   4D SEDAN SXT FFV      ...        \n",
       "3                 NEON  SXT           4D SEDAN      ...        \n",
       "4                FOCUS  ZX3       2D COUPE ZX3      ...        \n",
       "5            GALANT 4C   ES        4D SEDAN ES      ...        \n",
       "6              SPECTRA   EX        4D SEDAN EX      ...        \n",
       "7               TAURUS   SE        4D SEDAN SE      ...        \n",
       "8              SPECTRA   EX        4D SEDAN EX      ...        \n",
       "9         FIVE HUNDRED  SEL       4D SEDAN SEL      ...        \n",
       "\n",
       "  MMRCurrentRetailAveragePrice MMRCurrentRetailCleanPrice  PRIMEUNIT AUCGUART  \\\n",
       "0                      11597.0                    12409.0        NaN      NaN   \n",
       "1                      11374.0                    12791.0        NaN      NaN   \n",
       "2                       7146.0                     8702.0        NaN      NaN   \n",
       "3                       4375.0                     5518.0        NaN      NaN   \n",
       "4                       6739.0                     7911.0        NaN      NaN   \n",
       "5                       8149.0                     9451.0        NaN      NaN   \n",
       "6                       6230.0                     8603.0        NaN      NaN   \n",
       "7                       6942.0                     8242.0        NaN      NaN   \n",
       "8                       9637.0                    10778.0        NaN      NaN   \n",
       "9                      12580.0                    14845.0        NaN      NaN   \n",
       "\n",
       "   BYRNO VNZIP1 VNST VehBCost  IsOnlineSale  WarrantyCost  \n",
       "0  21973  33619   FL   7100.0             0          1113  \n",
       "1  19638  33619   FL   7600.0             0          1053  \n",
       "2  19638  33619   FL   4900.0             0          1389  \n",
       "3  19638  33619   FL   4100.0             0           630  \n",
       "4  19638  33619   FL   4000.0             0          1020  \n",
       "5  19638  33619   FL   5600.0             0           594  \n",
       "6  19638  33619   FL   4200.0             0           533  \n",
       "7  19638  33619   FL   4500.0             0           825  \n",
       "8  21973  33619   FL   5600.0             0           482  \n",
       "9  21973  33619   FL   7700.0             0          1633  \n",
       "\n",
       "[10 rows x 34 columns]"
      ]
     },
     "execution_count": 265,
     "metadata": {},
     "output_type": "execute_result"
    }
   ],
   "source": [
    "data=pd.read_csv('training.csv')\n",
    "data.head(10)"
   ]
  },
  {
   "cell_type": "code",
   "execution_count": 266,
   "metadata": {
    "collapsed": false
   },
   "outputs": [
    {
     "data": {
      "text/plain": [
       "(72983, 34)"
      ]
     },
     "execution_count": 266,
     "metadata": {},
     "output_type": "execute_result"
    }
   ],
   "source": [
    "data.shape #72983"
   ]
  },
  {
   "cell_type": "code",
   "execution_count": 267,
   "metadata": {
    "collapsed": false
   },
   "outputs": [
    {
     "data": {
      "text/plain": [
       "Index(['RefId', 'IsBadBuy', 'PurchDate', 'Auction', 'VehYear', 'VehicleAge',\n",
       "       'Make', 'Model', 'Trim', 'SubModel', 'Color', 'Transmission',\n",
       "       'WheelTypeID', 'WheelType', 'VehOdo', 'Nationality', 'Size',\n",
       "       'TopThreeAmericanName', 'MMRAcquisitionAuctionAveragePrice',\n",
       "       'MMRAcquisitionAuctionCleanPrice', 'MMRAcquisitionRetailAveragePrice',\n",
       "       'MMRAcquisitonRetailCleanPrice', 'MMRCurrentAuctionAveragePrice',\n",
       "       'MMRCurrentAuctionCleanPrice', 'MMRCurrentRetailAveragePrice',\n",
       "       'MMRCurrentRetailCleanPrice', 'PRIMEUNIT', 'AUCGUART', 'BYRNO',\n",
       "       'VNZIP1', 'VNST', 'VehBCost', 'IsOnlineSale', 'WarrantyCost'],\n",
       "      dtype='object')"
      ]
     },
     "execution_count": 267,
     "metadata": {},
     "output_type": "execute_result"
    }
   ],
   "source": [
    "data.columns"
   ]
  },
  {
   "cell_type": "markdown",
   "metadata": {},
   "source": [
    "## Variable check up:\n",
    "- response variable: 'IsBadBuy'\n",
    "- index: 'Refld'\n",
    "- numeric variables: 'VehicleAge','VehOdo', 'MMRAcquisitionAuctionAveragePrice','MMRAcquisitionAuctionCleanPrice', 'MMRAcquisitionRetailAveragePrice', 'MMRAcquisitonRetailCleanPrice', 'MMRCurrentAuctionAveragePrice', 'MMRCurrentAuctionCleanPrice', 'MMRCurrentRetailAveragePrice', 'MMRCurrentRetailCleanPrice','VehBCost','WarrantyCost'\n",
    "- binary variables: 'Transmission','PRIMEUNIT','IsOnlineSale'\n",
    "- multi-categorical variables: 'PurchDate','Auction','VehYear', 'Make', 'Model', 'Trim', 'SubModel', 'Color', 'WheelTypeID', 'Nationality', 'Size', 'TopThreeAmericanName', 'AUCGUART','BYRNO','VNZIP1', 'VNST'"
   ]
  },
  {
   "cell_type": "code",
   "execution_count": 268,
   "metadata": {
    "collapsed": false
   },
   "outputs": [
    {
     "data": {
      "text/plain": [
       "99761    3943\n",
       "18880    3588\n",
       "835      2987\n",
       "3453     2927\n",
       "22916    2852\n",
       "21053    2816\n",
       "19619    2738\n",
       "99750    2653\n",
       "17675    2617\n",
       "20928    2586\n",
       "21973    2548\n",
       "17212    2517\n",
       "20740    2414\n",
       "5546     2211\n",
       "18111    2115\n",
       "18822    2102\n",
       "23359    2076\n",
       "8655     2072\n",
       "20234    2063\n",
       "20833    1998\n",
       "19638    1853\n",
       "22808    1851\n",
       "18881    1751\n",
       "16044    1631\n",
       "25100    1622\n",
       "19662    1517\n",
       "20207    1351\n",
       "16926    1328\n",
       "52117    1248\n",
       "8172     1105\n",
       "         ... \n",
       "53245      81\n",
       "1051       73\n",
       "1151       64\n",
       "1045       62\n",
       "1085       50\n",
       "10310      46\n",
       "11410      40\n",
       "1081       37\n",
       "1031       31\n",
       "1121       21\n",
       "1141       21\n",
       "1055       12\n",
       "18091      11\n",
       "1035       10\n",
       "1125       10\n",
       "10410      10\n",
       "1156       10\n",
       "11210       8\n",
       "1041        8\n",
       "16369       7\n",
       "1082        7\n",
       "1152        6\n",
       "10510       4\n",
       "10420       4\n",
       "99760       2\n",
       "1086        1\n",
       "1157        1\n",
       "10425       1\n",
       "99741       1\n",
       "3582        1\n",
       "Name: BYRNO, dtype: int64"
      ]
     },
     "execution_count": 268,
     "metadata": {},
     "output_type": "execute_result"
    }
   ],
   "source": [
    "data['BYRNO'].value_counts()"
   ]
  },
  {
   "cell_type": "code",
   "execution_count": 269,
   "metadata": {
    "collapsed": false
   },
   "outputs": [
    {
     "data": {
      "text/plain": [
       "(69707, 34)"
      ]
     },
     "execution_count": 269,
     "metadata": {},
     "output_type": "execute_result"
    }
   ],
   "source": [
    "#rows with missing value check:\n",
    "nan_rows = lambda df: df[df.isnull().any(axis=1)]\n",
    "nan_rows(data).shape #69707 rows have NaNs"
   ]
  },
  {
   "cell_type": "code",
   "execution_count": 270,
   "metadata": {
    "collapsed": false
   },
   "outputs": [
    {
     "data": {
      "text/plain": [
       "['Trim',\n",
       " 'SubModel',\n",
       " 'Color',\n",
       " 'Transmission',\n",
       " 'WheelTypeID',\n",
       " 'WheelType',\n",
       " 'Nationality',\n",
       " 'Size',\n",
       " 'TopThreeAmericanName',\n",
       " 'MMRAcquisitionAuctionAveragePrice',\n",
       " 'MMRAcquisitionAuctionCleanPrice',\n",
       " 'MMRAcquisitionRetailAveragePrice',\n",
       " 'MMRAcquisitonRetailCleanPrice',\n",
       " 'MMRCurrentAuctionAveragePrice',\n",
       " 'MMRCurrentAuctionCleanPrice',\n",
       " 'MMRCurrentRetailAveragePrice',\n",
       " 'MMRCurrentRetailCleanPrice',\n",
       " 'PRIMEUNIT',\n",
       " 'AUCGUART']"
      ]
     },
     "execution_count": 270,
     "metadata": {},
     "output_type": "execute_result"
    }
   ],
   "source": [
    "#columns with missing value check:\n",
    "nan_cols = lambda df: df.columns[df.isnull().any()].tolist()\n",
    "len(nan_cols(data)) #19 cols\n",
    "nan_cols(data)"
   ]
  },
  {
   "cell_type": "markdown",
   "metadata": {},
   "source": [
    "## Impute/Transform Missing Values\n",
    "\n",
    "['Trim',\n",
    " 'SubModel',\n",
    " 'Color',\n",
    " 'Transmission',\n",
    " 'WheelTypeID',\n",
    " 'WheelType',\n",
    " 'Nationality',\n",
    " 'Size',\n",
    " 'TopThreeAmericanName',\n",
    " 'MMRAcquisitionAuctionAveragePrice',\n",
    " 'MMRAcquisitionAuctionCleanPrice',\n",
    " 'MMRAcquisitionRetailAveragePrice',\n",
    " 'MMRAcquisitonRetailCleanPrice',\n",
    " 'MMRCurrentAuctionAveragePrice',\n",
    " 'MMRCurrentAuctionCleanPrice',\n",
    " 'MMRCurrentRetailAveragePrice',\n",
    " 'MMRCurrentRetailCleanPrice',\n",
    " 'PRIMEUNIT',\n",
    " 'AUCGUART']"
   ]
  },
  {
   "cell_type": "code",
   "execution_count": 271,
   "metadata": {
    "collapsed": false
   },
   "outputs": [
    {
     "data": {
      "text/plain": [
       "False    70623\n",
       "True      2360\n",
       "Name: Trim, dtype: int64"
      ]
     },
     "execution_count": 271,
     "metadata": {},
     "output_type": "execute_result"
    }
   ],
   "source": [
    "#'Trim' has too many levels and missing values\n",
    "#consider convert into binary variable with 1 for having trim, and 0 for no trim\n",
    "data['Trim'].value_counts()\n",
    "data['Trim'].isnull().value_counts()"
   ]
  },
  {
   "cell_type": "code",
   "execution_count": 272,
   "metadata": {
    "collapsed": false
   },
   "outputs": [
    {
     "data": {
      "text/plain": [
       "1.0    70623\n",
       "0.0     2360\n",
       "Name: Trim2, dtype: int64"
      ]
     },
     "execution_count": 272,
     "metadata": {},
     "output_type": "execute_result"
    }
   ],
   "source": [
    "data.loc[~data['Trim'].isnull(),'Trim2']=1\n",
    "data.loc[data['Trim2'].isnull(),'Trim2']=0\n",
    "data['Trim2'].value_counts()"
   ]
  },
  {
   "cell_type": "code",
   "execution_count": 273,
   "metadata": {
    "collapsed": false
   },
   "outputs": [
    {
     "data": {
      "text/plain": [
       "False    72983\n",
       "Name: SubModel, dtype: int64"
      ]
     },
     "execution_count": 273,
     "metadata": {},
     "output_type": "execute_result"
    }
   ],
   "source": [
    "#flat out to binary variables or 4D, SEDAN, SUB, MINIVAN..\n",
    "data['SubModel'].value_counts().head(150) \n",
    "data['SubModel']=data['SubModel'].astype('category')\n",
    "data['SubModel'].isnull().value_counts() #only 8 missing values, we will impute with top frequent level:\n",
    "data.loc[data['SubModel'].isnull(),'SubModel']='4D SEDAN'\n",
    "data['SubModel'].isnull().value_counts()"
   ]
  },
  {
   "cell_type": "code",
   "execution_count": 274,
   "metadata": {
    "collapsed": false
   },
   "outputs": [
    {
     "data": {
      "text/html": [
       "<div>\n",
       "<table border=\"1\" class=\"dataframe\">\n",
       "  <thead>\n",
       "    <tr style=\"text-align: right;\">\n",
       "      <th></th>\n",
       "      <th>4D</th>\n",
       "      <th>2D</th>\n",
       "      <th>SEDAN</th>\n",
       "      <th>SUV</th>\n",
       "      <th>SPORT</th>\n",
       "      <th>MINIVAN</th>\n",
       "      <th>WAGON</th>\n",
       "      <th>COUPE</th>\n",
       "      <th>PASSENGER</th>\n",
       "      <th>CAB</th>\n",
       "      <th>CONVERTIBLE</th>\n",
       "      <th>UTILITY</th>\n",
       "    </tr>\n",
       "  </thead>\n",
       "  <tbody>\n",
       "    <tr>\n",
       "      <th>0</th>\n",
       "      <td>1.0</td>\n",
       "      <td>0.0</td>\n",
       "      <td>1.0</td>\n",
       "      <td>0.0</td>\n",
       "      <td>0.0</td>\n",
       "      <td>0.0</td>\n",
       "      <td>0.0</td>\n",
       "      <td>0.0</td>\n",
       "      <td>0.0</td>\n",
       "      <td>0.0</td>\n",
       "      <td>0.0</td>\n",
       "      <td>0.0</td>\n",
       "    </tr>\n",
       "    <tr>\n",
       "      <th>1</th>\n",
       "      <td>0.0</td>\n",
       "      <td>0.0</td>\n",
       "      <td>0.0</td>\n",
       "      <td>0.0</td>\n",
       "      <td>0.0</td>\n",
       "      <td>0.0</td>\n",
       "      <td>0.0</td>\n",
       "      <td>0.0</td>\n",
       "      <td>0.0</td>\n",
       "      <td>1.0</td>\n",
       "      <td>0.0</td>\n",
       "      <td>0.0</td>\n",
       "    </tr>\n",
       "    <tr>\n",
       "      <th>2</th>\n",
       "      <td>1.0</td>\n",
       "      <td>0.0</td>\n",
       "      <td>1.0</td>\n",
       "      <td>0.0</td>\n",
       "      <td>0.0</td>\n",
       "      <td>0.0</td>\n",
       "      <td>0.0</td>\n",
       "      <td>0.0</td>\n",
       "      <td>0.0</td>\n",
       "      <td>0.0</td>\n",
       "      <td>0.0</td>\n",
       "      <td>0.0</td>\n",
       "    </tr>\n",
       "    <tr>\n",
       "      <th>3</th>\n",
       "      <td>1.0</td>\n",
       "      <td>0.0</td>\n",
       "      <td>1.0</td>\n",
       "      <td>0.0</td>\n",
       "      <td>0.0</td>\n",
       "      <td>0.0</td>\n",
       "      <td>0.0</td>\n",
       "      <td>0.0</td>\n",
       "      <td>0.0</td>\n",
       "      <td>0.0</td>\n",
       "      <td>0.0</td>\n",
       "      <td>0.0</td>\n",
       "    </tr>\n",
       "    <tr>\n",
       "      <th>4</th>\n",
       "      <td>0.0</td>\n",
       "      <td>1.0</td>\n",
       "      <td>0.0</td>\n",
       "      <td>0.0</td>\n",
       "      <td>0.0</td>\n",
       "      <td>0.0</td>\n",
       "      <td>0.0</td>\n",
       "      <td>1.0</td>\n",
       "      <td>0.0</td>\n",
       "      <td>0.0</td>\n",
       "      <td>0.0</td>\n",
       "      <td>0.0</td>\n",
       "    </tr>\n",
       "    <tr>\n",
       "      <th>5</th>\n",
       "      <td>1.0</td>\n",
       "      <td>0.0</td>\n",
       "      <td>1.0</td>\n",
       "      <td>0.0</td>\n",
       "      <td>0.0</td>\n",
       "      <td>0.0</td>\n",
       "      <td>0.0</td>\n",
       "      <td>0.0</td>\n",
       "      <td>0.0</td>\n",
       "      <td>0.0</td>\n",
       "      <td>0.0</td>\n",
       "      <td>0.0</td>\n",
       "    </tr>\n",
       "    <tr>\n",
       "      <th>6</th>\n",
       "      <td>1.0</td>\n",
       "      <td>0.0</td>\n",
       "      <td>1.0</td>\n",
       "      <td>0.0</td>\n",
       "      <td>0.0</td>\n",
       "      <td>0.0</td>\n",
       "      <td>0.0</td>\n",
       "      <td>0.0</td>\n",
       "      <td>0.0</td>\n",
       "      <td>0.0</td>\n",
       "      <td>0.0</td>\n",
       "      <td>0.0</td>\n",
       "    </tr>\n",
       "    <tr>\n",
       "      <th>7</th>\n",
       "      <td>1.0</td>\n",
       "      <td>0.0</td>\n",
       "      <td>1.0</td>\n",
       "      <td>0.0</td>\n",
       "      <td>0.0</td>\n",
       "      <td>0.0</td>\n",
       "      <td>0.0</td>\n",
       "      <td>0.0</td>\n",
       "      <td>0.0</td>\n",
       "      <td>0.0</td>\n",
       "      <td>0.0</td>\n",
       "      <td>0.0</td>\n",
       "    </tr>\n",
       "    <tr>\n",
       "      <th>8</th>\n",
       "      <td>1.0</td>\n",
       "      <td>0.0</td>\n",
       "      <td>1.0</td>\n",
       "      <td>0.0</td>\n",
       "      <td>0.0</td>\n",
       "      <td>0.0</td>\n",
       "      <td>0.0</td>\n",
       "      <td>0.0</td>\n",
       "      <td>0.0</td>\n",
       "      <td>0.0</td>\n",
       "      <td>0.0</td>\n",
       "      <td>0.0</td>\n",
       "    </tr>\n",
       "    <tr>\n",
       "      <th>9</th>\n",
       "      <td>1.0</td>\n",
       "      <td>0.0</td>\n",
       "      <td>1.0</td>\n",
       "      <td>0.0</td>\n",
       "      <td>0.0</td>\n",
       "      <td>0.0</td>\n",
       "      <td>0.0</td>\n",
       "      <td>0.0</td>\n",
       "      <td>0.0</td>\n",
       "      <td>0.0</td>\n",
       "      <td>0.0</td>\n",
       "      <td>0.0</td>\n",
       "    </tr>\n",
       "  </tbody>\n",
       "</table>\n",
       "</div>"
      ],
      "text/plain": [
       "    4D   2D  SEDAN  SUV  SPORT  MINIVAN  WAGON  COUPE  PASSENGER  CAB  \\\n",
       "0  1.0  0.0    1.0  0.0    0.0      0.0    0.0    0.0        0.0  0.0   \n",
       "1  0.0  0.0    0.0  0.0    0.0      0.0    0.0    0.0        0.0  1.0   \n",
       "2  1.0  0.0    1.0  0.0    0.0      0.0    0.0    0.0        0.0  0.0   \n",
       "3  1.0  0.0    1.0  0.0    0.0      0.0    0.0    0.0        0.0  0.0   \n",
       "4  0.0  1.0    0.0  0.0    0.0      0.0    0.0    1.0        0.0  0.0   \n",
       "5  1.0  0.0    1.0  0.0    0.0      0.0    0.0    0.0        0.0  0.0   \n",
       "6  1.0  0.0    1.0  0.0    0.0      0.0    0.0    0.0        0.0  0.0   \n",
       "7  1.0  0.0    1.0  0.0    0.0      0.0    0.0    0.0        0.0  0.0   \n",
       "8  1.0  0.0    1.0  0.0    0.0      0.0    0.0    0.0        0.0  0.0   \n",
       "9  1.0  0.0    1.0  0.0    0.0      0.0    0.0    0.0        0.0  0.0   \n",
       "\n",
       "   CONVERTIBLE  UTILITY  \n",
       "0          0.0      0.0  \n",
       "1          0.0      0.0  \n",
       "2          0.0      0.0  \n",
       "3          0.0      0.0  \n",
       "4          0.0      0.0  \n",
       "5          0.0      0.0  \n",
       "6          0.0      0.0  \n",
       "7          0.0      0.0  \n",
       "8          0.0      0.0  \n",
       "9          0.0      0.0  "
      ]
     },
     "execution_count": 274,
     "metadata": {},
     "output_type": "execute_result"
    }
   ],
   "source": [
    "#binary variables to flat out from 'SubModel'\n",
    "#'4D', '2D', SEDAN', 'SUV', 'SPORT', 'MINIVAN', 'WAGON', 'COUPE', 'PASSENGER', 'CAB', 'CONVERTIBLE','UTILITY'\n",
    "\n",
    "keywords_from_SubModel=['4D', '2D', 'SEDAN', 'SUV', 'SPORT', 'MINIVAN', 'WAGON', 'COUPE', 'PASSENGER', \n",
    "                      'CAB', 'CONVERTIBLE','UTILITY']\n",
    "binary_var_from_SubModel=['4D', '2D', 'SEDAN', 'SUV', 'SPORT', 'MINIVAN', 'WAGON', 'COUPE', 'PASSENGER', \n",
    "                      'CAB', 'CONVERTIBLE','UTILITY']\n",
    "\n",
    "for keyword, var in zip(keywords_from_SubModel, binary_var_from_SubModel):\n",
    "    data.loc[data['SubModel'].str.contains(keyword),var]=1\n",
    "    data.loc[data[var].isnull(),var]=0\n",
    "\n",
    "data[binary_var_from_SubModel].head(10)"
   ]
  },
  {
   "cell_type": "code",
   "execution_count": 275,
   "metadata": {
    "collapsed": false
   },
   "outputs": [
    {
     "data": {
      "text/plain": [
       "False    72983\n",
       "Name: Color, dtype: int64"
      ]
     },
     "execution_count": 275,
     "metadata": {},
     "output_type": "execute_result"
    }
   ],
   "source": [
    "#'Color' has only 8 missing values, we impute with top frequent level\n",
    "data['Color'].isnull().value_counts()\n",
    "data['Color'].value_counts() #silver is the most popular\n",
    "data.loc[data['Color'].isnull(),'Color']='Silver'\n",
    "data['Color'].isnull().value_counts()"
   ]
  },
  {
   "cell_type": "code",
   "execution_count": 276,
   "metadata": {
    "collapsed": false
   },
   "outputs": [
    {
     "data": {
      "text/plain": [
       "AUTO      70407\n",
       "MANUAL     2576\n",
       "Name: Transmission, dtype: int64"
      ]
     },
     "execution_count": 276,
     "metadata": {},
     "output_type": "execute_result"
    }
   ],
   "source": [
    "#'Transmission' only 9 missing values, impute with top frequent level\n",
    "data['Transmission'].isnull().value_counts()\n",
    "data['Transmission'].value_counts() #'AUTO'\n",
    "data.loc[data['Transmission'].isnull(),'Transmission']='AUTO'\n",
    "data.loc[data['Transmission']=='Manual','Transmission']='MANUAL'\n",
    "data['Transmission'].value_counts()"
   ]
  },
  {
   "cell_type": "code",
   "execution_count": 277,
   "metadata": {
    "collapsed": false
   },
   "outputs": [
    {
     "data": {
      "text/plain": [
       "Covers     36178\n",
       "Alloy      36050\n",
       "Special      755\n",
       "Name: WheelType, dtype: int64"
      ]
     },
     "execution_count": 277,
     "metadata": {},
     "output_type": "execute_result"
    }
   ],
   "source": [
    "#'WheelTypeID','WheelType' are interchangeable, we will use WheelType\n",
    "data['WheelType'].isnull().value_counts() #3000 missing values\n",
    "data['WheelType'].value_counts() #top two frequent terms are 'Alloy', 'Covers'\n",
    "#impute missing values with two frequent terms randomly\n",
    "import random \n",
    "data.loc[data['WheelType'].isnull(),'WheelType']=random.choice(['Alloy','Covers'])\n",
    "data['WheelType'].value_counts()"
   ]
  },
  {
   "cell_type": "code",
   "execution_count": 278,
   "metadata": {
    "collapsed": false
   },
   "outputs": [
    {
     "data": {
      "text/plain": [
       "AMERICAN          61033\n",
       "OTHER ASIAN        8033\n",
       "TOP LINE ASIAN     3722\n",
       "OTHER               195\n",
       "Name: Nationality, dtype: int64"
      ]
     },
     "execution_count": 278,
     "metadata": {},
     "output_type": "execute_result"
    }
   ],
   "source": [
    "#impute with most frequent level 'AMERICAN'\n",
    "data['Nationality'].isnull().value_counts() #only 5 missing values\n",
    "data['Nationality'].value_counts()\n",
    "data.loc[data['Nationality'].isnull(),'Nationality']='AMERICAN'\n",
    "data['Nationality'].value_counts() "
   ]
  },
  {
   "cell_type": "code",
   "execution_count": 279,
   "metadata": {
    "collapsed": false
   },
   "outputs": [
    {
     "data": {
      "text/plain": [
       "MEDIUM         30790\n",
       "LARGE           8850\n",
       "MEDIUM SUV      8090\n",
       "COMPACT         7205\n",
       "VAN             5854\n",
       "LARGE TRUCK     3170\n",
       "SMALL SUV       2276\n",
       "SPECIALTY       1915\n",
       "CROSSOVER       1759\n",
       "LARGE SUV       1433\n",
       "SMALL TRUCK      864\n",
       "SPORTS           777\n",
       "Name: Size, dtype: int64"
      ]
     },
     "execution_count": 279,
     "metadata": {},
     "output_type": "execute_result"
    }
   ],
   "source": [
    "#impute with most frequent level\n",
    "data['Size'].isnull().value_counts() #only 5 missing values\n",
    "data['Size'].value_counts()\n",
    "data.loc[data['Size'].isnull(),'Size']='MEDIUM'\n",
    "data['Size'].value_counts() "
   ]
  },
  {
   "cell_type": "code",
   "execution_count": 280,
   "metadata": {
    "collapsed": false
   },
   "outputs": [
    {
     "data": {
      "text/plain": [
       "GM          25319\n",
       "CHRYSLER    23399\n",
       "FORD        12315\n",
       "OTHER       11950\n",
       "Name: TopThreeAmericanName, dtype: int64"
      ]
     },
     "execution_count": 280,
     "metadata": {},
     "output_type": "execute_result"
    }
   ],
   "source": [
    "#impute with top frequent level\n",
    "data['TopThreeAmericanName'].isnull().value_counts() #only 5 missing values\n",
    "data['TopThreeAmericanName'].value_counts()\n",
    "data.loc[data['TopThreeAmericanName'].isnull(),'TopThreeAmericanName']='GM'\n",
    "data['TopThreeAmericanName'].value_counts() "
   ]
  },
  {
   "cell_type": "code",
   "execution_count": 281,
   "metadata": {
    "collapsed": false
   },
   "outputs": [
    {
     "data": {
      "text/html": [
       "<div>\n",
       "<table border=\"1\" class=\"dataframe\">\n",
       "  <thead>\n",
       "    <tr style=\"text-align: right;\">\n",
       "      <th></th>\n",
       "      <th>MMRAcquisitionAuctionAveragePrice</th>\n",
       "      <th>MMRAcquisitionAuctionCleanPrice</th>\n",
       "      <th>MMRAcquisitionRetailAveragePrice</th>\n",
       "      <th>MMRAcquisitonRetailCleanPrice</th>\n",
       "      <th>MMRCurrentAuctionAveragePrice</th>\n",
       "      <th>MMRCurrentAuctionCleanPrice</th>\n",
       "      <th>MMRCurrentRetailAveragePrice</th>\n",
       "      <th>MMRCurrentRetailCleanPrice</th>\n",
       "    </tr>\n",
       "  </thead>\n",
       "  <tbody>\n",
       "  </tbody>\n",
       "</table>\n",
       "</div>"
      ],
      "text/plain": [
       "Empty DataFrame\n",
       "Columns: [MMRAcquisitionAuctionAveragePrice, MMRAcquisitionAuctionCleanPrice, MMRAcquisitionRetailAveragePrice, MMRAcquisitonRetailCleanPrice, MMRCurrentAuctionAveragePrice, MMRCurrentAuctionCleanPrice, MMRCurrentRetailAveragePrice, MMRCurrentRetailCleanPrice]\n",
       "Index: []"
      ]
     },
     "execution_count": 281,
     "metadata": {},
     "output_type": "execute_result"
    }
   ],
   "source": [
    "#for price related numerical variables, we impute with median value\n",
    "list_to_impute=['MMRAcquisitionAuctionAveragePrice',\n",
    " 'MMRAcquisitionAuctionCleanPrice',\n",
    " 'MMRAcquisitionRetailAveragePrice',\n",
    " 'MMRAcquisitonRetailCleanPrice',\n",
    " 'MMRCurrentAuctionAveragePrice',\n",
    " 'MMRCurrentAuctionCleanPrice',\n",
    " 'MMRCurrentRetailAveragePrice',\n",
    " 'MMRCurrentRetailCleanPrice']\n",
    "\n",
    "for var in list_to_impute:\n",
    "    data.loc[data[var].isnull(), var]=data[var].median()\n",
    "    \n",
    "nan_rows(data[list_to_impute]) #all NaNs cleared"
   ]
  },
  {
   "cell_type": "code",
   "execution_count": 282,
   "metadata": {
    "collapsed": false
   },
   "outputs": [
    {
     "data": {
      "text/plain": [
       "NO     72921\n",
       "YES       62\n",
       "Name: PRIMEUNIT, dtype: int64"
      ]
     },
     "execution_count": 282,
     "metadata": {},
     "output_type": "execute_result"
    }
   ],
   "source": [
    "#impute with top frequent level\n",
    "data['PRIMEUNIT'].isnull().value_counts() #3000 missing values\n",
    "data['PRIMEUNIT'].value_counts() \n",
    "data.loc[data['PRIMEUNIT'].isnull(),'PRIMEUNIT']='NO'\n",
    "data['PRIMEUNIT'].value_counts()"
   ]
  },
  {
   "cell_type": "code",
   "execution_count": 283,
   "metadata": {
    "collapsed": false
   },
   "outputs": [
    {
     "data": {
      "text/plain": [
       "YELLOW    69564\n",
       "GREEN      3340\n",
       "RED          79\n",
       "Name: AUCGUART, dtype: int64"
      ]
     },
     "execution_count": 283,
     "metadata": {},
     "output_type": "execute_result"
    }
   ],
   "source": [
    "#Impute with cautious neutral term 'YELLOW'\n",
    "data['AUCGUART'].isnull().value_counts()\n",
    "data['AUCGUART'].value_counts()\n",
    "data.loc[data['AUCGUART'].isnull(),'AUCGUART']='YELLOW'\n",
    "data['AUCGUART'].value_counts()"
   ]
  },
  {
   "cell_type": "markdown",
   "metadata": {},
   "source": [
    "## Transform/Recode Features\n",
    "\n",
    "multi-categorical variables: 'PurchDate','Auction','VehYear', 'Make', 'Model', 'Trim', 'SubModel', 'Color', 'WheelType', 'Nationality', 'Size', 'TopThreeAmericanName', 'AUCGUART','BYRNO','VNZIP1', 'VNST'\n",
    "\n",
    "- recode 'Make' into top 4 makes and other\n",
    "- use binary variables created from 'SubModel' instead \n",
    "- recode 'Color' into top 6 and other\n",
    "- recode 'Size' into 'MEDIUM', 'LARGE' and 'SMALL'\n",
    "- recode 'VNST' into top 5 states and other\n",
    "- break 'Model' into a list of tokens, and recode into top frequency terms and other "
   ]
  },
  {
   "cell_type": "code",
   "execution_count": 284,
   "metadata": {
    "collapsed": false
   },
   "outputs": [
    {
     "data": {
      "text/plain": [
       "Other        22674\n",
       "CHEVROLET    17248\n",
       "DODGE        12912\n",
       "FORD         11305\n",
       "CHRYSLER      8844\n",
       "Name: Make2, dtype: int64"
      ]
     },
     "execution_count": 284,
     "metadata": {},
     "output_type": "execute_result"
    }
   ],
   "source": [
    "#recode 'Make' into top 4 makes and other\n",
    "data['Make'].value_counts() \n",
    "top_4_make=['CHEVROLET','DODGE','FORD','CHRYSLER']\n",
    "\n",
    "for make in top_4_make:\n",
    "    data.loc[data['Make']==make, 'Make2']=make\n",
    "data.loc[data['Make2'].isnull(),'Make2']='Other'\n",
    "data['Make2'].value_counts()"
   ]
  },
  {
   "cell_type": "code",
   "execution_count": 285,
   "metadata": {
    "collapsed": false
   },
   "outputs": [
    {
     "data": {
      "text/plain": [
       "SILVER    14875\n",
       "Other     13867\n",
       "WHITE     12123\n",
       "BLUE      10347\n",
       "GREY       7887\n",
       "BLACK      7627\n",
       "RED        6257\n",
       "Name: Color2, dtype: int64"
      ]
     },
     "execution_count": 285,
     "metadata": {},
     "output_type": "execute_result"
    }
   ],
   "source": [
    "#recode 'Color' into top 6 and other\n",
    "data['Color'].value_counts() \n",
    "top_6_color=['SILVER','WHITE','BLUE','GREY','BLACK','RED']\n",
    "\n",
    "for color in top_6_color:\n",
    "    data.loc[data['Color']==color, 'Color2']=color\n",
    "data.loc[data['Color2'].isnull(),'Color2']='Other'\n",
    "data['Color2'].value_counts()"
   ]
  },
  {
   "cell_type": "code",
   "execution_count": 286,
   "metadata": {
    "collapsed": false
   },
   "outputs": [
    {
     "data": {
      "text/plain": [
       "MEDIUM    38880\n",
       "LARGE     13453\n",
       "SMALL     10345\n",
       "VAN        5854\n",
       "Other      4451\n",
       "Name: Size2, dtype: int64"
      ]
     },
     "execution_count": 286,
     "metadata": {},
     "output_type": "execute_result"
    }
   ],
   "source": [
    "#recode 'Size' into 'MEDIUM', 'LARGE' and 'SMALL'\n",
    "data['Size'].value_counts() \n",
    "sizes=['LARGE','MEDIUM','SMALL','COMPACT','VAN']\n",
    "\n",
    "for size in sizes:\n",
    "    data.loc[data['Size'].str.contains(size), 'Size2']=size\n",
    "data.loc[data['Size2'].isnull(),'Size2']='Other'\n",
    "\n",
    "#group 'COMPACT' and 'SMALL' into 'SMALL'\n",
    "data.loc[data['Size2']=='COMPACT','Size2']='SMALL'\n",
    "data['Size2'].value_counts()"
   ]
  },
  {
   "cell_type": "code",
   "execution_count": 287,
   "metadata": {
    "collapsed": false
   },
   "outputs": [
    {
     "data": {
      "text/plain": [
       "Other    28629\n",
       "TX       13596\n",
       "FL       10447\n",
       "CA        7095\n",
       "NC        7042\n",
       "AZ        6174\n",
       "Name: VNST2, dtype: int64"
      ]
     },
     "execution_count": 287,
     "metadata": {},
     "output_type": "execute_result"
    }
   ],
   "source": [
    "#recode 'VNST' into top 5 states and other\n",
    "data['VNST'].value_counts() \n",
    "top_5_VNST=['TX','FL','CA','NC','AZ']\n",
    "\n",
    "for state in top_5_VNST:\n",
    "    data.loc[data['VNST']==state, 'VNST2']=state\n",
    "data.loc[data['VNST2'].isnull(),'VNST2']='Other'\n",
    "data['VNST2'].value_counts()"
   ]
  },
  {
   "cell_type": "code",
   "execution_count": 288,
   "metadata": {
    "collapsed": false,
    "scrolled": true
   },
   "outputs": [
    {
     "data": {
      "text/plain": [
       "V6          28571\n",
       "4C          11229\n",
       "2WD         11009\n",
       "I4           9070\n",
       "FWD          7197\n",
       "IMPALA       4784\n",
       "GRAND        4222\n",
       "2.4L         3777\n",
       "CRUISER      3729\n",
       "PT           3728\n",
       "V8           3706\n",
       "4WD          3429\n",
       "MALIBU       3410\n",
       "PICKUP       3280\n",
       "SFI          3154\n",
       "3.5L         3126\n",
       "S            3082\n",
       "EFI          3075\n",
       "TAURUS       2756\n",
       "2.0L         2633\n",
       "SEBRING      2542\n",
       "STRATUS      2535\n",
       "3.0L         2511\n",
       "2.2L         2444\n",
       "MPI          2428\n",
       "1500         2196\n",
       "CARAVAN      2128\n",
       "2.7L         2031\n",
       "M            2023\n",
       "6C           1909\n",
       "            ...  \n",
       "1.8             1\n",
       "3.5             1\n",
       "Unsp            1\n",
       "LHS             1\n",
       "FX35            1\n",
       "ESCALADE        1\n",
       "TOUAREG         1\n",
       "SMPI            1\n",
       "SOHC            1\n",
       "FIT             1\n",
       "/3.3L           1\n",
       "MIRAGE          1\n",
       "I-370           1\n",
       "Engine          1\n",
       "FJ              1\n",
       "GX470           1\n",
       "G8              1\n",
       "Pacifica        1\n",
       "PASSAT          1\n",
       "SPYDER          1\n",
       "S60             1\n",
       "I-290           1\n",
       "GS450H          1\n",
       "RX330           1\n",
       "16V             1\n",
       "G20             1\n",
       "MR2             1\n",
       "H3              1\n",
       "N               1\n",
       "HYBRID          1\n",
       "Name: 0, dtype: int64"
      ]
     },
     "execution_count": 288,
     "metadata": {},
     "output_type": "execute_result"
    }
   ],
   "source": [
    "# break 'Model' into a list of tokens, and recode into top frequency terms and other\n",
    "# consider the complexity and trivialness of tokens extracted, we will exclude 'Model' from analysis for now\n",
    "# could consider extracting 'Engine Displacement', 'AWD/FWD/4WD', 'V6/V8' etc. \n",
    "model_to_list=' '.join(data['Model'].tolist())\n",
    "tokens=model_to_list.split()\n",
    "pd.DataFrame(tokens)[0].value_counts()"
   ]
  },
  {
   "cell_type": "code",
   "execution_count": 289,
   "metadata": {
    "collapsed": true
   },
   "outputs": [],
   "source": [
    "#create new numeric variables of premium paid for the car toward price at average condition\n",
    "#and toward price at above average condition, at time of purchase, as percentage of original paid price\n",
    "#in auction market\n",
    "data['premium_ave_auc']=(data['VehBCost']-data['MMRAcquisitionAuctionAveragePrice'])/data['VehBCost']\n",
    "data['premium_above_auc']=(data['VehBCost']-data['MMRAcquisitionAuctionCleanPrice'])/data['VehBCost']\n",
    "#in retail market\n",
    "data['premium_ave_mkt']=(data['VehBCost']-data['MMRAcquisitionRetailAveragePrice'])/data['VehBCost']\n",
    "data['premium_above_mkt']=(data['VehBCost']-data['MMRAcquisitonRetailCleanPrice'])/data['VehBCost']\n",
    "\n",
    "#ideally, the dealer purchase price for a used car is higher than auction house price, but much lower than retail market price, \n",
    "#so as to realize profit by reselling the car in retail"
   ]
  },
  {
   "cell_type": "code",
   "execution_count": 290,
   "metadata": {
    "collapsed": false
   },
   "outputs": [
    {
     "data": {
      "text/plain": [
       "count    72983.000000\n",
       "mean        -0.523332\n",
       "std         15.638844\n",
       "min      -4224.000000\n",
       "25%         -0.671207\n",
       "50%         -0.473951\n",
       "75%         -0.261416\n",
       "max          1.000000\n",
       "Name: premium_above_mkt, dtype: float64"
      ]
     },
     "execution_count": 290,
     "metadata": {},
     "output_type": "execute_result"
    }
   ],
   "source": [
    "data['premium_above_mkt'].describe()"
   ]
  },
  {
   "cell_type": "code",
   "execution_count": 291,
   "metadata": {
    "collapsed": true
   },
   "outputs": [],
   "source": [
    "#create new numeric variables of depreciation of the car at original used purchase price vs price at average condition\n",
    "#and vs price at above average condition, as of current day, as percentage of original paid price\n",
    "#in auction market\n",
    "data['deprec_ave_auc']=(data['VehBCost']-data['MMRCurrentAuctionAveragePrice'])/data['VehBCost']\n",
    "data['deprec_above_auc']=(data['VehBCost']-data['MMRCurrentAuctionCleanPrice'])/data['VehBCost']\n",
    "#in retail market\n",
    "data['deprec_ave_mkt']=(data['VehBCost']-data['MMRCurrentRetailAveragePrice'])/data['VehBCost']\n",
    "data['deprec_above_mkt']=(data['VehBCost']-data['MMRCurrentRetailCleanPrice'])/data['VehBCost']"
   ]
  },
  {
   "cell_type": "code",
   "execution_count": 292,
   "metadata": {
    "collapsed": false
   },
   "outputs": [
    {
     "data": {
      "text/plain": [
       "count    72983.000000\n",
       "mean        -0.571087\n",
       "std         15.601168\n",
       "min      -4214.000000\n",
       "25%         -0.710612\n",
       "50%         -0.518631\n",
       "75%         -0.309794\n",
       "max          1.000000\n",
       "Name: deprec_above_mkt, dtype: float64"
      ]
     },
     "execution_count": 292,
     "metadata": {},
     "output_type": "execute_result"
    }
   ],
   "source": [
    "data['deprec_above_mkt'].describe()"
   ]
  },
  {
   "cell_type": "markdown",
   "metadata": {},
   "source": [
    "## OneHotEncode Selected Multi-Categorical and Non-indexed Binary Variables\n",
    "\n",
    "binary variables: 'Transmission','PRIMEUNIT','IsOnlineSale' ('IsOnlineSale' is coded in 0 and 1 already)\n",
    "multi-categorical variables: 'PurchDate','Auction','VehYear', 'Make', 'Model', 'Trim', 'SubModel', 'Color', 'WheelTypeID', 'Nationality', 'Size', 'TopThreeAmericanName', 'AUCGUART','BYRNO','VNZIP1', 'VNST'\n",
    "\n",
    "Selected multi-categorical and non-indexed binary variables: 'Transmission','PRIMEUNIT', 'Auction', 'Make2', 'Color2', 'WheelType', 'Nationality', 'Size2', 'TopThreeAmericanName', 'AUCGUART', 'VNST'\n"
   ]
  },
  {
   "cell_type": "code",
   "execution_count": 293,
   "metadata": {
    "collapsed": false
   },
   "outputs": [
    {
     "data": {
      "text/plain": [
       "Index(['Transmission_AUTO', 'Transmission_MANUAL', 'PRIMEUNIT_NO',\n",
       "       'PRIMEUNIT_YES', 'Auction_ADESA', 'Auction_MANHEIM', 'Auction_OTHER',\n",
       "       'Make2_CHEVROLET', 'Make2_CHRYSLER', 'Make2_DODGE', 'Make2_FORD',\n",
       "       'Make2_Other', 'Color2_BLACK', 'Color2_BLUE', 'Color2_GREY',\n",
       "       'Color2_Other', 'Color2_RED', 'Color2_SILVER', 'Color2_WHITE',\n",
       "       'WheelType_Alloy', 'WheelType_Covers', 'WheelType_Special',\n",
       "       'Nationality_AMERICAN', 'Nationality_OTHER', 'Nationality_OTHER ASIAN',\n",
       "       'Nationality_TOP LINE ASIAN', 'Size2_LARGE', 'Size2_MEDIUM',\n",
       "       'Size2_Other', 'Size2_SMALL', 'Size2_VAN',\n",
       "       'TopThreeAmericanName_CHRYSLER', 'TopThreeAmericanName_FORD',\n",
       "       'TopThreeAmericanName_GM', 'TopThreeAmericanName_OTHER',\n",
       "       'AUCGUART_GREEN', 'AUCGUART_RED', 'AUCGUART_YELLOW', 'VNST2_AZ',\n",
       "       'VNST2_CA', 'VNST2_FL', 'VNST2_NC', 'VNST2_Other', 'VNST2_TX'],\n",
       "      dtype='object')"
      ]
     },
     "execution_count": 293,
     "metadata": {},
     "output_type": "execute_result"
    }
   ],
   "source": [
    "cols_to_onehot=['Transmission','PRIMEUNIT', 'Auction', 'Make2', 'Color2', 'WheelType', 'Nationality', 'Size2', \n",
    "                'TopThreeAmericanName', 'AUCGUART', 'VNST2']\n",
    "onehotencoded=pd.get_dummies(data[cols_to_onehot], prefix=cols_to_onehot)\n",
    "onehotencoded.columns"
   ]
  },
  {
   "cell_type": "code",
   "execution_count": 294,
   "metadata": {
    "collapsed": false,
    "scrolled": true
   },
   "outputs": [
    {
     "data": {
      "text/plain": [
       "['RefId',\n",
       " 'IsBadBuy',\n",
       " 'PurchDate',\n",
       " 'Auction',\n",
       " 'VehYear',\n",
       " 'VehicleAge',\n",
       " 'Make',\n",
       " 'Model',\n",
       " 'Trim',\n",
       " 'SubModel',\n",
       " 'Color',\n",
       " 'Transmission',\n",
       " 'WheelTypeID',\n",
       " 'WheelType',\n",
       " 'VehOdo',\n",
       " 'Nationality',\n",
       " 'Size',\n",
       " 'TopThreeAmericanName',\n",
       " 'MMRAcquisitionAuctionAveragePrice',\n",
       " 'MMRAcquisitionAuctionCleanPrice',\n",
       " 'MMRAcquisitionRetailAveragePrice',\n",
       " 'MMRAcquisitonRetailCleanPrice',\n",
       " 'MMRCurrentAuctionAveragePrice',\n",
       " 'MMRCurrentAuctionCleanPrice',\n",
       " 'MMRCurrentRetailAveragePrice',\n",
       " 'MMRCurrentRetailCleanPrice',\n",
       " 'PRIMEUNIT',\n",
       " 'AUCGUART',\n",
       " 'BYRNO',\n",
       " 'VNZIP1',\n",
       " 'VNST',\n",
       " 'VehBCost',\n",
       " 'IsOnlineSale',\n",
       " 'WarrantyCost',\n",
       " 'Trim2',\n",
       " '4D',\n",
       " '2D',\n",
       " 'SEDAN',\n",
       " 'SUV',\n",
       " 'SPORT',\n",
       " 'MINIVAN',\n",
       " 'WAGON',\n",
       " 'COUPE',\n",
       " 'PASSENGER',\n",
       " 'CAB',\n",
       " 'CONVERTIBLE',\n",
       " 'UTILITY',\n",
       " 'Make2',\n",
       " 'Color2',\n",
       " 'Size2',\n",
       " 'VNST2',\n",
       " 'premium_ave_auc',\n",
       " 'premium_above_auc',\n",
       " 'premium_ave_mkt',\n",
       " 'premium_above_mkt',\n",
       " 'deprec_ave_auc',\n",
       " 'deprec_above_auc',\n",
       " 'deprec_ave_mkt',\n",
       " 'deprec_above_mkt',\n",
       " 'Transmission_AUTO',\n",
       " 'Transmission_MANUAL',\n",
       " 'PRIMEUNIT_NO',\n",
       " 'PRIMEUNIT_YES',\n",
       " 'Auction_ADESA',\n",
       " 'Auction_MANHEIM',\n",
       " 'Auction_OTHER',\n",
       " 'Make2_CHEVROLET',\n",
       " 'Make2_CHRYSLER',\n",
       " 'Make2_DODGE',\n",
       " 'Make2_FORD',\n",
       " 'Make2_Other',\n",
       " 'Color2_BLACK',\n",
       " 'Color2_BLUE',\n",
       " 'Color2_GREY',\n",
       " 'Color2_Other',\n",
       " 'Color2_RED',\n",
       " 'Color2_SILVER',\n",
       " 'Color2_WHITE',\n",
       " 'WheelType_Alloy',\n",
       " 'WheelType_Covers',\n",
       " 'WheelType_Special',\n",
       " 'Nationality_AMERICAN',\n",
       " 'Nationality_OTHER',\n",
       " 'Nationality_OTHER ASIAN',\n",
       " 'Nationality_TOP LINE ASIAN',\n",
       " 'Size2_LARGE',\n",
       " 'Size2_MEDIUM',\n",
       " 'Size2_Other',\n",
       " 'Size2_SMALL',\n",
       " 'Size2_VAN',\n",
       " 'TopThreeAmericanName_CHRYSLER',\n",
       " 'TopThreeAmericanName_FORD',\n",
       " 'TopThreeAmericanName_GM',\n",
       " 'TopThreeAmericanName_OTHER',\n",
       " 'AUCGUART_GREEN',\n",
       " 'AUCGUART_RED',\n",
       " 'AUCGUART_YELLOW',\n",
       " 'VNST2_AZ',\n",
       " 'VNST2_CA',\n",
       " 'VNST2_FL',\n",
       " 'VNST2_NC',\n",
       " 'VNST2_Other',\n",
       " 'VNST2_TX']"
      ]
     },
     "execution_count": 294,
     "metadata": {},
     "output_type": "execute_result"
    }
   ],
   "source": [
    "#concatenate back to data:\n",
    "data=pd.concat([data, onehotencoded],axis=1)\n",
    "data.columns.tolist()"
   ]
  },
  {
   "cell_type": "markdown",
   "metadata": {},
   "source": [
    "## Normalize Numerical Variables\n",
    "\n",
    "numeric variables: 'VehicleAge','VehOdo', 'MMRAcquisitionAuctionAveragePrice','MMRAcquisitionAuctionCleanPrice', 'MMRAcquisitionRetailAveragePrice', 'MMRAcquisitonRetailCleanPrice', 'MMRCurrentAuctionAveragePrice', 'MMRCurrentAuctionCleanPrice', 'MMRCurrentRetailAveragePrice', 'MMRCurrentRetailCleanPrice','VehBCost','WarrantyCost'"
   ]
  },
  {
   "cell_type": "code",
   "execution_count": 295,
   "metadata": {
    "collapsed": false
   },
   "outputs": [],
   "source": [
    "cols_to_norm = ['VehicleAge','VehOdo', 'MMRAcquisitionAuctionAveragePrice','MMRAcquisitionAuctionCleanPrice',\n",
    "                'MMRAcquisitionRetailAveragePrice', 'MMRAcquisitonRetailCleanPrice', 'MMRCurrentAuctionAveragePrice', \n",
    "                'MMRCurrentAuctionCleanPrice', 'MMRCurrentRetailAveragePrice', 'MMRCurrentRetailCleanPrice',\n",
    "                'VehBCost','WarrantyCost',\n",
    "                'premium_ave_auc','premium_above_auc','premium_ave_mkt', 'premium_above_mkt', \n",
    "                'deprec_ave_auc', 'deprec_above_auc', 'deprec_ave_mkt','deprec_above_mkt']\n",
    "data[cols_to_norm] = data[cols_to_norm].apply(lambda x: (x - x.min()) / (x.max() - x.min()))"
   ]
  },
  {
   "cell_type": "code",
   "execution_count": 296,
   "metadata": {
    "collapsed": false
   },
   "outputs": [
    {
     "data": {
      "text/html": [
       "<div>\n",
       "<table border=\"1\" class=\"dataframe\">\n",
       "  <thead>\n",
       "    <tr style=\"text-align: right;\">\n",
       "      <th></th>\n",
       "      <th>VehicleAge</th>\n",
       "      <th>VehOdo</th>\n",
       "      <th>MMRAcquisitionAuctionAveragePrice</th>\n",
       "      <th>MMRAcquisitionAuctionCleanPrice</th>\n",
       "      <th>MMRAcquisitionRetailAveragePrice</th>\n",
       "      <th>MMRAcquisitonRetailCleanPrice</th>\n",
       "      <th>MMRCurrentAuctionAveragePrice</th>\n",
       "      <th>MMRCurrentAuctionCleanPrice</th>\n",
       "      <th>MMRCurrentRetailAveragePrice</th>\n",
       "      <th>MMRCurrentRetailCleanPrice</th>\n",
       "      <th>VehBCost</th>\n",
       "      <th>WarrantyCost</th>\n",
       "      <th>premium_ave_auc</th>\n",
       "      <th>premium_above_auc</th>\n",
       "      <th>premium_ave_mkt</th>\n",
       "      <th>premium_above_mkt</th>\n",
       "      <th>deprec_ave_auc</th>\n",
       "      <th>deprec_above_auc</th>\n",
       "      <th>deprec_ave_mkt</th>\n",
       "      <th>deprec_above_mkt</th>\n",
       "    </tr>\n",
       "  </thead>\n",
       "  <tbody>\n",
       "    <tr>\n",
       "      <th>0</th>\n",
       "      <td>0.333333</td>\n",
       "      <td>0.759487</td>\n",
       "      <td>0.228291</td>\n",
       "      <td>0.266665</td>\n",
       "      <td>0.297748</td>\n",
       "      <td>0.327853</td>\n",
       "      <td>0.208583</td>\n",
       "      <td>0.232019</td>\n",
       "      <td>0.296750</td>\n",
       "      <td>0.302202</td>\n",
       "      <td>0.156132</td>\n",
       "      <td>0.092524</td>\n",
       "      <td>0.999524</td>\n",
       "      <td>0.999599</td>\n",
       "      <td>0.999472</td>\n",
       "      <td>0.999547</td>\n",
       "      <td>0.999563</td>\n",
       "      <td>0.999650</td>\n",
       "      <td>0.999472</td>\n",
       "      <td>0.999585</td>\n",
       "    </tr>\n",
       "    <tr>\n",
       "      <th>1</th>\n",
       "      <td>0.555556</td>\n",
       "      <td>0.800491</td>\n",
       "      <td>0.191871</td>\n",
       "      <td>0.227434</td>\n",
       "      <td>0.278838</td>\n",
       "      <td>0.303071</td>\n",
       "      <td>0.208723</td>\n",
       "      <td>0.250197</td>\n",
       "      <td>0.291044</td>\n",
       "      <td>0.311505</td>\n",
       "      <td>0.167129</td>\n",
       "      <td>0.083997</td>\n",
       "      <td>0.999626</td>\n",
       "      <td>0.999680</td>\n",
       "      <td>0.999538</td>\n",
       "      <td>0.999608</td>\n",
       "      <td>0.999592</td>\n",
       "      <td>0.999647</td>\n",
       "      <td>0.999516</td>\n",
       "      <td>0.999601</td>\n",
       "    </tr>\n",
       "    <tr>\n",
       "      <th>2</th>\n",
       "      <td>0.444444</td>\n",
       "      <td>0.622065</td>\n",
       "      <td>0.089637</td>\n",
       "      <td>0.129141</td>\n",
       "      <td>0.177661</td>\n",
       "      <td>0.203872</td>\n",
       "      <td>0.112956</td>\n",
       "      <td>0.150764</td>\n",
       "      <td>0.182856</td>\n",
       "      <td>0.211923</td>\n",
       "      <td>0.107746</td>\n",
       "      <td>0.131751</td>\n",
       "      <td>0.999729</td>\n",
       "      <td>0.999718</td>\n",
       "      <td>0.999544</td>\n",
       "      <td>0.999591</td>\n",
       "      <td>0.999657</td>\n",
       "      <td>0.999670</td>\n",
       "      <td>0.999529</td>\n",
       "      <td>0.999579</td>\n",
       "    </tr>\n",
       "    <tr>\n",
       "      <th>3</th>\n",
       "      <td>0.555556</td>\n",
       "      <td>0.548209</td>\n",
       "      <td>0.052993</td>\n",
       "      <td>0.072574</td>\n",
       "      <td>0.119191</td>\n",
       "      <td>0.137168</td>\n",
       "      <td>0.051621</td>\n",
       "      <td>0.071787</td>\n",
       "      <td>0.111950</td>\n",
       "      <td>0.134382</td>\n",
       "      <td>0.090151</td>\n",
       "      <td>0.023877</td>\n",
       "      <td>0.999808</td>\n",
       "      <td>0.999811</td>\n",
       "      <td>0.999634</td>\n",
       "      <td>0.999672</td>\n",
       "      <td>0.999813</td>\n",
       "      <td>0.999812</td>\n",
       "      <td>0.999655</td>\n",
       "      <td>0.999681</td>\n",
       "    </tr>\n",
       "    <tr>\n",
       "      <th>4</th>\n",
       "      <td>0.444444</td>\n",
       "      <td>0.582026</td>\n",
       "      <td>0.109540</td>\n",
       "      <td>0.137117</td>\n",
       "      <td>0.197620</td>\n",
       "      <td>0.209898</td>\n",
       "      <td>0.090896</td>\n",
       "      <td>0.118940</td>\n",
       "      <td>0.172441</td>\n",
       "      <td>0.192660</td>\n",
       "      <td>0.087952</td>\n",
       "      <td>0.079306</td>\n",
       "      <td>0.999594</td>\n",
       "      <td>0.999634</td>\n",
       "      <td>0.999378</td>\n",
       "      <td>0.999485</td>\n",
       "      <td>0.999662</td>\n",
       "      <td>0.999681</td>\n",
       "      <td>0.999455</td>\n",
       "      <td>0.999531</td>\n",
       "    </tr>\n",
       "    <tr>\n",
       "      <th>5</th>\n",
       "      <td>0.555556</td>\n",
       "      <td>0.687417</td>\n",
       "      <td>0.109204</td>\n",
       "      <td>0.133156</td>\n",
       "      <td>0.171597</td>\n",
       "      <td>0.206764</td>\n",
       "      <td>0.131824</td>\n",
       "      <td>0.158089</td>\n",
       "      <td>0.208521</td>\n",
       "      <td>0.230164</td>\n",
       "      <td>0.123142</td>\n",
       "      <td>0.018761</td>\n",
       "      <td>0.999711</td>\n",
       "      <td>0.999746</td>\n",
       "      <td>0.999614</td>\n",
       "      <td>0.999637</td>\n",
       "      <td>0.999650</td>\n",
       "      <td>0.999698</td>\n",
       "      <td>0.999530</td>\n",
       "      <td>0.999600</td>\n",
       "    </tr>\n",
       "    <tr>\n",
       "      <th>6</th>\n",
       "      <td>0.555556</td>\n",
       "      <td>0.545603</td>\n",
       "      <td>0.083030</td>\n",
       "      <td>0.109553</td>\n",
       "      <td>0.159672</td>\n",
       "      <td>0.204812</td>\n",
       "      <td>0.083422</td>\n",
       "      <td>0.111642</td>\n",
       "      <td>0.159417</td>\n",
       "      <td>0.209512</td>\n",
       "      <td>0.092351</td>\n",
       "      <td>0.010091</td>\n",
       "      <td>0.999707</td>\n",
       "      <td>0.999721</td>\n",
       "      <td>0.999521</td>\n",
       "      <td>0.999521</td>\n",
       "      <td>0.999705</td>\n",
       "      <td>0.999715</td>\n",
       "      <td>0.999521</td>\n",
       "      <td>0.999514</td>\n",
       "    </tr>\n",
       "    <tr>\n",
       "      <th>7</th>\n",
       "      <td>0.444444</td>\n",
       "      <td>0.549904</td>\n",
       "      <td>0.092744</td>\n",
       "      <td>0.117800</td>\n",
       "      <td>0.170599</td>\n",
       "      <td>0.185791</td>\n",
       "      <td>0.103942</td>\n",
       "      <td>0.124203</td>\n",
       "      <td>0.177636</td>\n",
       "      <td>0.200721</td>\n",
       "      <td>0.098949</td>\n",
       "      <td>0.051592</td>\n",
       "      <td>0.999695</td>\n",
       "      <td>0.999720</td>\n",
       "      <td>0.999523</td>\n",
       "      <td>0.999595</td>\n",
       "      <td>0.999656</td>\n",
       "      <td>0.999704</td>\n",
       "      <td>0.999501</td>\n",
       "      <td>0.999565</td>\n",
       "    </tr>\n",
       "    <tr>\n",
       "      <th>8</th>\n",
       "      <td>0.222222</td>\n",
       "      <td>0.406666</td>\n",
       "      <td>0.173451</td>\n",
       "      <td>0.197347</td>\n",
       "      <td>0.247876</td>\n",
       "      <td>0.256111</td>\n",
       "      <td>0.179637</td>\n",
       "      <td>0.199978</td>\n",
       "      <td>0.246597</td>\n",
       "      <td>0.262481</td>\n",
       "      <td>0.123142</td>\n",
       "      <td>0.002843</td>\n",
       "      <td>0.999541</td>\n",
       "      <td>0.999623</td>\n",
       "      <td>0.999443</td>\n",
       "      <td>0.999551</td>\n",
       "      <td>0.999523</td>\n",
       "      <td>0.999617</td>\n",
       "      <td>0.999444</td>\n",
       "      <td>0.999543</td>\n",
       "    </tr>\n",
       "    <tr>\n",
       "      <th>9</th>\n",
       "      <td>0.222222</td>\n",
       "      <td>0.721846</td>\n",
       "      <td>0.219613</td>\n",
       "      <td>0.264576</td>\n",
       "      <td>0.300256</td>\n",
       "      <td>0.329203</td>\n",
       "      <td>0.256621</td>\n",
       "      <td>0.298109</td>\n",
       "      <td>0.321904</td>\n",
       "      <td>0.361526</td>\n",
       "      <td>0.169328</td>\n",
       "      <td>0.166430</td>\n",
       "      <td>0.999577</td>\n",
       "      <td>0.999633</td>\n",
       "      <td>0.999509</td>\n",
       "      <td>0.999580</td>\n",
       "      <td>0.999504</td>\n",
       "      <td>0.999585</td>\n",
       "      <td>0.999472</td>\n",
       "      <td>0.999543</td>\n",
       "    </tr>\n",
       "  </tbody>\n",
       "</table>\n",
       "</div>"
      ],
      "text/plain": [
       "   VehicleAge    VehOdo  MMRAcquisitionAuctionAveragePrice  \\\n",
       "0    0.333333  0.759487                           0.228291   \n",
       "1    0.555556  0.800491                           0.191871   \n",
       "2    0.444444  0.622065                           0.089637   \n",
       "3    0.555556  0.548209                           0.052993   \n",
       "4    0.444444  0.582026                           0.109540   \n",
       "5    0.555556  0.687417                           0.109204   \n",
       "6    0.555556  0.545603                           0.083030   \n",
       "7    0.444444  0.549904                           0.092744   \n",
       "8    0.222222  0.406666                           0.173451   \n",
       "9    0.222222  0.721846                           0.219613   \n",
       "\n",
       "   MMRAcquisitionAuctionCleanPrice  MMRAcquisitionRetailAveragePrice  \\\n",
       "0                         0.266665                          0.297748   \n",
       "1                         0.227434                          0.278838   \n",
       "2                         0.129141                          0.177661   \n",
       "3                         0.072574                          0.119191   \n",
       "4                         0.137117                          0.197620   \n",
       "5                         0.133156                          0.171597   \n",
       "6                         0.109553                          0.159672   \n",
       "7                         0.117800                          0.170599   \n",
       "8                         0.197347                          0.247876   \n",
       "9                         0.264576                          0.300256   \n",
       "\n",
       "   MMRAcquisitonRetailCleanPrice  MMRCurrentAuctionAveragePrice  \\\n",
       "0                       0.327853                       0.208583   \n",
       "1                       0.303071                       0.208723   \n",
       "2                       0.203872                       0.112956   \n",
       "3                       0.137168                       0.051621   \n",
       "4                       0.209898                       0.090896   \n",
       "5                       0.206764                       0.131824   \n",
       "6                       0.204812                       0.083422   \n",
       "7                       0.185791                       0.103942   \n",
       "8                       0.256111                       0.179637   \n",
       "9                       0.329203                       0.256621   \n",
       "\n",
       "   MMRCurrentAuctionCleanPrice  MMRCurrentRetailAveragePrice  \\\n",
       "0                     0.232019                      0.296750   \n",
       "1                     0.250197                      0.291044   \n",
       "2                     0.150764                      0.182856   \n",
       "3                     0.071787                      0.111950   \n",
       "4                     0.118940                      0.172441   \n",
       "5                     0.158089                      0.208521   \n",
       "6                     0.111642                      0.159417   \n",
       "7                     0.124203                      0.177636   \n",
       "8                     0.199978                      0.246597   \n",
       "9                     0.298109                      0.321904   \n",
       "\n",
       "   MMRCurrentRetailCleanPrice  VehBCost  WarrantyCost  premium_ave_auc  \\\n",
       "0                    0.302202  0.156132      0.092524         0.999524   \n",
       "1                    0.311505  0.167129      0.083997         0.999626   \n",
       "2                    0.211923  0.107746      0.131751         0.999729   \n",
       "3                    0.134382  0.090151      0.023877         0.999808   \n",
       "4                    0.192660  0.087952      0.079306         0.999594   \n",
       "5                    0.230164  0.123142      0.018761         0.999711   \n",
       "6                    0.209512  0.092351      0.010091         0.999707   \n",
       "7                    0.200721  0.098949      0.051592         0.999695   \n",
       "8                    0.262481  0.123142      0.002843         0.999541   \n",
       "9                    0.361526  0.169328      0.166430         0.999577   \n",
       "\n",
       "   premium_above_auc  premium_ave_mkt  premium_above_mkt  deprec_ave_auc  \\\n",
       "0           0.999599         0.999472           0.999547        0.999563   \n",
       "1           0.999680         0.999538           0.999608        0.999592   \n",
       "2           0.999718         0.999544           0.999591        0.999657   \n",
       "3           0.999811         0.999634           0.999672        0.999813   \n",
       "4           0.999634         0.999378           0.999485        0.999662   \n",
       "5           0.999746         0.999614           0.999637        0.999650   \n",
       "6           0.999721         0.999521           0.999521        0.999705   \n",
       "7           0.999720         0.999523           0.999595        0.999656   \n",
       "8           0.999623         0.999443           0.999551        0.999523   \n",
       "9           0.999633         0.999509           0.999580        0.999504   \n",
       "\n",
       "   deprec_above_auc  deprec_ave_mkt  deprec_above_mkt  \n",
       "0          0.999650        0.999472          0.999585  \n",
       "1          0.999647        0.999516          0.999601  \n",
       "2          0.999670        0.999529          0.999579  \n",
       "3          0.999812        0.999655          0.999681  \n",
       "4          0.999681        0.999455          0.999531  \n",
       "5          0.999698        0.999530          0.999600  \n",
       "6          0.999715        0.999521          0.999514  \n",
       "7          0.999704        0.999501          0.999565  \n",
       "8          0.999617        0.999444          0.999543  \n",
       "9          0.999585        0.999472          0.999543  "
      ]
     },
     "execution_count": 296,
     "metadata": {},
     "output_type": "execute_result"
    }
   ],
   "source": [
    "data[cols_to_norm].head(10)"
   ]
  },
  {
   "cell_type": "markdown",
   "metadata": {},
   "source": [
    "## Features Selection "
   ]
  },
  {
   "cell_type": "code",
   "execution_count": 351,
   "metadata": {
    "collapsed": true
   },
   "outputs": [],
   "source": [
    "initial_cols_to_model=['VehicleAge','VehOdo', \n",
    "               'WarrantyCost','VehBCost','MMRAcquisitionAuctionAveragePrice','MMRAcquisitionAuctionCleanPrice',\n",
    "                'MMRAcquisitionRetailAveragePrice', 'MMRAcquisitonRetailCleanPrice', 'MMRCurrentAuctionAveragePrice', \n",
    "                'MMRCurrentAuctionCleanPrice', 'MMRCurrentRetailAveragePrice', 'MMRCurrentRetailCleanPrice', \n",
    "             'IsOnlineSale','Trim2',\n",
    "            '4D','2D', 'SEDAN','SUV', 'SPORT', 'MINIVAN', 'WAGON','COUPE', 'PASSENGER', 'CAB','CONVERTIBLE', 'UTILITY',\n",
    "                      'Transmission_AUTO','Transmission_MANUAL',\n",
    "'PRIMEUNIT_YES',\n",
    "'Auction_ADESA','Auction_MANHEIM',\n",
    " 'Make2_CHEVROLET','Make2_CHRYSLER','Make2_DODGE', 'Make2_FORD', \n",
    " 'Color2_BLACK','Color2_BLUE','Color2_GREY','Color2_RED','Color2_SILVER','Color2_WHITE',\n",
    " 'WheelType_Alloy','WheelType_Covers',\n",
    " 'Nationality_AMERICAN','Nationality_OTHER ASIAN','Nationality_TOP LINE ASIAN',\n",
    " 'Size2_LARGE','Size2_MEDIUM','Size2_SMALL','Size2_VAN',\n",
    " 'TopThreeAmericanName_CHRYSLER','TopThreeAmericanName_FORD','TopThreeAmericanName_GM',\n",
    " 'AUCGUART_GREEN','AUCGUART_RED',\n",
    " 'VNST2_AZ','VNST2_CA', 'VNST2_FL','VNST2_NC','VNST2_TX']\n",
    "\n",
    "#reserve as base variables:'PRIMEUNIT_NO','Auction_OTHER','Make2_Other','Color2_Other','WheelType_Special','Nationality_OTHER',\n",
    "#'Size2_Other','TopThreeAmericanName_OTHER','AUCGUART_YELLOW','VNST2_Other',"
   ]
  },
  {
   "cell_type": "code",
   "execution_count": 352,
   "metadata": {
    "collapsed": false
   },
   "outputs": [
    {
     "data": {
      "text/plain": [
       "(31,)"
      ]
     },
     "execution_count": 352,
     "metadata": {},
     "output_type": "execute_result"
    }
   ],
   "source": [
    "#select significant features from initial set of features above and re-enter model training:\n",
    "\n",
    "cols_to_drop=['Color2_RED',\n",
    " 'Nationality_AMERICAN',\n",
    " 'Size2_SMALL',\n",
    " 'MMRCurrentAuctionCleanPrice',\n",
    " 'TopThreeAmericanName_GM',\n",
    " 'TopThreeAmericanName_CHRYSLER',\n",
    " 'MMRAcquisitonRetailCleanPrice',\n",
    " 'TopThreeAmericanName_FORD',\n",
    " 'IsOnlineSale',\n",
    " 'Make2_CHEVROLET',\n",
    " 'Nationality_OTHER ASIAN',\n",
    " 'Make2_FORD',\n",
    " 'Color2_WHITE',\n",
    " 'MMRAcquisitionAuctionCleanPrice',\n",
    " 'MMRCurrentRetailCleanPrice',\n",
    " 'WarrantyCost',\n",
    " 'Color2_BLACK',\n",
    " 'Make2_DODGE',\n",
    " 'Nationality_TOP LINE ASIAN',\n",
    " 'Color2_GREY',\n",
    " 'VNST2_AZ',\n",
    " 'Size2_VAN',\n",
    " 'Color2_SILVER',\n",
    " 'Color2_BLUE',\n",
    " '2D','VNST2_CA', 'SPORT', '4D',\n",
    "'MINIVAN', 'PASSENGER'] #drop insignificant variables from previous model training results\n",
    "\n",
    "cols_to_model=pd.concat([data[list(set(initial_cols_to_model)-set(cols_to_drop))],data['IsBadBuy']], axis=1)\n",
    "cols_to_model.columns.shape"
   ]
  },
  {
   "cell_type": "markdown",
   "metadata": {},
   "source": [
    "## Model Fitting - Logistic Regression"
   ]
  },
  {
   "cell_type": "code",
   "execution_count": 353,
   "metadata": {
    "collapsed": true
   },
   "outputs": [],
   "source": [
    "import statsmodels.api as sm\n",
    "import statsmodels.formula.api as smf"
   ]
  },
  {
   "cell_type": "code",
   "execution_count": 354,
   "metadata": {
    "collapsed": false
   },
   "outputs": [],
   "source": [
    "#train/test split for model training and accuracy testing:\n",
    "selected = np.random.rand(len(cols_to_model)) < 0.70\n",
    "\n",
    "cols_to_model_train = cols_to_model[selected] #training set\n",
    "\n",
    "cols_to_model_test = cols_to_model[~selected] #testing set"
   ]
  },
  {
   "cell_type": "code",
   "execution_count": 355,
   "metadata": {
    "collapsed": false
   },
   "outputs": [
    {
     "name": "stderr",
     "output_type": "stream",
     "text": [
      "C:\\Users\\Dingding\\Anaconda3\\lib\\site-packages\\ipykernel\\__main__.py:6: SettingWithCopyWarning: \n",
      "A value is trying to be set on a copy of a slice from a DataFrame.\n",
      "Try using .loc[row_indexer,col_indexer] = value instead\n",
      "\n",
      "See the caveats in the documentation: http://pandas.pydata.org/pandas-docs/stable/indexing.html#indexing-view-versus-copy\n"
     ]
    }
   ],
   "source": [
    "#note sm.Logit() takes dataframe instead of series, need to convert label into dataframe instead of pd.Series\n",
    "#all input should be in float64:\n",
    "label_train=cols_to_model_train['IsBadBuy'].astype(float) #response variable\n",
    "del cols_to_model_train['IsBadBuy']\n",
    "for col in cols_to_model_train.columns:\n",
    "    cols_to_model_train[col]=cols_to_model_train[col].astype(float)   "
   ]
  },
  {
   "cell_type": "code",
   "execution_count": 356,
   "metadata": {
    "collapsed": false
   },
   "outputs": [
    {
     "name": "stdout",
     "output_type": "stream",
     "text": [
      "Optimization terminated successfully.\n",
      "         Current function value: 0.348941\n",
      "         Iterations 7\n"
     ]
    }
   ],
   "source": [
    "#initiate logfit model \n",
    "logfit = sm.Logit(label_train, cols_to_model_train)\n",
    "# fit the model\n",
    "result = logfit.fit(maxiter=1000)"
   ]
  },
  {
   "cell_type": "code",
   "execution_count": 357,
   "metadata": {
    "collapsed": false
   },
   "outputs": [
    {
     "name": "stdout",
     "output_type": "stream",
     "text": [
      "                           Logit Regression Results                           \n",
      "==============================================================================\n",
      "Dep. Variable:               IsBadBuy   No. Observations:                51079\n",
      "Model:                          Logit   Df Residuals:                    51049\n",
      "Method:                           MLE   Df Model:                           29\n",
      "Date:                Tue, 26 Sep 2017   Pseudo R-squ.:                 0.07124\n",
      "Time:                        20:05:04   Log-Likelihood:                -17824.\n",
      "converged:                       True   LL-Null:                       -19191.\n",
      "                                        LLR p-value:                     0.000\n",
      "=====================================================================================================\n",
      "                                        coef    std err          z      P>|z|      [0.025      0.975]\n",
      "-----------------------------------------------------------------------------------------------------\n",
      "VNST2_TX                              0.1205      0.037      3.291      0.001       0.049       0.192\n",
      "VNST2_FL                             -0.3006      0.044     -6.762      0.000      -0.388      -0.213\n",
      "Size2_MEDIUM                         -0.0679      0.038     -1.786      0.074      -0.142       0.007\n",
      "MMRCurrentAuctionAveragePrice         8.8503      0.952      9.292      0.000       6.984      10.717\n",
      "MMRAcquisitionRetailAveragePrice      6.6087      0.716      9.231      0.000       5.206       8.012\n",
      "VNST2_NC                             -0.1303      0.049     -2.638      0.008      -0.227      -0.033\n",
      "PRIMEUNIT_YES                         1.1381      0.616      1.848      0.065      -0.069       2.345\n",
      "VehBCost                             -5.1616      0.718     -7.194      0.000      -6.568      -3.755\n",
      "Size2_LARGE                          -0.1514      0.051     -2.949      0.003      -0.252      -0.051\n",
      "MMRCurrentRetailAveragePrice         -6.4411      0.745     -8.640      0.000      -7.902      -4.980\n",
      "CAB                                   0.2712      0.081      3.328      0.001       0.111       0.431\n",
      "Transmission_MANUAL                  -3.9428      0.207    -19.066      0.000      -4.348      -3.538\n",
      "SEDAN                                 0.1657      0.053      3.122      0.002       0.062       0.270\n",
      "Trim2                                -0.5243      0.071     -7.430      0.000      -0.663      -0.386\n",
      "AUCGUART_RED                         -1.7194      0.526     -3.267      0.001      -2.751      -0.688\n",
      "Auction_MANHEIM                      -0.1265      0.036     -3.483      0.000      -0.198      -0.055\n",
      "WheelType_Covers                      0.4238      0.132      3.203      0.001       0.164       0.683\n",
      "Make2_CHRYSLER                        0.2785      0.045      6.171      0.000       0.190       0.367\n",
      "VehOdo                                1.3629      0.123     11.046      0.000       1.121       1.605\n",
      "WheelType_Alloy                      -0.1353      0.132     -1.027      0.304      -0.393       0.123\n",
      "Transmission_AUTO                    -3.5727      0.197    -18.094      0.000      -3.960      -3.186\n",
      "VehicleAge                            2.9334      0.115     25.587      0.000       2.709       3.158\n",
      "SUV                                   0.4237      0.067      6.343      0.000       0.293       0.555\n",
      "WAGON                                 0.5605      0.077      7.309      0.000       0.410       0.711\n",
      "AUCGUART_GREEN                       -1.6056      0.109    -14.683      0.000      -1.820      -1.391\n",
      "UTILITY                               0.5310      0.087      6.075      0.000       0.360       0.702\n",
      "COUPE                                 0.3660      0.078      4.673      0.000       0.212       0.520\n",
      "Auction_ADESA                         0.1985      0.042      4.755      0.000       0.117       0.280\n",
      "CONVERTIBLE                           0.5977      0.160      3.725      0.000       0.283       0.912\n",
      "MMRAcquisitionAuctionAveragePrice    -6.8447      1.017     -6.730      0.000      -8.838      -4.851\n",
      "=====================================================================================================\n"
     ]
    }
   ],
   "source": [
    "print(result.summary())"
   ]
  },
  {
   "cell_type": "code",
   "execution_count": 358,
   "metadata": {
    "collapsed": false
   },
   "outputs": [
    {
     "data": {
      "text/html": [
       "<div>\n",
       "<table border=\"1\" class=\"dataframe\">\n",
       "  <thead>\n",
       "    <tr style=\"text-align: right;\">\n",
       "      <th></th>\n",
       "      <th>features</th>\n",
       "      <th>pvalues</th>\n",
       "    </tr>\n",
       "  </thead>\n",
       "  <tbody>\n",
       "    <tr>\n",
       "      <th>0</th>\n",
       "      <td>VNST2_TX</td>\n",
       "      <td>9.986326e-04</td>\n",
       "    </tr>\n",
       "    <tr>\n",
       "      <th>1</th>\n",
       "      <td>VNST2_FL</td>\n",
       "      <td>1.361433e-11</td>\n",
       "    </tr>\n",
       "    <tr>\n",
       "      <th>2</th>\n",
       "      <td>Size2_MEDIUM</td>\n",
       "      <td>7.404835e-02</td>\n",
       "    </tr>\n",
       "    <tr>\n",
       "      <th>3</th>\n",
       "      <td>MMRCurrentAuctionAveragePrice</td>\n",
       "      <td>1.509125e-20</td>\n",
       "    </tr>\n",
       "    <tr>\n",
       "      <th>4</th>\n",
       "      <td>MMRAcquisitionRetailAveragePrice</td>\n",
       "      <td>2.669854e-20</td>\n",
       "    </tr>\n",
       "    <tr>\n",
       "      <th>5</th>\n",
       "      <td>VNST2_NC</td>\n",
       "      <td>8.350856e-03</td>\n",
       "    </tr>\n",
       "    <tr>\n",
       "      <th>6</th>\n",
       "      <td>PRIMEUNIT_YES</td>\n",
       "      <td>6.462910e-02</td>\n",
       "    </tr>\n",
       "    <tr>\n",
       "      <th>7</th>\n",
       "      <td>VehBCost</td>\n",
       "      <td>6.309317e-13</td>\n",
       "    </tr>\n",
       "    <tr>\n",
       "      <th>8</th>\n",
       "      <td>Size2_LARGE</td>\n",
       "      <td>3.193190e-03</td>\n",
       "    </tr>\n",
       "    <tr>\n",
       "      <th>9</th>\n",
       "      <td>MMRCurrentRetailAveragePrice</td>\n",
       "      <td>5.604160e-18</td>\n",
       "    </tr>\n",
       "    <tr>\n",
       "      <th>10</th>\n",
       "      <td>CAB</td>\n",
       "      <td>8.751524e-04</td>\n",
       "    </tr>\n",
       "    <tr>\n",
       "      <th>11</th>\n",
       "      <td>Transmission_MANUAL</td>\n",
       "      <td>4.824449e-81</td>\n",
       "    </tr>\n",
       "    <tr>\n",
       "      <th>12</th>\n",
       "      <td>SEDAN</td>\n",
       "      <td>1.793552e-03</td>\n",
       "    </tr>\n",
       "    <tr>\n",
       "      <th>13</th>\n",
       "      <td>Trim2</td>\n",
       "      <td>1.082425e-13</td>\n",
       "    </tr>\n",
       "    <tr>\n",
       "      <th>14</th>\n",
       "      <td>AUCGUART_RED</td>\n",
       "      <td>1.085633e-03</td>\n",
       "    </tr>\n",
       "    <tr>\n",
       "      <th>15</th>\n",
       "      <td>Auction_MANHEIM</td>\n",
       "      <td>4.954345e-04</td>\n",
       "    </tr>\n",
       "    <tr>\n",
       "      <th>16</th>\n",
       "      <td>WheelType_Covers</td>\n",
       "      <td>1.360730e-03</td>\n",
       "    </tr>\n",
       "    <tr>\n",
       "      <th>17</th>\n",
       "      <td>Make2_CHRYSLER</td>\n",
       "      <td>6.764752e-10</td>\n",
       "    </tr>\n",
       "    <tr>\n",
       "      <th>18</th>\n",
       "      <td>VehOdo</td>\n",
       "      <td>2.282280e-28</td>\n",
       "    </tr>\n",
       "    <tr>\n",
       "      <th>19</th>\n",
       "      <td>WheelType_Alloy</td>\n",
       "      <td>3.042108e-01</td>\n",
       "    </tr>\n",
       "    <tr>\n",
       "      <th>20</th>\n",
       "      <td>Transmission_AUTO</td>\n",
       "      <td>3.525953e-73</td>\n",
       "    </tr>\n",
       "    <tr>\n",
       "      <th>21</th>\n",
       "      <td>VehicleAge</td>\n",
       "      <td>2.110028e-144</td>\n",
       "    </tr>\n",
       "    <tr>\n",
       "      <th>22</th>\n",
       "      <td>SUV</td>\n",
       "      <td>2.251174e-10</td>\n",
       "    </tr>\n",
       "    <tr>\n",
       "      <th>23</th>\n",
       "      <td>WAGON</td>\n",
       "      <td>2.696199e-13</td>\n",
       "    </tr>\n",
       "    <tr>\n",
       "      <th>24</th>\n",
       "      <td>AUCGUART_GREEN</td>\n",
       "      <td>8.251143e-49</td>\n",
       "    </tr>\n",
       "    <tr>\n",
       "      <th>25</th>\n",
       "      <td>UTILITY</td>\n",
       "      <td>1.243504e-09</td>\n",
       "    </tr>\n",
       "    <tr>\n",
       "      <th>26</th>\n",
       "      <td>COUPE</td>\n",
       "      <td>2.973986e-06</td>\n",
       "    </tr>\n",
       "    <tr>\n",
       "      <th>27</th>\n",
       "      <td>Auction_ADESA</td>\n",
       "      <td>1.980905e-06</td>\n",
       "    </tr>\n",
       "    <tr>\n",
       "      <th>28</th>\n",
       "      <td>CONVERTIBLE</td>\n",
       "      <td>1.955252e-04</td>\n",
       "    </tr>\n",
       "    <tr>\n",
       "      <th>29</th>\n",
       "      <td>MMRAcquisitionAuctionAveragePrice</td>\n",
       "      <td>1.691331e-11</td>\n",
       "    </tr>\n",
       "  </tbody>\n",
       "</table>\n",
       "</div>"
      ],
      "text/plain": [
       "                             features        pvalues\n",
       "0                            VNST2_TX   9.986326e-04\n",
       "1                            VNST2_FL   1.361433e-11\n",
       "2                        Size2_MEDIUM   7.404835e-02\n",
       "3       MMRCurrentAuctionAveragePrice   1.509125e-20\n",
       "4    MMRAcquisitionRetailAveragePrice   2.669854e-20\n",
       "5                            VNST2_NC   8.350856e-03\n",
       "6                       PRIMEUNIT_YES   6.462910e-02\n",
       "7                            VehBCost   6.309317e-13\n",
       "8                         Size2_LARGE   3.193190e-03\n",
       "9        MMRCurrentRetailAveragePrice   5.604160e-18\n",
       "10                                CAB   8.751524e-04\n",
       "11                Transmission_MANUAL   4.824449e-81\n",
       "12                              SEDAN   1.793552e-03\n",
       "13                              Trim2   1.082425e-13\n",
       "14                       AUCGUART_RED   1.085633e-03\n",
       "15                    Auction_MANHEIM   4.954345e-04\n",
       "16                   WheelType_Covers   1.360730e-03\n",
       "17                     Make2_CHRYSLER   6.764752e-10\n",
       "18                             VehOdo   2.282280e-28\n",
       "19                    WheelType_Alloy   3.042108e-01\n",
       "20                  Transmission_AUTO   3.525953e-73\n",
       "21                         VehicleAge  2.110028e-144\n",
       "22                                SUV   2.251174e-10\n",
       "23                              WAGON   2.696199e-13\n",
       "24                     AUCGUART_GREEN   8.251143e-49\n",
       "25                            UTILITY   1.243504e-09\n",
       "26                              COUPE   2.973986e-06\n",
       "27                      Auction_ADESA   1.980905e-06\n",
       "28                        CONVERTIBLE   1.955252e-04\n",
       "29  MMRAcquisitionAuctionAveragePrice   1.691331e-11"
      ]
     },
     "execution_count": 358,
     "metadata": {},
     "output_type": "execute_result"
    }
   ],
   "source": [
    "#return p-values of coefficients from fitted model:\n",
    "pvalues=result.pvalues.to_frame()\n",
    "pvalues.reset_index(inplace=True)\n",
    "pvalues.columns=['features','pvalues']\n",
    "pvalues"
   ]
  },
  {
   "cell_type": "code",
   "execution_count": 95,
   "metadata": {
    "collapsed": false
   },
   "outputs": [
    {
     "data": {
      "text/plain": [
       "[]"
      ]
     },
     "execution_count": 95,
     "metadata": {},
     "output_type": "execute_result"
    }
   ],
   "source": [
    "#drop all the features with p-value <=0.2 and refit the model with updated set of features:\n",
    "cols_to_drop=pvalues.loc[pvalues['pvalues']>0.2, 'features'].tolist()\n",
    "cols_to_drop"
   ]
  },
  {
   "cell_type": "code",
   "execution_count": 365,
   "metadata": {
    "collapsed": false
   },
   "outputs": [
    {
     "data": {
      "text/html": [
       "<div>\n",
       "<table border=\"1\" class=\"dataframe\">\n",
       "  <thead>\n",
       "    <tr style=\"text-align: right;\">\n",
       "      <th></th>\n",
       "      <th>0</th>\n",
       "    </tr>\n",
       "  </thead>\n",
       "  <tbody>\n",
       "    <tr>\n",
       "      <th>MMRCurrentAuctionAveragePrice</th>\n",
       "      <td>8.850284</td>\n",
       "    </tr>\n",
       "    <tr>\n",
       "      <th>MMRAcquisitionRetailAveragePrice</th>\n",
       "      <td>6.608677</td>\n",
       "    </tr>\n",
       "    <tr>\n",
       "      <th>PRIMEUNIT_YES</th>\n",
       "      <td>1.138138</td>\n",
       "    </tr>\n",
       "    <tr>\n",
       "      <th>VehBCost</th>\n",
       "      <td>-5.161594</td>\n",
       "    </tr>\n",
       "    <tr>\n",
       "      <th>MMRCurrentRetailAveragePrice</th>\n",
       "      <td>-6.441099</td>\n",
       "    </tr>\n",
       "    <tr>\n",
       "      <th>Transmission_MANUAL</th>\n",
       "      <td>-3.942836</td>\n",
       "    </tr>\n",
       "    <tr>\n",
       "      <th>AUCGUART_RED</th>\n",
       "      <td>-1.719425</td>\n",
       "    </tr>\n",
       "    <tr>\n",
       "      <th>VehOdo</th>\n",
       "      <td>1.362925</td>\n",
       "    </tr>\n",
       "    <tr>\n",
       "      <th>Transmission_AUTO</th>\n",
       "      <td>-3.572703</td>\n",
       "    </tr>\n",
       "    <tr>\n",
       "      <th>VehicleAge</th>\n",
       "      <td>2.933382</td>\n",
       "    </tr>\n",
       "    <tr>\n",
       "      <th>AUCGUART_GREEN</th>\n",
       "      <td>-1.605598</td>\n",
       "    </tr>\n",
       "    <tr>\n",
       "      <th>MMRAcquisitionAuctionAveragePrice</th>\n",
       "      <td>-6.844735</td>\n",
       "    </tr>\n",
       "  </tbody>\n",
       "</table>\n",
       "</div>"
      ],
      "text/plain": [
       "                                          0\n",
       "MMRCurrentAuctionAveragePrice      8.850284\n",
       "MMRAcquisitionRetailAveragePrice   6.608677\n",
       "PRIMEUNIT_YES                      1.138138\n",
       "VehBCost                          -5.161594\n",
       "MMRCurrentRetailAveragePrice      -6.441099\n",
       "Transmission_MANUAL               -3.942836\n",
       "AUCGUART_RED                      -1.719425\n",
       "VehOdo                             1.362925\n",
       "Transmission_AUTO                 -3.572703\n",
       "VehicleAge                         2.933382\n",
       "AUCGUART_GREEN                    -1.605598\n",
       "MMRAcquisitionAuctionAveragePrice -6.844735"
      ]
     },
     "execution_count": 365,
     "metadata": {},
     "output_type": "execute_result"
    }
   ],
   "source": [
    "#return coefficients from fitted model with coefficient absolute value greater than 1\n",
    "coefs=result.params.to_frame()\n",
    "coefs[abs(coefs[0])>1]"
   ]
  },
  {
   "cell_type": "markdown",
   "metadata": {},
   "source": [
    "## Model Accuracy Testing \n",
    "\n",
    "- Accuracy score: What percent of your predictions were correct? \n",
    "- AUROC \n",
    "- Confusion Metrix\n",
    "- Sensitivity/Recall: What percent of the positive cases did you catch? \n",
    "- Specificity: What percent of the negative cases did you catch?\n",
    "- Precision: What percent of positive predictions were correct? \n",
    "- F1 Score\n",
    "- MCC score"
   ]
  },
  {
   "cell_type": "code",
   "execution_count": 97,
   "metadata": {
    "collapsed": false
   },
   "outputs": [
    {
     "name": "stderr",
     "output_type": "stream",
     "text": [
      "C:\\Users\\Dingding\\Anaconda3\\lib\\site-packages\\ipykernel\\__main__.py:6: SettingWithCopyWarning: \n",
      "A value is trying to be set on a copy of a slice from a DataFrame.\n",
      "Try using .loc[row_indexer,col_indexer] = value instead\n",
      "\n",
      "See the caveats in the documentation: http://pandas.pydata.org/pandas-docs/stable/indexing.html#indexing-view-versus-copy\n"
     ]
    }
   ],
   "source": [
    "#note sm.Logit() takes dataframe instead of series, need to convert label into dataframe instead of pd.Series\n",
    "#all input should be in float64:\n",
    "label_test=cols_to_model_test['IsBadBuy'].astype(float) #response variable\n",
    "del cols_to_model_test['IsBadBuy']\n",
    "for col in cols_to_model_test.columns:\n",
    "    cols_to_model_test[col]=cols_to_model_test[col].astype(float)   "
   ]
  },
  {
   "cell_type": "code",
   "execution_count": 98,
   "metadata": {
    "collapsed": false
   },
   "outputs": [
    {
     "data": {
      "text/plain": [
       "0.87792171868516899"
      ]
     },
     "execution_count": 98,
     "metadata": {},
     "output_type": "execute_result"
    }
   ],
   "source": [
    "from sklearn import metrics\n",
    "from sklearn.metrics import accuracy_score\n",
    "accuracy_score(label_test, result.predict(cols_to_model_test).round()) #0.878\n",
    "#note arbitrary accuracy rate by predicting every buy as good buy gives accuracy rate of 87.7%. Need to at least be better than this"
   ]
  },
  {
   "cell_type": "code",
   "execution_count": 99,
   "metadata": {
    "collapsed": false
   },
   "outputs": [
    {
     "data": {
      "image/png": "[encoded data removed]",
      "text/plain": [
       "<matplotlib.figure.Figure at 0x9368d68>"
      ]
     },
     "metadata": {},
     "output_type": "display_data"
    }
   ],
   "source": [
    "#ROC & AUC\n",
    "# calculate the fpr and tpr for all thresholds of the classification\n",
    "from sklearn import metrics\n",
    "from sklearn.metrics import roc_curve, auc\n",
    "fpr, tpr, threshold = metrics.roc_curve(label_test, result.predict(cols_to_model_test))\n",
    "roc_auc = metrics.auc(fpr, tpr)\n",
    "\n",
    "import matplotlib.pyplot as plt\n",
    "plt.title('Receiver Operating Characteristic - Logistic Regression Model')\n",
    "plt.plot(fpr, tpr, 'b', label = 'AUC = %0.2f' % roc_auc)\n",
    "plt.legend(loc = 'lower right')\n",
    "plt.plot([0, 1], [0, 1],'r--')\n",
    "plt.xlim([0, 1])\n",
    "plt.ylim([0, 1])\n",
    "plt.ylabel('True Positive Rate')\n",
    "plt.xlabel('False Positive Rate')\n",
    "plt.show()\n",
    "\n",
    "#according to AUROC, it seems like a cut-off probability for bad buy at 0.5 is a good start"
   ]
  },
  {
   "cell_type": "code",
   "execution_count": 114,
   "metadata": {
    "collapsed": false
   },
   "outputs": [
    {
     "name": "stdout",
     "output_type": "stream",
     "text": [
      "[[19035    11]\n",
      " [ 2637     8]]\n"
     ]
    },
    {
     "data": {
      "text/html": [
       "<div>\n",
       "<table border=\"1\" class=\"dataframe\">\n",
       "  <thead>\n",
       "    <tr style=\"text-align: right;\">\n",
       "      <th></th>\n",
       "      <th>predicted_0</th>\n",
       "      <th>predicted_1</th>\n",
       "    </tr>\n",
       "  </thead>\n",
       "  <tbody>\n",
       "    <tr>\n",
       "      <th>actual_0</th>\n",
       "      <td>19035</td>\n",
       "      <td>11</td>\n",
       "    </tr>\n",
       "    <tr>\n",
       "      <th>actual_1</th>\n",
       "      <td>2637</td>\n",
       "      <td>8</td>\n",
       "    </tr>\n",
       "  </tbody>\n",
       "</table>\n",
       "</div>"
      ],
      "text/plain": [
       "          predicted_0  predicted_1\n",
       "actual_0        19035           11\n",
       "actual_1         2637            8"
      ]
     },
     "execution_count": 114,
     "metadata": {},
     "output_type": "execute_result"
    }
   ],
   "source": [
    "#create confusion metrix and put into dataframe:\n",
    "print(metrics.confusion_matrix(label_test,result.predict(cols_to_model_test).round()))\n",
    "\n",
    "confusion_metrix=pd.DataFrame(metrics.confusion_matrix(label_test,result.predict(cols_to_model_test).round()))\n",
    "confusion_metrix.columns=['predicted_0','predicted_1'] #rename columns\n",
    "confusion_metrix.index=['actual_0','actual_1'] #reset index value\n",
    "\n",
    "TP=confusion_metrix.iloc[0,0]\n",
    "FP=confusion_metrix.iloc[1,0]\n",
    "FN=confusion_metrix.iloc[0,1]\n",
    "TN=confusion_metrix.iloc[1,1]\n",
    "confusion_metrix"
   ]
  },
  {
   "cell_type": "code",
   "execution_count": 115,
   "metadata": {
    "collapsed": false
   },
   "outputs": [
    {
     "name": "stdout",
     "output_type": "stream",
     "text": [
      "Model prediction recall is 0.9994224509083272.\n"
     ]
    }
   ],
   "source": [
    "#Recall/Sensitivity\n",
    "recall=TP/(TP+FN)\n",
    "print(\"Model prediction recall is {}.\".format(recall))"
   ]
  },
  {
   "cell_type": "code",
   "execution_count": 123,
   "metadata": {
    "collapsed": false
   },
   "outputs": [
    {
     "name": "stdout",
     "output_type": "stream",
     "text": [
      "Model prediction specificity is 0.0030245746691871457.\n"
     ]
    }
   ],
   "source": [
    "#Specificity\n",
    "specificity = TN/(TN+FP)\n",
    "print(\"Model prediction specificity is {}.\".format(specificity))"
   ]
  },
  {
   "cell_type": "code",
   "execution_count": 124,
   "metadata": {
    "collapsed": false
   },
   "outputs": [
    {
     "name": "stdout",
     "output_type": "stream",
     "text": [
      "Model prediction precision is 0.8783222591362126.\n"
     ]
    }
   ],
   "source": [
    "#Precision\n",
    "precision=TP/(TP+FP)\n",
    "print(\"Model prediction precision is {}.\".format(precision))"
   ]
  },
  {
   "cell_type": "code",
   "execution_count": 126,
   "metadata": {
    "collapsed": false
   },
   "outputs": [
    {
     "name": "stdout",
     "output_type": "stream",
     "text": [
      "Model prediction f1 score is 0.9349673363131784.\n"
     ]
    }
   ],
   "source": [
    "#F1 score\n",
    "f1_score=2*(precision*recall)/(precision+recall)\n",
    "print(\"Model prediction f1 score is {}.\".format(f1_score))"
   ]
  },
  {
   "cell_type": "markdown",
   "metadata": {},
   "source": [
    "## Holdout Testing Data Prediction\n",
    "\n",
    "- read in preprocessed holdout_test.csv data"
   ]
  },
  {
   "cell_type": "code",
   "execution_count": 178,
   "metadata": {
    "collapsed": false
   },
   "outputs": [
    {
     "data": {
      "text/plain": [
       "(48707, 94)"
      ]
     },
     "execution_count": 178,
     "metadata": {},
     "output_type": "execute_result"
    }
   ],
   "source": [
    "holdout=pd.read_csv('holdout_test.csv')\n",
    "holdout.shape"
   ]
  },
  {
   "cell_type": "code",
   "execution_count": 187,
   "metadata": {
    "collapsed": false
   },
   "outputs": [
    {
     "data": {
      "text/plain": [
       "(30,)"
      ]
     },
     "execution_count": 187,
     "metadata": {},
     "output_type": "execute_result"
    }
   ],
   "source": [
    "#select features\n",
    "cols_to_model_holdout=holdout[list(set(initial_cols_to_model)-set(cols_to_drop))]\n",
    "cols_to_model_holdout.columns.shape #same dimension as training data excluding 'IsBadBuy'"
   ]
  },
  {
   "cell_type": "code",
   "execution_count": 189,
   "metadata": {
    "collapsed": false
   },
   "outputs": [],
   "source": [
    "pred_holdout=result.predict(cols_to_model_holdout).round()"
   ]
  },
  {
   "cell_type": "code",
   "execution_count": 191,
   "metadata": {
    "collapsed": false
   },
   "outputs": [
    {
     "data": {
      "text/plain": [
       "0.0    48454\n",
       "1.0      253\n",
       "dtype: int64"
      ]
     },
     "execution_count": 191,
     "metadata": {},
     "output_type": "execute_result"
    }
   ],
   "source": [
    "pred_holdout.value_counts()"
   ]
  },
  {
   "cell_type": "code",
   "execution_count": 196,
   "metadata": {
    "collapsed": false
   },
   "outputs": [
    {
     "data": {
      "text/html": [
       "<div>\n",
       "<table border=\"1\" class=\"dataframe\">\n",
       "  <thead>\n",
       "    <tr style=\"text-align: right;\">\n",
       "      <th></th>\n",
       "      <th>RefId</th>\n",
       "      <th>IsBadBuy</th>\n",
       "    </tr>\n",
       "  </thead>\n",
       "  <tbody>\n",
       "    <tr>\n",
       "      <th>0</th>\n",
       "      <td>73015</td>\n",
       "      <td>0.0</td>\n",
       "    </tr>\n",
       "    <tr>\n",
       "      <th>1</th>\n",
       "      <td>73016</td>\n",
       "      <td>0.0</td>\n",
       "    </tr>\n",
       "    <tr>\n",
       "      <th>2</th>\n",
       "      <td>73017</td>\n",
       "      <td>0.0</td>\n",
       "    </tr>\n",
       "    <tr>\n",
       "      <th>3</th>\n",
       "      <td>73018</td>\n",
       "      <td>0.0</td>\n",
       "    </tr>\n",
       "    <tr>\n",
       "      <th>4</th>\n",
       "      <td>73019</td>\n",
       "      <td>0.0</td>\n",
       "    </tr>\n",
       "    <tr>\n",
       "      <th>5</th>\n",
       "      <td>73020</td>\n",
       "      <td>0.0</td>\n",
       "    </tr>\n",
       "    <tr>\n",
       "      <th>6</th>\n",
       "      <td>73021</td>\n",
       "      <td>0.0</td>\n",
       "    </tr>\n",
       "    <tr>\n",
       "      <th>7</th>\n",
       "      <td>73022</td>\n",
       "      <td>0.0</td>\n",
       "    </tr>\n",
       "    <tr>\n",
       "      <th>8</th>\n",
       "      <td>73023</td>\n",
       "      <td>0.0</td>\n",
       "    </tr>\n",
       "    <tr>\n",
       "      <th>9</th>\n",
       "      <td>73024</td>\n",
       "      <td>0.0</td>\n",
       "    </tr>\n",
       "  </tbody>\n",
       "</table>\n",
       "</div>"
      ],
      "text/plain": [
       "   RefId  IsBadBuy\n",
       "0  73015       0.0\n",
       "1  73016       0.0\n",
       "2  73017       0.0\n",
       "3  73018       0.0\n",
       "4  73019       0.0\n",
       "5  73020       0.0\n",
       "6  73021       0.0\n",
       "7  73022       0.0\n",
       "8  73023       0.0\n",
       "9  73024       0.0"
      ]
     },
     "execution_count": 196,
     "metadata": {},
     "output_type": "execute_result"
    }
   ],
   "source": [
    "submit_holdout=pd.concat([holdout['RefId'],pred_holdout], axis=1)\n",
    "submit_holdout.columns=['RefId','IsBadBuy']\n",
    "submit_holdout.head(10)"
   ]
  },
  {
   "cell_type": "code",
   "execution_count": 197,
   "metadata": {
    "collapsed": false
   },
   "outputs": [],
   "source": [
    "#write to local csv file for submission\n",
    "submit_holdout.to_csv('prediction_submit.csv', sep=',', header=True, index=False)"
   ]
  }
 ],
 "metadata": {
  "anaconda-cloud": {},
  "kernelspec": {
   "display_name": "Python [conda root]",
   "language": "python",
   "name": "conda-root-py"
  },
  "language_info": {
   "codemirror_mode": {
    "name": "ipython",
    "version": 3
   },
   "file_extension": ".py",
   "mimetype": "text/x-python",
   "name": "python",
   "nbconvert_exporter": "python",
   "pygments_lexer": "ipython3",
   "version": "3.5.2"
  }
 },
 "nbformat": 4,
 "nbformat_minor": 1
}
